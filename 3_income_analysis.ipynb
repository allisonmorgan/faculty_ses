{
 "cells": [
  {
   "cell_type": "code",
   "execution_count": 1,
   "metadata": {},
   "outputs": [
    {
     "name": "stderr",
     "output_type": "stream",
     "text": [
      "/Users/allisonmorgan/Dropbox/Faculty Social Mobility/code/plot_utils.py:39: MatplotlibDeprecationWarning: Support for setting the 'text.latex.preamble' or 'pgf.preamble' rcParam to a list of strings is deprecated since 3.3 and will be removed two minor releases later; set it to a single string instead.\n",
      "  rcParams['text.latex.preamble'] = [\n"
     ]
    }
   ],
   "source": [
    "import statsmodels.formula.api as smf\n",
    "import matplotlib.pyplot as plt\n",
    "import statsmodels.api as sm\n",
    "import scipy.stats as sps\n",
    "import pandas as pd\n",
    "import numpy as np\n",
    "import csv\n",
    "\n",
    "import plot_utils\n",
    "from util import INST_NAME_ALIASES, binomial_confidence_interval, load_in_data\n",
    "from scipy.stats import mannwhitneyu, ks_2samp, chisquare, chi2_contingency, ttest_ind, ranksums\n",
    "\n",
    "from matplotlib import rcParams\n",
    "rcParams['font.family'] = 'sans-serif'\n",
    "rcParams['font.sans-serif'] = ['Helvetica']\n",
    "\n",
    "%matplotlib inline"
   ]
  },
  {
   "cell_type": "code",
   "execution_count": 2,
   "metadata": {},
   "outputs": [],
   "source": [
    "respondents_zip = pd.read_csv('../data/coded_data/data_linked.csv', low_memory=False)"
   ]
  },
  {
   "cell_type": "code",
   "execution_count": 3,
   "metadata": {},
   "outputs": [
    {
     "data": {
      "text/html": [
       "<div>\n",
       "<style scoped>\n",
       "    .dataframe tbody tr th:only-of-type {\n",
       "        vertical-align: middle;\n",
       "    }\n",
       "\n",
       "    .dataframe tbody tr th {\n",
       "        vertical-align: top;\n",
       "    }\n",
       "\n",
       "    .dataframe thead th {\n",
       "        text-align: right;\n",
       "    }\n",
       "</style>\n",
       "<table border=\"1\" class=\"dataframe\">\n",
       "  <thead>\n",
       "    <tr style=\"text-align: right;\">\n",
       "      <th></th>\n",
       "      <th>YEAR</th>\n",
       "      <th>STATE</th>\n",
       "      <th>ZIPCODE</th>\n",
       "      <th>N</th>\n",
       "      <th>AGI</th>\n",
       "      <th>INFADJ_AGI</th>\n",
       "      <th>AVG_ADJ_AGI</th>\n",
       "    </tr>\n",
       "  </thead>\n",
       "  <tbody>\n",
       "    <tr>\n",
       "      <th>0</th>\n",
       "      <td>1998</td>\n",
       "      <td>AL</td>\n",
       "      <td>35000</td>\n",
       "      <td>32.0</td>\n",
       "      <td>629.0</td>\n",
       "      <td>1005.0</td>\n",
       "      <td>31.406250</td>\n",
       "    </tr>\n",
       "    <tr>\n",
       "      <th>1</th>\n",
       "      <td>1998</td>\n",
       "      <td>AL</td>\n",
       "      <td>35001</td>\n",
       "      <td>84.0</td>\n",
       "      <td>1744.0</td>\n",
       "      <td>2786.0</td>\n",
       "      <td>33.166667</td>\n",
       "    </tr>\n",
       "    <tr>\n",
       "      <th>2</th>\n",
       "      <td>1998</td>\n",
       "      <td>AL</td>\n",
       "      <td>35004</td>\n",
       "      <td>2537.0</td>\n",
       "      <td>94515.0</td>\n",
       "      <td>151002.0</td>\n",
       "      <td>59.519905</td>\n",
       "    </tr>\n",
       "    <tr>\n",
       "      <th>3</th>\n",
       "      <td>1998</td>\n",
       "      <td>AL</td>\n",
       "      <td>35005</td>\n",
       "      <td>3772.0</td>\n",
       "      <td>121373.0</td>\n",
       "      <td>193912.0</td>\n",
       "      <td>51.408271</td>\n",
       "    </tr>\n",
       "    <tr>\n",
       "      <th>4</th>\n",
       "      <td>1998</td>\n",
       "      <td>AL</td>\n",
       "      <td>35006</td>\n",
       "      <td>1352.0</td>\n",
       "      <td>41937.0</td>\n",
       "      <td>67001.0</td>\n",
       "      <td>49.556953</td>\n",
       "    </tr>\n",
       "  </tbody>\n",
       "</table>\n",
       "</div>"
      ],
      "text/plain": [
       "   YEAR STATE ZIPCODE       N       AGI  INFADJ_AGI  AVG_ADJ_AGI\n",
       "0  1998    AL   35000    32.0     629.0      1005.0    31.406250\n",
       "1  1998    AL   35001    84.0    1744.0      2786.0    33.166667\n",
       "2  1998    AL   35004  2537.0   94515.0    151002.0    59.519905\n",
       "3  1998    AL   35005  3772.0  121373.0    193912.0    51.408271\n",
       "4  1998    AL   35006  1352.0   41937.0     67001.0    49.556953"
      ]
     },
     "execution_count": 3,
     "metadata": {},
     "output_type": "execute_result"
    }
   ],
   "source": [
    "# https://www.irs.gov/statistics/soi-tax-stats-individual-income-tax-statistics-2017-zip-code-data-soi\n",
    "irs_data = pd.read_csv('../data/irs_data/yearly_irs_zip_data.csv', dtype={'ZIPCODE': str}, low_memory=False)\n",
    "irs_data = irs_data[irs_data['ZIPCODE'].notna()]\n",
    "\n",
    "irs_data['INFADJ_AGI'] = irs_data['INFADJ_AGI'].astype(float)\n",
    "irs_data['AGI'] = irs_data['AGI'].astype(float)\n",
    "irs_data['N'] = irs_data['N'].astype(float)\n",
    "irs_data['AVG_ADJ_AGI'] = irs_data['INFADJ_AGI']/irs_data['N']\n",
    "\n",
    "irs_data.head()"
   ]
  },
  {
   "cell_type": "code",
   "execution_count": 4,
   "metadata": {},
   "outputs": [
    {
     "data": {
      "text/plain": [
       "(count    3922.000000\n",
       " mean       93.842207\n",
       " std        99.223747\n",
       " min        16.744898\n",
       " 25%        55.308129\n",
       " 50%        72.719625\n",
       " 75%       102.112986\n",
       " max      4550.650000\n",
       " Name: avg_income, dtype: float64,\n",
       " True     4087\n",
       " False    3922\n",
       " Name: avg_income, dtype: int64)"
      ]
     },
     "execution_count": 4,
     "metadata": {},
     "output_type": "execute_result"
    }
   ],
   "source": [
    "respondents_zip['avg_income'].describe(), respondents_zip['avg_income'].isna().value_counts()"
   ]
  },
  {
   "cell_type": "code",
   "execution_count": 5,
   "metadata": {},
   "outputs": [
    {
     "data": {
      "image/png": "[encoded data removed]",
      "text/plain": [
       "<Figure size 432x288 with 1 Axes>"
      ]
     },
     "metadata": {
      "needs_background": "light"
     },
     "output_type": "display_data"
    }
   ],
   "source": [
    "data = []\n",
    "for year_start, year_end in [(1960, 1970), (1970, 1980), (1980, 2000)]:\n",
    "    indices = np.where((np.array(respondents_zip['age_coded']) >= year_start) & \\\n",
    "                       (np.array(respondents_zip['age_coded']) < year_end))\n",
    "    data.append(respondents_zip.loc[indices, 'avg_income'].dropna().values)\n",
    "\n",
    "fig, ax = plt.subplots(1, 1, figsize=plot_utils.SINGLE_FIG_SIZE)\n",
    "parts = ax.violinplot(data, showmeans = True, showextrema = True, showmedians = False, points=150)\n",
    "for pc in parts['bodies']:\n",
    "    pc.set_facecolor(plot_utils.ACCENT_COLOR)\n",
    "    pc.set_edgecolor('black')\n",
    "    pc.set_alpha(0.75)\n",
    "\n",
    "# Make all the violin statistics marks red:\n",
    "for partname in ('cbars','cmins','cmaxes','cmeans'):\n",
    "    vp = parts[partname]\n",
    "    vp.set_edgecolor('black')\n",
    "    vp.set_linewidth(1)\n",
    "    \n",
    "ax.set_xticks([1, 2, 3])\n",
    "ax.set_xticklabels(['1960-1970', '1970-1980', '1980-2000'])\n",
    "ax.set_ylim(0, 350)\n",
    "\n",
    "ax.set_ylabel('Income Distribution\\n(Thousands of Dollars)')\n",
    "ax.set_xlabel('Faculty Year of Birth')\n",
    "\n",
    "plot_utils.finalize(ax)\n",
    "plt.tight_layout()\n",
    "plt.savefig('../plots/income_generation.pdf', dpi=1000)"
   ]
  },
  {
   "cell_type": "code",
   "execution_count": 6,
   "metadata": {},
   "outputs": [
    {
     "name": "stdout",
     "output_type": "stream",
     "text": [
      "Business (71.5491142657603, 89.44113044572327, 2.6345051553181547)\n",
      "History (77.93311876056953, 106.43750291960085, 3.6061545753311903)\n",
      "Computer Science (75.4572256019559, 94.92343635206345, 3.4162209925504046)\n",
      "Anthropology (72.23180375490881, 95.77959013965152, 5.542637429038246)\n",
      "Physics and/or Astronomy (72.62528873145192, 92.82890319059894, 3.244115809306423)\n",
      "Psychology (71.07815674115257, 95.42480120473027, 7.417357676233072)\n",
      "Sociology (66.88000174542915, 81.29220218899641, 2.7413293988205814)\n",
      "Biology (71.28872593950504, 91.2328917300102, 2.5108398675395143)\n"
     ]
    }
   ],
   "source": [
    "# Differences by discipline?\n",
    "for dept in respondents_zip.likely_department.dropna().unique():\n",
    "    print(dept, \n",
    "          (respondents_zip[respondents_zip.likely_department == dept]['avg_income'].median(),\n",
    "           respondents_zip[respondents_zip.likely_department == dept]['avg_income'].mean(), \n",
    "           respondents_zip[respondents_zip.likely_department == dept]['avg_income'].sem()))"
   ]
  },
  {
   "cell_type": "code",
   "execution_count": 7,
   "metadata": {},
   "outputs": [
    {
     "data": {
      "image/png": "[encoded data removed]",
      "text/plain": [
       "<Figure size 432x288 with 1 Axes>"
      ]
     },
     "metadata": {
      "needs_background": "light"
     },
     "output_type": "display_data"
    }
   ],
   "source": [
    "fig, ax = plt.subplots(1, 1, figsize=plot_utils.SINGLE_FIG_SIZE)\n",
    "\n",
    "income_range = np.arange(1000, 200000, 1000)\n",
    "unique_depts = respondents_zip.likely_department.dropna().unique()\n",
    "category_colors = plt.get_cmap('Dark2')(np.linspace(0, 1, len(unique_depts)))\n",
    "for i, dept in enumerate(unique_depts):\n",
    "    dept_income = respondents_zip[respondents_zip.likely_department == dept]['avg_income'].dropna()*1000\n",
    "    ax.hist(dept_income, bins=50, label=dept, density=True, alpha=0.3, color=category_colors[i])\n",
    "    ax.plot(income_range, sps.gaussian_kde(dept_income, bw_method=0.2).pdf(income_range), label=None, \n",
    "            color=category_colors[i], linestyle='--')\n",
    "\n",
    "plt.xlim([0, 200000])\n",
    "plt.xticks([0, 50000, 100000, 150000, 200000], \n",
    "           [r'$0K$', r'$50K$', r'$100K$', r'$150K$', r'$200K$'])\n",
    "\n",
    "plt.legend(fontsize=plot_utils.LEGEND_SIZE-2, frameon=False, ncol=1)\n",
    "plot_utils.finalize(ax)\n",
    "plt.tight_layout()\n",
    "plt.savefig('../plots/disc_income_distribution.pdf', dpi=500) # This is an ugly plot"
   ]
  },
  {
   "cell_type": "code",
   "execution_count": 8,
   "metadata": {},
   "outputs": [
    {
     "name": "stdout",
     "output_type": "stream",
     "text": [
      "547 295\n"
     ]
    },
    {
     "data": {
      "text/plain": [
       "Ttest_indResult(statistic=5.551063851312313, pvalue=3.809733244831442e-08)"
      ]
     },
     "execution_count": 8,
     "metadata": {},
     "output_type": "execute_result"
    }
   ],
   "source": [
    "print(\n",
    "    len(respondents_zip[respondents_zip.likely_department == 'History']['avg_income'].dropna()),\n",
    "    len(respondents_zip[respondents_zip.likely_department == 'Sociology']['avg_income'].dropna())\n",
    ")\n",
    "ttest_ind(\n",
    "    respondents_zip[respondents_zip.likely_department == 'History']['avg_income'].dropna(),\n",
    "    respondents_zip[respondents_zip.likely_department == 'Sociology']['avg_income'].dropna(),\n",
    "    equal_var=False\n",
    ")"
   ]
  },
  {
   "cell_type": "code",
   "execution_count": 9,
   "metadata": {},
   "outputs": [
    {
     "data": {
      "text/html": [
       "<table class=\"simpletable\">\n",
       "<caption>OLS Regression Results</caption>\n",
       "<tr>\n",
       "  <th>Dep. Variable:</th>       <td>avg_income</td>    <th>  R-squared:         </th> <td>   0.000</td> \n",
       "</tr>\n",
       "<tr>\n",
       "  <th>Model:</th>                   <td>OLS</td>       <th>  Adj. R-squared:    </th> <td>   0.000</td> \n",
       "</tr>\n",
       "<tr>\n",
       "  <th>Method:</th>             <td>Least Squares</td>  <th>  F-statistic:       </th> <td>   1.125</td> \n",
       "</tr>\n",
       "<tr>\n",
       "  <th>Date:</th>             <td>Fri, 18 Mar 2022</td> <th>  Prob (F-statistic):</th>  <td> 0.289</td>  \n",
       "</tr>\n",
       "<tr>\n",
       "  <th>Time:</th>                 <td>16:35:24</td>     <th>  Log-Likelihood:    </th> <td> -23555.</td> \n",
       "</tr>\n",
       "<tr>\n",
       "  <th>No. Observations:</th>      <td>  3915</td>      <th>  AIC:               </th> <td>4.711e+04</td>\n",
       "</tr>\n",
       "<tr>\n",
       "  <th>Df Residuals:</th>          <td>  3913</td>      <th>  BIC:               </th> <td>4.713e+04</td>\n",
       "</tr>\n",
       "<tr>\n",
       "  <th>Df Model:</th>              <td>     1</td>      <th>                     </th>     <td> </td>    \n",
       "</tr>\n",
       "<tr>\n",
       "  <th>Covariance Type:</th>      <td>nonrobust</td>    <th>                     </th>     <td> </td>    \n",
       "</tr>\n",
       "</table>\n",
       "<table class=\"simpletable\">\n",
       "<tr>\n",
       "      <td></td>         <th>coef</th>     <th>std err</th>      <th>t</th>      <th>P>|t|</th>  <th>[0.025</th>    <th>0.975]</th>  \n",
       "</tr>\n",
       "<tr>\n",
       "  <th>Intercept</th> <td> -190.5801</td> <td>  268.280</td> <td>   -0.710</td> <td> 0.478</td> <td> -716.563</td> <td>  335.403</td>\n",
       "</tr>\n",
       "<tr>\n",
       "  <th>age_coded</th> <td>    0.1446</td> <td>    0.136</td> <td>    1.060</td> <td> 0.289</td> <td>   -0.123</td> <td>    0.412</td>\n",
       "</tr>\n",
       "</table>\n",
       "<table class=\"simpletable\">\n",
       "<tr>\n",
       "  <th>Omnibus:</th>       <td>9464.743</td> <th>  Durbin-Watson:     </th>   <td>   1.985</td>   \n",
       "</tr>\n",
       "<tr>\n",
       "  <th>Prob(Omnibus):</th>  <td> 0.000</td>  <th>  Jarque-Bera (JB):  </th> <td>176996155.573</td>\n",
       "</tr>\n",
       "<tr>\n",
       "  <th>Skew:</th>           <td>24.468</td>  <th>  Prob(JB):          </th>   <td>    0.00</td>   \n",
       "</tr>\n",
       "<tr>\n",
       "  <th>Kurtosis:</th>      <td>1043.500</td> <th>  Cond. No.          </th>   <td>3.33e+05</td>   \n",
       "</tr>\n",
       "</table><br/><br/>Notes:<br/>[1] Standard Errors assume that the covariance matrix of the errors is correctly specified.<br/>[2] The condition number is large, 3.33e+05. This might indicate that there are<br/>strong multicollinearity or other numerical problems."
      ],
      "text/plain": [
       "<class 'statsmodels.iolib.summary.Summary'>\n",
       "\"\"\"\n",
       "                            OLS Regression Results                            \n",
       "==============================================================================\n",
       "Dep. Variable:             avg_income   R-squared:                       0.000\n",
       "Model:                            OLS   Adj. R-squared:                  0.000\n",
       "Method:                 Least Squares   F-statistic:                     1.125\n",
       "Date:                Fri, 18 Mar 2022   Prob (F-statistic):              0.289\n",
       "Time:                        16:35:24   Log-Likelihood:                -23555.\n",
       "No. Observations:                3915   AIC:                         4.711e+04\n",
       "Df Residuals:                    3913   BIC:                         4.713e+04\n",
       "Df Model:                           1                                         \n",
       "Covariance Type:            nonrobust                                         \n",
       "==============================================================================\n",
       "                 coef    std err          t      P>|t|      [0.025      0.975]\n",
       "------------------------------------------------------------------------------\n",
       "Intercept   -190.5801    268.280     -0.710      0.478    -716.563     335.403\n",
       "age_coded      0.1446      0.136      1.060      0.289      -0.123       0.412\n",
       "==============================================================================\n",
       "Omnibus:                     9464.743   Durbin-Watson:                   1.985\n",
       "Prob(Omnibus):                  0.000   Jarque-Bera (JB):        176996155.573\n",
       "Skew:                          24.468   Prob(JB):                         0.00\n",
       "Kurtosis:                    1043.500   Cond. No.                     3.33e+05\n",
       "==============================================================================\n",
       "\n",
       "Notes:\n",
       "[1] Standard Errors assume that the covariance matrix of the errors is correctly specified.\n",
       "[2] The condition number is large, 3.33e+05. This might indicate that there are\n",
       "strong multicollinearity or other numerical problems.\n",
       "\"\"\""
      ]
     },
     "execution_count": 9,
     "metadata": {},
     "output_type": "execute_result"
    }
   ],
   "source": [
    "res = smf.ols('avg_income ~ age_coded', data=respondents_zip[['age_coded', 'avg_income']]).fit()\n",
    "res.summary()"
   ]
  },
  {
   "cell_type": "markdown",
   "metadata": {},
   "source": [
    "Perhaps, we should sample from the zipcode data however many responses we have to generate a plausible null distribution. Instead, we are just looping over all possible zips with income data from 1998, the year most faculty are matched on."
   ]
  },
  {
   "cell_type": "code",
   "execution_count": 10,
   "metadata": {},
   "outputs": [
    {
     "name": "stdout",
     "output_type": "stream",
     "text": [
      "40114 40117\n"
     ]
    },
    {
     "data": {
      "text/html": [
       "<div>\n",
       "<style scoped>\n",
       "    .dataframe tbody tr th:only-of-type {\n",
       "        vertical-align: middle;\n",
       "    }\n",
       "\n",
       "    .dataframe tbody tr th {\n",
       "        vertical-align: top;\n",
       "    }\n",
       "\n",
       "    .dataframe thead th {\n",
       "        text-align: right;\n",
       "    }\n",
       "</style>\n",
       "<table border=\"1\" class=\"dataframe\">\n",
       "  <thead>\n",
       "    <tr style=\"text-align: right;\">\n",
       "      <th></th>\n",
       "      <th>YEAR</th>\n",
       "      <th>STATE</th>\n",
       "      <th>ZIPCODE</th>\n",
       "      <th>N</th>\n",
       "      <th>AGI</th>\n",
       "      <th>INFADJ_AGI</th>\n",
       "      <th>AVG_ADJ_AGI</th>\n",
       "    </tr>\n",
       "  </thead>\n",
       "  <tbody>\n",
       "    <tr>\n",
       "      <th>0</th>\n",
       "      <td>1998</td>\n",
       "      <td>AL</td>\n",
       "      <td>35000</td>\n",
       "      <td>32.0</td>\n",
       "      <td>629.0</td>\n",
       "      <td>1005.0</td>\n",
       "      <td>31.406250</td>\n",
       "    </tr>\n",
       "    <tr>\n",
       "      <th>1</th>\n",
       "      <td>1998</td>\n",
       "      <td>AL</td>\n",
       "      <td>35001</td>\n",
       "      <td>84.0</td>\n",
       "      <td>1744.0</td>\n",
       "      <td>2786.0</td>\n",
       "      <td>33.166667</td>\n",
       "    </tr>\n",
       "    <tr>\n",
       "      <th>2</th>\n",
       "      <td>1998</td>\n",
       "      <td>AL</td>\n",
       "      <td>35004</td>\n",
       "      <td>2537.0</td>\n",
       "      <td>94515.0</td>\n",
       "      <td>151002.0</td>\n",
       "      <td>59.519905</td>\n",
       "    </tr>\n",
       "    <tr>\n",
       "      <th>3</th>\n",
       "      <td>1998</td>\n",
       "      <td>AL</td>\n",
       "      <td>35005</td>\n",
       "      <td>3772.0</td>\n",
       "      <td>121373.0</td>\n",
       "      <td>193912.0</td>\n",
       "      <td>51.408271</td>\n",
       "    </tr>\n",
       "    <tr>\n",
       "      <th>4</th>\n",
       "      <td>1998</td>\n",
       "      <td>AL</td>\n",
       "      <td>35006</td>\n",
       "      <td>1352.0</td>\n",
       "      <td>41937.0</td>\n",
       "      <td>67001.0</td>\n",
       "      <td>49.556953</td>\n",
       "    </tr>\n",
       "  </tbody>\n",
       "</table>\n",
       "</div>"
      ],
      "text/plain": [
       "   YEAR STATE ZIPCODE       N       AGI  INFADJ_AGI  AVG_ADJ_AGI\n",
       "0  1998    AL   35000    32.0     629.0      1005.0    31.406250\n",
       "1  1998    AL   35001    84.0    1744.0      2786.0    33.166667\n",
       "2  1998    AL   35004  2537.0   94515.0    151002.0    59.519905\n",
       "3  1998    AL   35005  3772.0  121373.0    193912.0    51.408271\n",
       "4  1998    AL   35006  1352.0   41937.0     67001.0    49.556953"
      ]
     },
     "execution_count": 10,
     "metadata": {},
     "output_type": "execute_result"
    }
   ],
   "source": [
    "irs_data_98 = irs_data[(irs_data['YEAR'] == 1998) & ~irs_data['INFADJ_AGI'].isna()]\n",
    "print(len(irs_data_98['ZIPCODE'].unique()), len(irs_data_98['ZIPCODE']))\n",
    "irs_data_98.head()"
   ]
  },
  {
   "cell_type": "code",
   "execution_count": 11,
   "metadata": {},
   "outputs": [
    {
     "name": "stdout",
     "output_type": "stream",
     "text": [
      "3922 121419870 121419870.0 69382.83210976899 61.21520794879827 93842.20735054971\n"
     ]
    }
   ],
   "source": [
    "# Null model: consider a weighted average across all zip codes? \n",
    "N_total_returns = irs_data_98['N'].sum()\n",
    "professor_pop_income = respondents_zip['avg_income'].dropna().values*1000\n",
    "# total_income_by_zip = irs_data_98['INFADJ_AGI'].values*1000\n",
    "# weights = irs_data_98['N']/N_total_returns\n",
    "# general_pop_income = weights*total_income_by_zip\n",
    "\n",
    "general_pop_income = []\n",
    "for _, row in irs_data_98.iterrows():\n",
    "    general_pop_income.extend(np.repeat(1000.0*row['AVG_ADJ_AGI'], row['N']))\n",
    "    \n",
    "print(len(professor_pop_income), len(general_pop_income), N_total_returns, \n",
    "      pd.Series(general_pop_income).mean(), \n",
    "      irs_data_98['AVG_ADJ_AGI'].mean(), \n",
    "      pd.Series(professor_pop_income).mean())"
   ]
  },
  {
   "cell_type": "code",
   "execution_count": 12,
   "metadata": {},
   "outputs": [],
   "source": [
    "# from sklearn.model_selection import GridSearchCV\n",
    "# from sklearn.neighbors import KernelDensity\n",
    "\n",
    "# grid = GridSearchCV(KernelDensity(), {'bandwidth': np.linspace(0.1, 1.0, 30)}, cv=5, n_jobs=-2, verbose=True)\n",
    "# grid.fit(np.array(professor_pop_income).reshape(-1, 1))\n",
    "# print(grid.best_params_)\n",
    "\n",
    "# grid = GridSearchCV(KernelDensity(), {'bandwidth': np.linspace(0.1, 1.0, 30)}, cv=5, n_jobs=-2, verbose=True)\n",
    "# grid.fit(np.array(general_pop_income).reshape(-1, 1))\n",
    "# print(grid.best_params_)"
   ]
  },
  {
   "cell_type": "code",
   "execution_count": 13,
   "metadata": {},
   "outputs": [],
   "source": [
    "sampled_gen_pop = pd.Series(general_pop_income).sample(frac=0.01)"
   ]
  },
  {
   "cell_type": "code",
   "execution_count": 14,
   "metadata": {},
   "outputs": [],
   "source": [
    "income_range = np.arange(1000, 200000, 1000)\n",
    "\n",
    "# gen_pop_smoothed = sm.nonparametric.KDEUnivariate(general_pop_income).fit()\n",
    "# fac_pop_smoothed = sm.nonparametric.KDEUnivariate(professor_pop_income).fit()\n",
    "\n",
    "# gen_pop_smoothed = sps.gaussian_kde(pd.Series(general_pop_income), bw_method=0.001).pdf(income_range)\n",
    "gen_pop_smoothed = sps.gaussian_kde(sampled_gen_pop, bw_method=0.1).pdf(income_range)\n",
    "fac_pop_smoothed = sps.gaussian_kde(professor_pop_income, bw_method=0.1).pdf(income_range)"
   ]
  },
  {
   "cell_type": "code",
   "execution_count": 15,
   "metadata": {},
   "outputs": [
    {
     "data": {
      "image/png": "[encoded data removed]",
      "text/plain": [
       "<Figure size 432x288 with 1 Axes>"
      ]
     },
     "metadata": {
      "needs_background": "light"
     },
     "output_type": "display_data"
    }
   ],
   "source": [
    "fig, ax = plt.subplots(ncols=1, nrows=1, figsize=plot_utils.SINGLE_FIG_SIZE)\n",
    "\n",
    "# plt.hist(general_pop_income, alpha=0.75, color='black', label='Across all zipcodes', density=True, bins=500)\n",
    "plt.fill_between(income_range, gen_pop_smoothed, color='black', label=None, alpha=0.5, zorder=2)\n",
    "plt.axvline(x=np.median(general_pop_income), ymin=0, ymax=0.82, color='black', \n",
    "            label='Median across all ZIP codes', zorder=1)\n",
    "\n",
    "# plt.hist(professor_pop_income, alpha=0.75, color=plot_utils.ACCENT_COLOR, label='Faculty responses', \n",
    "#         density=True, bins=300)\n",
    "plt.fill_between(income_range, fac_pop_smoothed, color=plot_utils.ACCENT_COLOR, label=None,\n",
    "                 alpha=0.5, zorder=4)\n",
    "plt.axvline(x=np.median(professor_pop_income), ymin=0, ymax=0.5, color=plot_utils.ACCENT_COLOR, \n",
    "            label='Median faculty responses', zorder=3)\n",
    "\n",
    "plt.legend(fontsize=plot_utils.LEGEND_SIZE, frameon=False)\n",
    "plt.ylim(bottom=0)\n",
    "plt.xlim([0, 200000])\n",
    "plt.xticks([0, 50000, 100000, 150000, 200000], \n",
    "           [r'$0K$', r'$50K$', r'$100K$', r'$150K$', r'$200K$'])\n",
    "plt.ticklabel_format(style='sci', axis='y', scilimits=(0,0))\n",
    "\n",
    "plot_utils.finalize(ax)\n",
    "plt.xlabel('Average Income', size=plot_utils.LABEL_SIZE)\n",
    "plt.ylabel('Fraction of Observations', size=plot_utils.LABEL_SIZE)\n",
    "#plt.title('Distribution of Average Income by Zip Code', size=plot_utils.LABEL_SIZE)\n",
    "\n",
    "plt.tight_layout()\n",
    "plot_utils.finalize(ax)\n",
    "plt.savefig('../plots/income_distribution.pdf', dpi=1000)"
   ]
  },
  {
   "cell_type": "code",
   "execution_count": 16,
   "metadata": {},
   "outputs": [
    {
     "name": "stdout",
     "output_type": "stream",
     "text": [
      "3922 121419870\n",
      "93.84220735054971 69.382832109769\n",
      "72.71962507056486 58.857875116495805 0.2355122390441867\n"
     ]
    }
   ],
   "source": [
    "print(len(professor_pop_income), len(general_pop_income))\n",
    "print(np.mean(professor_pop_income)/1000, np.mean(general_pop_income)/1000)\n",
    "print(np.median(professor_pop_income)/1000, np.median(general_pop_income)/1000, \n",
    "      (np.median(professor_pop_income) - np.median(general_pop_income))/np.median(general_pop_income))"
   ]
  },
  {
   "cell_type": "code",
   "execution_count": 17,
   "metadata": {},
   "outputs": [
    {
     "data": {
      "text/plain": [
       "Ttest_indResult(statistic=15.437683854169608, pvalue=3.0557518817325367e-52)"
      ]
     },
     "execution_count": 17,
     "metadata": {},
     "output_type": "execute_result"
    }
   ],
   "source": [
    "ttest_ind(professor_pop_income, general_pop_income, equal_var=False)"
   ]
  },
  {
   "cell_type": "code",
   "execution_count": 18,
   "metadata": {},
   "outputs": [
    {
     "data": {
      "text/plain": [
       "MannwhitneyuResult(statistic=170029082930.0, pvalue=1.8582571156438055e-211)"
      ]
     },
     "execution_count": 18,
     "metadata": {},
     "output_type": "execute_result"
    }
   ],
   "source": [
    "mannwhitneyu(professor_pop_income, general_pop_income)"
   ]
  },
  {
   "cell_type": "code",
   "execution_count": 19,
   "metadata": {},
   "outputs": [
    {
     "data": {
      "text/plain": [
       "121423792"
      ]
     },
     "execution_count": 19,
     "metadata": {},
     "output_type": "execute_result"
    }
   ],
   "source": [
    "len(professor_pop_income) + len(general_pop_income)"
   ]
  },
  {
   "cell_type": "markdown",
   "metadata": {},
   "source": [
    "### Home ownership"
   ]
  },
  {
   "cell_type": "code",
   "execution_count": 20,
   "metadata": {},
   "outputs": [
    {
     "data": {
      "text/plain": [
       "We owned a home during all or most of the first 18 years of my life     0.757639\n",
       "We rented a home during all or most of the first 18 years of my life    0.133668\n",
       "We rented and owned a home about equally often                          0.108693\n",
       "Name: house, dtype: float64"
      ]
     },
     "execution_count": 20,
     "metadata": {},
     "output_type": "execute_result"
    }
   ],
   "source": [
    "respondents_zip['house'].replace({\"Don’t know\": np.nan}).value_counts(normalize=True)"
   ]
  },
  {
   "cell_type": "markdown",
   "metadata": {},
   "source": [
    "### Income versus age and current institutional prestige"
   ]
  },
  {
   "cell_type": "code",
   "execution_count": 21,
   "metadata": {},
   "outputs": [
    {
     "name": "stdout",
     "output_type": "stream",
     "text": [
      "(264.44151469531494, 33.111111111111114) (39.58582669514958, 33.35) Ttest_indResult(statistic=-0.6324435990741402, pvalue=0.5272904188464196)\n"
     ]
    },
    {
     "data": {
      "image/png": "[encoded data removed]",
      "text/plain": [
       "<Figure size 432x288 with 1 Axes>"
      ]
     },
     "metadata": {
      "needs_background": "light"
     },
     "output_type": "display_data"
    }
   ],
   "source": [
    "high_income = respondents_zip[respondents_zip['avg_income'] >= respondents_zip['avg_income'].quantile(0.9)]\n",
    "high_income_years = (high_income['Tenure Track Year'] - high_income['age_coded']).dropna()\n",
    "high_income_years.hist(alpha=0.5, color=plot_utils.ACCENT_COLOR)\n",
    "\n",
    "low_income = respondents_zip[respondents_zip['avg_income'] < respondents_zip['avg_income'].quantile(0.1)]\n",
    "low_income_years = (low_income['Tenure Track Year'] - low_income['age_coded']).dropna()\n",
    "low_income_years.hist(alpha=0.5, color=plot_utils.ALMOST_BLACK, grid=False)\n",
    "\n",
    "print((high_income['avg_income'].mean(), high_income_years.mean()),\n",
    "      (low_income['avg_income'].mean(), low_income_years.mean()), \n",
    "      ttest_ind(high_income_years, low_income_years, equal_var=False))"
   ]
  },
  {
   "cell_type": "code",
   "execution_count": 22,
   "metadata": {},
   "outputs": [],
   "source": [
    "# respondents_zip[['rank_scaled','likely_department']]"
   ]
  },
  {
   "cell_type": "code",
   "execution_count": 23,
   "metadata": {},
   "outputs": [
    {
     "data": {
      "image/png": "[encoded data removed]",
      "text/plain": [
       "<Figure size 432x288 with 1 Axes>"
      ]
     },
     "metadata": {
      "needs_background": "light"
     },
     "output_type": "display_data"
    }
   ],
   "source": [
    "fig, ax = plt.subplots(ncols=1, nrows=1, figsize=plot_utils.SINGLE_FIG_SIZE)\n",
    "\n",
    "plt.scatter(respondents_zip['rank_scaled'], respondents_zip['avg_income'], color=plot_utils.ACCENT_COLOR)\n",
    "\n",
    "plt.xlabel('Prestige', size=plot_utils.LABEL_SIZE)\n",
    "plt.ylabel('Average Income (Thousands)', size=plot_utils.LABEL_SIZE)\n",
    "\n",
    "plt.tight_layout()\n",
    "plot_utils.finalize(ax)\n",
    "plt.savefig('../plots/prestige_vs_income.pdf', dpi=1000)"
   ]
  },
  {
   "cell_type": "code",
   "execution_count": 24,
   "metadata": {},
   "outputs": [
    {
     "data": {
      "text/html": [
       "<table class=\"simpletable\">\n",
       "<caption>OLS Regression Results</caption>\n",
       "<tr>\n",
       "  <th>Dep. Variable:</th>       <td>rank_scaled</td>   <th>  R-squared:         </th> <td>   0.006</td> \n",
       "</tr>\n",
       "<tr>\n",
       "  <th>Model:</th>                   <td>OLS</td>       <th>  Adj. R-squared:    </th> <td>   0.006</td> \n",
       "</tr>\n",
       "<tr>\n",
       "  <th>Method:</th>             <td>Least Squares</td>  <th>  F-statistic:       </th> <td>   23.21</td> \n",
       "</tr>\n",
       "<tr>\n",
       "  <th>Date:</th>             <td>Fri, 18 Mar 2022</td> <th>  Prob (F-statistic):</th> <td>1.51e-06</td> \n",
       "</tr>\n",
       "<tr>\n",
       "  <th>Time:</th>                 <td>16:38:45</td>     <th>  Log-Likelihood:    </th> <td> -16772.</td> \n",
       "</tr>\n",
       "<tr>\n",
       "  <th>No. Observations:</th>      <td>  3553</td>      <th>  AIC:               </th> <td>3.355e+04</td>\n",
       "</tr>\n",
       "<tr>\n",
       "  <th>Df Residuals:</th>          <td>  3551</td>      <th>  BIC:               </th> <td>3.356e+04</td>\n",
       "</tr>\n",
       "<tr>\n",
       "  <th>Df Model:</th>              <td>     1</td>      <th>                     </th>     <td> </td>    \n",
       "</tr>\n",
       "<tr>\n",
       "  <th>Covariance Type:</th>      <td>nonrobust</td>    <th>                     </th>     <td> </td>    \n",
       "</tr>\n",
       "</table>\n",
       "<table class=\"simpletable\">\n",
       "<tr>\n",
       "       <td></td>         <th>coef</th>     <th>std err</th>      <th>t</th>      <th>P>|t|</th>  <th>[0.025</th>    <th>0.975]</th>  \n",
       "</tr>\n",
       "<tr>\n",
       "  <th>Intercept</th>  <td>   39.9399</td> <td>    0.621</td> <td>   64.359</td> <td> 0.000</td> <td>   38.723</td> <td>   41.157</td>\n",
       "</tr>\n",
       "<tr>\n",
       "  <th>avg_income</th> <td>   -0.0215</td> <td>    0.004</td> <td>   -4.817</td> <td> 0.000</td> <td>   -0.030</td> <td>   -0.013</td>\n",
       "</tr>\n",
       "</table>\n",
       "<table class=\"simpletable\">\n",
       "<tr>\n",
       "  <th>Omnibus:</th>       <td>339.498</td> <th>  Durbin-Watson:     </th> <td>   1.904</td>\n",
       "</tr>\n",
       "<tr>\n",
       "  <th>Prob(Omnibus):</th> <td> 0.000</td>  <th>  Jarque-Bera (JB):  </th> <td> 268.538</td>\n",
       "</tr>\n",
       "<tr>\n",
       "  <th>Skew:</th>          <td> 0.583</td>  <th>  Prob(JB):          </th> <td>4.87e-59</td>\n",
       "</tr>\n",
       "<tr>\n",
       "  <th>Kurtosis:</th>      <td> 2.325</td>  <th>  Cond. No.          </th> <td>    190.</td>\n",
       "</tr>\n",
       "</table><br/><br/>Notes:<br/>[1] Standard Errors assume that the covariance matrix of the errors is correctly specified."
      ],
      "text/plain": [
       "<class 'statsmodels.iolib.summary.Summary'>\n",
       "\"\"\"\n",
       "                            OLS Regression Results                            \n",
       "==============================================================================\n",
       "Dep. Variable:            rank_scaled   R-squared:                       0.006\n",
       "Model:                            OLS   Adj. R-squared:                  0.006\n",
       "Method:                 Least Squares   F-statistic:                     23.21\n",
       "Date:                Fri, 18 Mar 2022   Prob (F-statistic):           1.51e-06\n",
       "Time:                        16:38:45   Log-Likelihood:                -16772.\n",
       "No. Observations:                3553   AIC:                         3.355e+04\n",
       "Df Residuals:                    3551   BIC:                         3.356e+04\n",
       "Df Model:                           1                                         \n",
       "Covariance Type:            nonrobust                                         \n",
       "==============================================================================\n",
       "                 coef    std err          t      P>|t|      [0.025      0.975]\n",
       "------------------------------------------------------------------------------\n",
       "Intercept     39.9399      0.621     64.359      0.000      38.723      41.157\n",
       "avg_income    -0.0215      0.004     -4.817      0.000      -0.030      -0.013\n",
       "==============================================================================\n",
       "Omnibus:                      339.498   Durbin-Watson:                   1.904\n",
       "Prob(Omnibus):                  0.000   Jarque-Bera (JB):              268.538\n",
       "Skew:                           0.583   Prob(JB):                     4.87e-59\n",
       "Kurtosis:                       2.325   Cond. No.                         190.\n",
       "==============================================================================\n",
       "\n",
       "Notes:\n",
       "[1] Standard Errors assume that the covariance matrix of the errors is correctly specified.\n",
       "\"\"\""
      ]
     },
     "execution_count": 24,
     "metadata": {},
     "output_type": "execute_result"
    }
   ],
   "source": [
    "results = smf.ols('rank_scaled ~ avg_income', \n",
    "                  data = respondents_zip[['rank_scaled', 'avg_income']]).fit()\n",
    "results.summary()"
   ]
  },
  {
   "cell_type": "code",
   "execution_count": 25,
   "metadata": {},
   "outputs": [
    {
     "data": {
      "text/html": [
       "<div>\n",
       "<style scoped>\n",
       "    .dataframe tbody tr th:only-of-type {\n",
       "        vertical-align: middle;\n",
       "    }\n",
       "\n",
       "    .dataframe tbody tr th {\n",
       "        vertical-align: top;\n",
       "    }\n",
       "\n",
       "    .dataframe thead tr th {\n",
       "        text-align: left;\n",
       "    }\n",
       "\n",
       "    .dataframe thead tr:last-of-type th {\n",
       "        text-align: right;\n",
       "    }\n",
       "</style>\n",
       "<table border=\"1\" class=\"dataframe\">\n",
       "  <thead>\n",
       "    <tr>\n",
       "      <th></th>\n",
       "      <th colspan=\"3\" halign=\"left\">rank_scaled</th>\n",
       "      <th colspan=\"3\" halign=\"left\">avg_income</th>\n",
       "    </tr>\n",
       "    <tr>\n",
       "      <th></th>\n",
       "      <th>mean</th>\n",
       "      <th>sem</th>\n",
       "      <th>count</th>\n",
       "      <th>mean</th>\n",
       "      <th>sem</th>\n",
       "      <th>count</th>\n",
       "    </tr>\n",
       "    <tr>\n",
       "      <th>inst_prestige</th>\n",
       "      <th></th>\n",
       "      <th></th>\n",
       "      <th></th>\n",
       "      <th></th>\n",
       "      <th></th>\n",
       "      <th></th>\n",
       "    </tr>\n",
       "  </thead>\n",
       "  <tbody>\n",
       "    <tr>\n",
       "      <th>It is as prestigious as I currently deserve</th>\n",
       "      <td>35.746045</td>\n",
       "      <td>0.399745</td>\n",
       "      <td>4410</td>\n",
       "      <td>92.343621</td>\n",
       "      <td>1.273764</td>\n",
       "      <td>2701</td>\n",
       "    </tr>\n",
       "    <tr>\n",
       "      <th>It is less prestigious than I currently deserve</th>\n",
       "      <td>51.594964</td>\n",
       "      <td>0.756680</td>\n",
       "      <td>1136</td>\n",
       "      <td>90.506506</td>\n",
       "      <td>2.612329</td>\n",
       "      <td>653</td>\n",
       "    </tr>\n",
       "    <tr>\n",
       "      <th>It is more prestigious than I currently deserve</th>\n",
       "      <td>21.585981</td>\n",
       "      <td>1.164244</td>\n",
       "      <td>374</td>\n",
       "      <td>97.532291</td>\n",
       "      <td>5.074937</td>\n",
       "      <td>239</td>\n",
       "    </tr>\n",
       "  </tbody>\n",
       "</table>\n",
       "</div>"
      ],
      "text/plain": [
       "                                                rank_scaled                  \\\n",
       "                                                       mean       sem count   \n",
       "inst_prestige                                                                 \n",
       "It is as prestigious as I currently deserve       35.746045  0.399745  4410   \n",
       "It is less prestigious than I currently deserve   51.594964  0.756680  1136   \n",
       "It is more prestigious than I currently deserve   21.585981  1.164244   374   \n",
       "\n",
       "                                                avg_income                  \n",
       "                                                      mean       sem count  \n",
       "inst_prestige                                                               \n",
       "It is as prestigious as I currently deserve      92.343621  1.273764  2701  \n",
       "It is less prestigious than I currently deserve  90.506506  2.612329   653  \n",
       "It is more prestigious than I currently deserve  97.532291  5.074937   239  "
      ]
     },
     "execution_count": 25,
     "metadata": {},
     "output_type": "execute_result"
    }
   ],
   "source": [
    "respondents_zip[['rank_scaled', 'inst_prestige', 'avg_income']].groupby(['inst_prestige']).agg(\n",
    "    ['mean', 'sem', 'count'])"
   ]
  },
  {
   "cell_type": "code",
   "execution_count": 26,
   "metadata": {},
   "outputs": [
    {
     "data": {
      "text/plain": [
       "It is as prestigious as I currently deserve        0.742456\n",
       "It is less prestigious than I currently deserve    0.193795\n",
       "It is more prestigious than I currently deserve    0.063748\n",
       "Name: inst_prestige, dtype: float64"
      ]
     },
     "execution_count": 26,
     "metadata": {},
     "output_type": "execute_result"
    }
   ],
   "source": [
    "respondents_zip[respondents_zip['gender_ans'] == 'Female']['inst_prestige'].value_counts(normalize=True)"
   ]
  },
  {
   "cell_type": "code",
   "execution_count": 27,
   "metadata": {},
   "outputs": [
    {
     "data": {
      "text/plain": [
       "It is as prestigious as I currently deserve        0.736091\n",
       "It is less prestigious than I currently deserve    0.206338\n",
       "It is more prestigious than I currently deserve    0.057571\n",
       "Name: inst_prestige, dtype: float64"
      ]
     },
     "execution_count": 27,
     "metadata": {},
     "output_type": "execute_result"
    }
   ],
   "source": [
    "respondents_zip[respondents_zip['gender_ans'] == 'Male']['inst_prestige'].value_counts(normalize=True)"
   ]
  },
  {
   "cell_type": "markdown",
   "metadata": {},
   "source": [
    "### How does this compare to other professions?"
   ]
  },
  {
   "cell_type": "code",
   "execution_count": 28,
   "metadata": {},
   "outputs": [],
   "source": [
    "# From data / doctors / msq2017report.pdf (question 35, p. 23)\n",
    "doctors_parents_income = {\n",
    "    r'$<$ 25K': 6.2, \n",
    "    r'$<$ 50K': 8.2, \n",
    "    r'$<$ 75K': 10.4, \n",
    "    r'$<$ 100K': 9.7, \n",
    "    r'$<$ 150K': 19.8, \n",
    "    r'$<$ 200K': 12.5, \n",
    "    r'$<$ 250K': 10.6, \n",
    "    r'$<$ 300K': 5.1, \n",
    "    r'$<$ 400K': 7.1, \n",
    "    r'$<$ 500K': 3.6, \n",
    "    '500K+': 6.9\n",
    "}"
   ]
  },
  {
   "cell_type": "code",
   "execution_count": 29,
   "metadata": {},
   "outputs": [],
   "source": [
    "respondents_avg_income_binned = {\n",
    "    r'$<$ 25K': 0, r'$<$ 50K': 0, r'$<$ 75K': 0, r'$<$ 100K': 0, r'$<$ 150K': 0, r'$<$ 200K': 0, \n",
    "    r'$<$ 250K': 0, r'$<$ 300K': 0, r'$<$ 400K': 0, r'$<$ 500K': 0, '500K+': 0\n",
    "}\n",
    "for income_amt in respondents_zip['avg_income']:\n",
    "    income_amt_abbrev = income_amt\n",
    "    if income_amt_abbrev < 25:\n",
    "        respondents_avg_income_binned[r'$<$ 25K'] += 1\n",
    "    elif 25 <= income_amt_abbrev < 50:\n",
    "        respondents_avg_income_binned[r'$<$ 50K'] += 1\n",
    "    elif 50 <= income_amt_abbrev < 75:\n",
    "        respondents_avg_income_binned[r'$<$ 75K'] += 1\n",
    "    elif 75 <= income_amt_abbrev < 100:\n",
    "        respondents_avg_income_binned[r'$<$ 100K'] += 1\n",
    "    elif 100 <= income_amt_abbrev < 150:\n",
    "        respondents_avg_income_binned[r'$<$ 150K'] += 1\n",
    "    elif 150 <= income_amt_abbrev < 199:\n",
    "        respondents_avg_income_binned[r'$<$ 200K'] += 1\n",
    "    elif 200 <= income_amt_abbrev < 250:\n",
    "        respondents_avg_income_binned[r'$<$ 250K'] += 1\n",
    "    elif 250 <= income_amt_abbrev < 300:\n",
    "        respondents_avg_income_binned[r'$<$ 300K'] += 1\n",
    "    elif 300 <= income_amt_abbrev < 400:\n",
    "        respondents_avg_income_binned[r'$<$ 400K'] += 1\n",
    "    elif 400 <= income_amt_abbrev < 500:\n",
    "        respondents_avg_income_binned[r'$<$ 500K'] += 1\n",
    "    elif income_amt_abbrev >= 500:\n",
    "        respondents_avg_income_binned['500K+'] += 1\n",
    "#     else:\n",
    "#         print(income_amt)"
   ]
  },
  {
   "cell_type": "code",
   "execution_count": 30,
   "metadata": {},
   "outputs": [
    {
     "data": {
      "text/plain": [
       "({'$<$ 25K': 10,\n",
       "  '$<$ 50K': 590,\n",
       "  '$<$ 75K': 1467,\n",
       "  '$<$ 100K': 812,\n",
       "  '$<$ 150K': 597,\n",
       "  '$<$ 200K': 192,\n",
       "  '$<$ 250K': 113,\n",
       "  '$<$ 300K': 63,\n",
       "  '$<$ 400K': 47,\n",
       "  '$<$ 500K': 18,\n",
       "  '500K+': 13},\n",
       " 3922)"
      ]
     },
     "execution_count": 30,
     "metadata": {},
     "output_type": "execute_result"
    }
   ],
   "source": [
    "respondents_avg_income_binned, sum(respondents_avg_income_binned.values())"
   ]
  },
  {
   "cell_type": "code",
   "execution_count": 31,
   "metadata": {},
   "outputs": [],
   "source": [
    "denom = sum(respondents_avg_income_binned.values())\n",
    "for key, value in respondents_avg_income_binned.items():\n",
    "    respondents_avg_income_binned[key] = 100.0*float(value)/denom"
   ]
  },
  {
   "cell_type": "code",
   "execution_count": 32,
   "metadata": {},
   "outputs": [
    {
     "data": {
      "text/plain": [
       "{'$<$ 25K': 0.25497195308516063,\n",
       " '$<$ 50K': 15.043345232024476,\n",
       " '$<$ 75K': 37.40438551759306,\n",
       " '$<$ 100K': 20.703722590515042,\n",
       " '$<$ 150K': 15.22182559918409,\n",
       " '$<$ 200K': 4.8954614992350844,\n",
       " '$<$ 250K': 2.881183069862315,\n",
       " '$<$ 300K': 1.606323304436512,\n",
       " '$<$ 400K': 1.198368179500255,\n",
       " '$<$ 500K': 0.4589495155532891,\n",
       " '500K+': 0.3314635390107088}"
      ]
     },
     "execution_count": 32,
     "metadata": {},
     "output_type": "execute_result"
    }
   ],
   "source": [
    "respondents_avg_income_binned"
   ]
  },
  {
   "cell_type": "code",
   "execution_count": 33,
   "metadata": {},
   "outputs": [
    {
     "name": "stderr",
     "output_type": "stream",
     "text": [
      "<ipython-input-33-caae2065b6c2>:9: UserWarning: FixedFormatter should only be used together with FixedLocator\n",
      "  ax.axes.set_xticklabels(list(doctors_parents_income.keys()))\n"
     ]
    },
    {
     "data": {
      "image/png": "[encoded data removed]",
      "text/plain": [
       "<Figure size 432x288 with 1 Axes>"
      ]
     },
     "metadata": {
      "needs_background": "light"
     },
     "output_type": "display_data"
    }
   ],
   "source": [
    "fig, ax = plt.subplots(1, 1, figsize=plot_utils.SINGLE_FIG_SIZE)\n",
    "\n",
    "width = 0.35\n",
    "plt.bar(np.arange(len(respondents_avg_income_binned))-width/2, respondents_avg_income_binned.values(), width,\n",
    "        label = 'professors', color=plot_utils.ACCENT_COLOR)\n",
    "plt.bar(np.arange(len(doctors_parents_income))+width/2, doctors_parents_income.values(), width,\n",
    "        label = 'doctors', color=plot_utils.ALMOST_BLACK)\n",
    "\n",
    "ax.axes.set_xticklabels(list(doctors_parents_income.keys()))\n",
    "ax.set_ylabel(\"Percent of Responses\")\n",
    "ax.set_xlabel(\"Parents' Income Level\")\n",
    "\n",
    "plot_utils.finalize(ax)\n",
    "ax.tick_params(axis='both', which='major', labelsize=10)\n",
    "\n",
    "plt.legend(frameon=False)\n",
    "plt.tight_layout()\n",
    "plt.savefig('../plots/compare_income_distribution.pdf', dpi=1000)\n",
    "plt.show()"
   ]
  },
  {
   "cell_type": "code",
   "execution_count": 34,
   "metadata": {},
   "outputs": [
    {
     "data": {
      "text/plain": [
       "(100.09999999999998, 100.0)"
      ]
     },
     "execution_count": 34,
     "metadata": {},
     "output_type": "execute_result"
    }
   ],
   "source": [
    "sum(doctors_parents_income.values()), sum(respondents_avg_income_binned.values())"
   ]
  },
  {
   "cell_type": "code",
   "execution_count": 35,
   "metadata": {},
   "outputs": [
    {
     "data": {
      "text/plain": [
       "(49.483854087689636,\n",
       " 3.32044186953283e-07,\n",
       " 10,\n",
       " array([[ 3.22587304, 11.61586468, 23.89024763, 15.19426416, 17.50216172,\n",
       "          8.69338406,  6.73722292,  3.35148591,  4.14711053,  2.02846053,\n",
       "          3.61392481],\n",
       "        [ 3.22909891, 11.62748055, 23.91413788, 15.20945843, 17.51966388,\n",
       "          8.70207744,  6.74396015,  3.3548374 ,  4.15125765,  2.03048899,\n",
       "          3.61753873]]))"
      ]
     },
     "execution_count": 35,
     "metadata": {},
     "output_type": "execute_result"
    }
   ],
   "source": [
    "chi2_contingency([list(respondents_avg_income_binned.values()), \n",
    "                  list(doctors_parents_income.values())], correction=False)"
   ]
  },
  {
   "cell_type": "markdown",
   "metadata": {},
   "source": [
    "### How does income correlate with educational levels?"
   ]
  },
  {
   "cell_type": "code",
   "execution_count": 36,
   "metadata": {},
   "outputs": [
    {
     "data": {
      "text/html": [
       "<div>\n",
       "<style scoped>\n",
       "    .dataframe tbody tr th:only-of-type {\n",
       "        vertical-align: middle;\n",
       "    }\n",
       "\n",
       "    .dataframe tbody tr th {\n",
       "        vertical-align: top;\n",
       "    }\n",
       "\n",
       "    .dataframe thead th {\n",
       "        text-align: right;\n",
       "    }\n",
       "</style>\n",
       "<table border=\"1\" class=\"dataframe\">\n",
       "  <thead>\n",
       "    <tr style=\"text-align: right;\">\n",
       "      <th></th>\n",
       "      <th>count</th>\n",
       "      <th>mean</th>\n",
       "      <th>std</th>\n",
       "      <th>min</th>\n",
       "      <th>25%</th>\n",
       "      <th>50%</th>\n",
       "      <th>75%</th>\n",
       "      <th>max</th>\n",
       "    </tr>\n",
       "    <tr>\n",
       "      <th>parents_highest_edu_coded</th>\n",
       "      <th></th>\n",
       "      <th></th>\n",
       "      <th></th>\n",
       "      <th></th>\n",
       "      <th></th>\n",
       "      <th></th>\n",
       "      <th></th>\n",
       "      <th></th>\n",
       "    </tr>\n",
       "  </thead>\n",
       "  <tbody>\n",
       "    <tr>\n",
       "      <th>College: 1-3 years</th>\n",
       "      <td>333.0</td>\n",
       "      <td>75.320706</td>\n",
       "      <td>46.665728</td>\n",
       "      <td>16.744898</td>\n",
       "      <td>51.771951</td>\n",
       "      <td>63.808593</td>\n",
       "      <td>85.530989</td>\n",
       "      <td>573.519135</td>\n",
       "    </tr>\n",
       "    <tr>\n",
       "      <th>College: 4+ years</th>\n",
       "      <td>729.0</td>\n",
       "      <td>88.617301</td>\n",
       "      <td>63.437873</td>\n",
       "      <td>21.302483</td>\n",
       "      <td>56.314286</td>\n",
       "      <td>73.466067</td>\n",
       "      <td>97.891377</td>\n",
       "      <td>859.033173</td>\n",
       "    </tr>\n",
       "    <tr>\n",
       "      <th>Doctoral degree</th>\n",
       "      <td>942.0</td>\n",
       "      <td>102.541872</td>\n",
       "      <td>70.432260</td>\n",
       "      <td>23.765625</td>\n",
       "      <td>60.640338</td>\n",
       "      <td>81.318565</td>\n",
       "      <td>115.385960</td>\n",
       "      <td>859.033173</td>\n",
       "    </tr>\n",
       "    <tr>\n",
       "      <th>Elementary: 0-8 years</th>\n",
       "      <td>36.0</td>\n",
       "      <td>51.599344</td>\n",
       "      <td>19.578076</td>\n",
       "      <td>27.967213</td>\n",
       "      <td>37.551651</td>\n",
       "      <td>48.618142</td>\n",
       "      <td>56.488094</td>\n",
       "      <td>127.567617</td>\n",
       "    </tr>\n",
       "    <tr>\n",
       "      <th>High school: 1-3 years</th>\n",
       "      <td>50.0</td>\n",
       "      <td>61.511003</td>\n",
       "      <td>32.856917</td>\n",
       "      <td>31.777743</td>\n",
       "      <td>44.861858</td>\n",
       "      <td>53.665716</td>\n",
       "      <td>67.913953</td>\n",
       "      <td>233.572767</td>\n",
       "    </tr>\n",
       "    <tr>\n",
       "      <th>High school: 4 years</th>\n",
       "      <td>520.0</td>\n",
       "      <td>70.043456</td>\n",
       "      <td>51.396928</td>\n",
       "      <td>21.699909</td>\n",
       "      <td>48.500619</td>\n",
       "      <td>58.889783</td>\n",
       "      <td>76.813478</td>\n",
       "      <td>941.461538</td>\n",
       "    </tr>\n",
       "    <tr>\n",
       "      <th>Master's or professional degree</th>\n",
       "      <td>1306.0</td>\n",
       "      <td>107.228155</td>\n",
       "      <td>146.432201</td>\n",
       "      <td>21.600000</td>\n",
       "      <td>58.986656</td>\n",
       "      <td>78.966159</td>\n",
       "      <td>109.811672</td>\n",
       "      <td>4550.650000</td>\n",
       "    </tr>\n",
       "  </tbody>\n",
       "</table>\n",
       "</div>"
      ],
      "text/plain": [
       "                                  count        mean         std        min  \\\n",
       "parents_highest_edu_coded                                                    \n",
       "College: 1-3 years                333.0   75.320706   46.665728  16.744898   \n",
       "College: 4+ years                 729.0   88.617301   63.437873  21.302483   \n",
       "Doctoral degree                   942.0  102.541872   70.432260  23.765625   \n",
       "Elementary: 0-8 years              36.0   51.599344   19.578076  27.967213   \n",
       "High school: 1-3 years             50.0   61.511003   32.856917  31.777743   \n",
       "High school: 4 years              520.0   70.043456   51.396928  21.699909   \n",
       "Master's or professional degree  1306.0  107.228155  146.432201  21.600000   \n",
       "\n",
       "                                       25%        50%         75%          max  \n",
       "parents_highest_edu_coded                                                       \n",
       "College: 1-3 years               51.771951  63.808593   85.530989   573.519135  \n",
       "College: 4+ years                56.314286  73.466067   97.891377   859.033173  \n",
       "Doctoral degree                  60.640338  81.318565  115.385960   859.033173  \n",
       "Elementary: 0-8 years            37.551651  48.618142   56.488094   127.567617  \n",
       "High school: 1-3 years           44.861858  53.665716   67.913953   233.572767  \n",
       "High school: 4 years             48.500619  58.889783   76.813478   941.461538  \n",
       "Master's or professional degree  58.986656  78.966159  109.811672  4550.650000  "
      ]
     },
     "execution_count": 36,
     "metadata": {},
     "output_type": "execute_result"
    }
   ],
   "source": [
    "respondents_zip.groupby(['parents_highest_edu_coded'])['avg_income'].describe()"
   ]
  },
  {
   "cell_type": "code",
   "execution_count": 37,
   "metadata": {},
   "outputs": [
    {
     "data": {
      "text/html": [
       "<table class=\"simpletable\">\n",
       "<caption>OLS Regression Results</caption>\n",
       "<tr>\n",
       "  <th>Dep. Variable:</th>       <td>avg_income</td>    <th>  R-squared:         </th> <td>   0.022</td> \n",
       "</tr>\n",
       "<tr>\n",
       "  <th>Model:</th>                   <td>OLS</td>       <th>  Adj. R-squared:    </th> <td>   0.021</td> \n",
       "</tr>\n",
       "<tr>\n",
       "  <th>Method:</th>             <td>Least Squares</td>  <th>  F-statistic:       </th> <td>   14.68</td> \n",
       "</tr>\n",
       "<tr>\n",
       "  <th>Date:</th>             <td>Fri, 18 Mar 2022</td> <th>  Prob (F-statistic):</th> <td>1.18e-16</td> \n",
       "</tr>\n",
       "<tr>\n",
       "  <th>Time:</th>                 <td>16:39:18</td>     <th>  Log-Likelihood:    </th> <td> -23518.</td> \n",
       "</tr>\n",
       "<tr>\n",
       "  <th>No. Observations:</th>      <td>  3916</td>      <th>  AIC:               </th> <td>4.705e+04</td>\n",
       "</tr>\n",
       "<tr>\n",
       "  <th>Df Residuals:</th>          <td>  3909</td>      <th>  BIC:               </th> <td>4.709e+04</td>\n",
       "</tr>\n",
       "<tr>\n",
       "  <th>Df Model:</th>              <td>     6</td>      <th>                     </th>     <td> </td>    \n",
       "</tr>\n",
       "<tr>\n",
       "  <th>Covariance Type:</th>      <td>nonrobust</td>    <th>                     </th>     <td> </td>    \n",
       "</tr>\n",
       "</table>\n",
       "<table class=\"simpletable\">\n",
       "<tr>\n",
       "                                 <td></td>                                    <th>coef</th>     <th>std err</th>      <th>t</th>      <th>P>|t|</th>  <th>[0.025</th>    <th>0.975]</th>  \n",
       "</tr>\n",
       "<tr>\n",
       "  <th>Intercept</th>                                                       <td>   75.3207</td> <td>    5.385</td> <td>   13.988</td> <td> 0.000</td> <td>   64.764</td> <td>   85.877</td>\n",
       "</tr>\n",
       "<tr>\n",
       "  <th>C(parents_highest_edu_coded)[T.College: 4+ years]</th>               <td>   13.2966</td> <td>    6.499</td> <td>    2.046</td> <td> 0.041</td> <td>    0.555</td> <td>   26.038</td>\n",
       "</tr>\n",
       "<tr>\n",
       "  <th>C(parents_highest_edu_coded)[T.Doctoral degree]</th>                 <td>   27.2212</td> <td>    6.264</td> <td>    4.345</td> <td> 0.000</td> <td>   14.939</td> <td>   39.503</td>\n",
       "</tr>\n",
       "<tr>\n",
       "  <th>C(parents_highest_edu_coded)[T.Elementary: 0-8 years]</th>           <td>  -23.7214</td> <td>   17.239</td> <td>   -1.376</td> <td> 0.169</td> <td>  -57.520</td> <td>   10.077</td>\n",
       "</tr>\n",
       "<tr>\n",
       "  <th>C(parents_highest_edu_coded)[T.High school: 1-3 years]</th>          <td>  -13.8097</td> <td>   14.903</td> <td>   -0.927</td> <td> 0.354</td> <td>  -43.027</td> <td>   15.408</td>\n",
       "</tr>\n",
       "<tr>\n",
       "  <th>C(parents_highest_edu_coded)[T.High school: 4 years]</th>            <td>   -5.2772</td> <td>    6.896</td> <td>   -0.765</td> <td> 0.444</td> <td>  -18.798</td> <td>    8.244</td>\n",
       "</tr>\n",
       "<tr>\n",
       "  <th>C(parents_highest_edu_coded)[T.Master's or professional degree]</th> <td>   31.9074</td> <td>    6.032</td> <td>    5.290</td> <td> 0.000</td> <td>   20.081</td> <td>   43.734</td>\n",
       "</tr>\n",
       "</table>\n",
       "<table class=\"simpletable\">\n",
       "<tr>\n",
       "  <th>Omnibus:</th>       <td>9555.190</td> <th>  Durbin-Watson:     </th>   <td>   1.991</td>   \n",
       "</tr>\n",
       "<tr>\n",
       "  <th>Prob(Omnibus):</th>  <td> 0.000</td>  <th>  Jarque-Bera (JB):  </th> <td>189366151.616</td>\n",
       "</tr>\n",
       "<tr>\n",
       "  <th>Skew:</th>           <td>25.033</td>  <th>  Prob(JB):          </th>   <td>    0.00</td>   \n",
       "</tr>\n",
       "<tr>\n",
       "  <th>Kurtosis:</th>      <td>1079.133</td> <th>  Cond. No.          </th>   <td>    13.1</td>   \n",
       "</tr>\n",
       "</table><br/><br/>Notes:<br/>[1] Standard Errors assume that the covariance matrix of the errors is correctly specified."
      ],
      "text/plain": [
       "<class 'statsmodels.iolib.summary.Summary'>\n",
       "\"\"\"\n",
       "                            OLS Regression Results                            \n",
       "==============================================================================\n",
       "Dep. Variable:             avg_income   R-squared:                       0.022\n",
       "Model:                            OLS   Adj. R-squared:                  0.021\n",
       "Method:                 Least Squares   F-statistic:                     14.68\n",
       "Date:                Fri, 18 Mar 2022   Prob (F-statistic):           1.18e-16\n",
       "Time:                        16:39:18   Log-Likelihood:                -23518.\n",
       "No. Observations:                3916   AIC:                         4.705e+04\n",
       "Df Residuals:                    3909   BIC:                         4.709e+04\n",
       "Df Model:                           6                                         \n",
       "Covariance Type:            nonrobust                                         \n",
       "===================================================================================================================================\n",
       "                                                                      coef    std err          t      P>|t|      [0.025      0.975]\n",
       "-----------------------------------------------------------------------------------------------------------------------------------\n",
       "Intercept                                                          75.3207      5.385     13.988      0.000      64.764      85.877\n",
       "C(parents_highest_edu_coded)[T.College: 4+ years]                  13.2966      6.499      2.046      0.041       0.555      26.038\n",
       "C(parents_highest_edu_coded)[T.Doctoral degree]                    27.2212      6.264      4.345      0.000      14.939      39.503\n",
       "C(parents_highest_edu_coded)[T.Elementary: 0-8 years]             -23.7214     17.239     -1.376      0.169     -57.520      10.077\n",
       "C(parents_highest_edu_coded)[T.High school: 1-3 years]            -13.8097     14.903     -0.927      0.354     -43.027      15.408\n",
       "C(parents_highest_edu_coded)[T.High school: 4 years]               -5.2772      6.896     -0.765      0.444     -18.798       8.244\n",
       "C(parents_highest_edu_coded)[T.Master's or professional degree]    31.9074      6.032      5.290      0.000      20.081      43.734\n",
       "==============================================================================\n",
       "Omnibus:                     9555.190   Durbin-Watson:                   1.991\n",
       "Prob(Omnibus):                  0.000   Jarque-Bera (JB):        189366151.616\n",
       "Skew:                          25.033   Prob(JB):                         0.00\n",
       "Kurtosis:                    1079.133   Cond. No.                         13.1\n",
       "==============================================================================\n",
       "\n",
       "Notes:\n",
       "[1] Standard Errors assume that the covariance matrix of the errors is correctly specified.\n",
       "\"\"\""
      ]
     },
     "execution_count": 37,
     "metadata": {},
     "output_type": "execute_result"
    }
   ],
   "source": [
    "mod = smf.ols('avg_income ~ C(parents_highest_edu_coded)', data=respondents_zip)\n",
    "res = mod.fit()\n",
    "res.summary()"
   ]
  },
  {
   "cell_type": "code",
   "execution_count": 38,
   "metadata": {},
   "outputs": [
    {
     "name": "stdout",
     "output_type": "stream",
     "text": [
      "77.56398104265404 59.27234505614087\n"
     ]
    }
   ],
   "source": [
    "went_to_grad_school = respondents_zip.parents_highest_edu_coded.isin([\n",
    "    \"College: 4+ years\", \"Master's or professional degree\", \"Doctoral degree\"])\n",
    "\n",
    "income_went_to_grad = respondents_zip[(~respondents_zip.parents_highest_edu_coded.isna())& \n",
    "                                      went_to_grad_school]['avg_income'].dropna() \n",
    "income_did_not_grad = respondents_zip[(~respondents_zip.parents_highest_edu_coded.isna())& \n",
    "                                      ~went_to_grad_school]['avg_income'].dropna()\n",
    "\n",
    "print(income_went_to_grad.median(), income_did_not_grad.median())"
   ]
  },
  {
   "cell_type": "code",
   "execution_count": 39,
   "metadata": {},
   "outputs": [
    {
     "data": {
      "text/plain": [
       "Ttest_indResult(statistic=11.923298631755827, pvalue=3.6815502360102765e-32)"
      ]
     },
     "execution_count": 39,
     "metadata": {},
     "output_type": "execute_result"
    }
   ],
   "source": [
    "ttest_ind(income_went_to_grad, income_did_not_grad, equal_var=False)"
   ]
  },
  {
   "cell_type": "code",
   "execution_count": 40,
   "metadata": {},
   "outputs": [
    {
     "name": "stdout",
     "output_type": "stream",
     "text": [
      "3916 2977 939\n"
     ]
    },
    {
     "data": {
      "text/plain": [
       "MannwhitneyuResult(statistic=907447.0, pvalue=1.55266308875837e-59)"
      ]
     },
     "execution_count": 40,
     "metadata": {},
     "output_type": "execute_result"
    }
   ],
   "source": [
    "print(len(income_went_to_grad) + len(income_did_not_grad), len(income_went_to_grad), len(income_did_not_grad))\n",
    "mannwhitneyu(income_went_to_grad, income_did_not_grad)"
   ]
  },
  {
   "cell_type": "markdown",
   "metadata": {},
   "source": [
    "### How does this relate to racial demographics?"
   ]
  },
  {
   "cell_type": "code",
   "execution_count": 41,
   "metadata": {},
   "outputs": [],
   "source": [
    "white_prof_dist = respondents_zip[respondents_zip.white == 1]['avg_income']\n",
    "black_prof_dist = respondents_zip[respondents_zip.black == 1]['avg_income']\n",
    "hisp_prof_dist = respondents_zip[respondents_zip.hisp == 1]['avg_income']\n",
    "asian_prof_dist = respondents_zip[respondents_zip.asian == 1]['avg_income']\n",
    "native_prof_dist = respondents_zip[(respondents_zip.native == 1) | \n",
    "                                   (respondents_zip.hawaii == 1)]['avg_income']"
   ]
  },
  {
   "cell_type": "code",
   "execution_count": 42,
   "metadata": {},
   "outputs": [
    {
     "name": "stdout",
     "output_type": "stream",
     "text": [
      "white (94.78008299978163, 102.3372994424802) 3545.0\n",
      "black (71.99111981595189, 44.40643966424128) 119.0\n",
      "hisp (74.1593833648478, 46.60271302976384) 106.0\n",
      "asian (103.28681741807131, 74.72559324019817) 153.0\n",
      "native (61.96864682684891, 21.628909243781614) 29.0\n"
     ]
    }
   ],
   "source": [
    "for (key, dist) in [('white', white_prof_dist), ('black', black_prof_dist), ('hisp', hisp_prof_dist),\n",
    "                    ('asian', asian_prof_dist), ('native', native_prof_dist)]:\n",
    "    overview = dict(dist.describe())\n",
    "    print(key, (overview['mean'], overview['std']), overview['count'])"
   ]
  },
  {
   "cell_type": "code",
   "execution_count": null,
   "metadata": {},
   "outputs": [],
   "source": []
  }
 ],
 "metadata": {
  "kernelspec": {
   "display_name": "Python 3",
   "language": "python",
   "name": "python3"
  },
  "language_info": {
   "codemirror_mode": {
    "name": "ipython",
    "version": 3
   },
   "file_extension": ".py",
   "mimetype": "text/x-python",
   "name": "python",
   "nbconvert_exporter": "python",
   "pygments_lexer": "ipython3",
   "version": "3.9.1"
  }
 },
 "nbformat": 4,
 "nbformat_minor": 2
}
