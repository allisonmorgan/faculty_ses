{
 "cells": [
  {
   "cell_type": "code",
   "execution_count": 1,
   "metadata": {},
   "outputs": [
    {
     "name": "stderr",
     "output_type": "stream",
     "text": [
      "/Users/allisonmorgan/Dropbox/Faculty Social Mobility/code/plot_utils.py:40: MatplotlibDeprecationWarning: Support for setting the 'text.latex.preamble' or 'pgf.preamble' rcParam to a list of strings is deprecated since 3.3 and will be removed two minor releases later; set it to a single string instead.\n",
      "  rcParams['text.latex.preamble'] = [\n"
     ]
    }
   ],
   "source": [
    "import statsmodels.formula.api as smf\n",
    "import matplotlib.pyplot as plt\n",
    "import statsmodels.api as sm \n",
    "import scipy.stats as sps\n",
    "import seaborn as sns\n",
    "import pandas as pd\n",
    "import numpy as np\n",
    "import csv\n",
    "\n",
    "import plot_utils\n",
    "from util import INST_NAME_ALIASES, binomial_confidence_interval, load_in_data\n",
    "from scipy.stats import mannwhitneyu, ks_2samp, chisquare, chi2_contingency, ttest_ind, ranksums\n",
    "from statsmodels.stats.proportion import proportions_ztest, confint_proportions_2indep\n",
    "import statsmodels.stats.api as sms\n",
    "\n",
    "from matplotlib import ticker\n",
    "from matplotlib import rcParams\n",
    "rcParams['font.family'] = 'sans-serif'\n",
    "rcParams['font.sans-serif'] = ['Helvetica']\n",
    "\n",
    "%matplotlib inline"
   ]
  },
  {
   "cell_type": "markdown",
   "metadata": {},
   "source": [
    "Read in the data and translate columns with category mappings to numerica values."
   ]
  },
  {
   "cell_type": "code",
   "execution_count": 2,
   "metadata": {},
   "outputs": [],
   "source": [
    "respondents_zip = pd.read_csv('../data/coded_data/data_linked.csv', low_memory=False)"
   ]
  },
  {
   "cell_type": "code",
   "execution_count": 3,
   "metadata": {},
   "outputs": [],
   "source": [
    "# Careful here--codes switched between 2017 and 2018/2020. Effectively drops CS responses\n",
    "# 2017 scale is:  None at all, A little, A lot, Not applicable \n",
    "# print(respondents_zip['support_family'].value_counts())\n",
    "respondents_zip['support_family'] = respondents_zip['support_family'].map({'5':5, '4':4, '3':3, '2':2, '1':1})\n",
    "respondents_zip['support_parents'] = respondents_zip['support_parents'].map({'5':5, '4':4, '3':3, '2':2, '1':1})\n",
    "respondents_zip['support_partner'] = respondents_zip['support_partner'].map({'5':5, '4':4, '3':3, '2':2, '1':1})\n",
    "respondents_zip['support_friends'] = respondents_zip['support_friends'].map({'5':5, '4':4, '3':3, '2':2, '1':1})\n",
    "respondents_zip['support_collsin'] = respondents_zip['support_collsin'].map({'5':5, '4':4, '3':3, '2':2, '1':1})\n",
    "respondents_zip['support_collsout'] = respondents_zip['support_collsout'].map({'5':5, '4':4, '3':3, '2':2, '1':1})\n",
    "# respondents_zip['support_family'].value_counts()"
   ]
  },
  {
   "cell_type": "code",
   "execution_count": 4,
   "metadata": {},
   "outputs": [
    {
     "data": {
      "text/plain": [
       "False    4929\n",
       "True     3080\n",
       "Name: phd_rank_scaled, dtype: int64"
      ]
     },
     "execution_count": 4,
     "metadata": {},
     "output_type": "execute_result"
    }
   ],
   "source": [
    "## Add in PhD prestige?\n",
    "max_dept_usnwr = respondents_zip.groupby(['likely_department'])['phd_USNWR'].max()\n",
    "max_dept_nrc = respondents_zip.groupby(['likely_department'])['phd_NRC'].max()\n",
    "\n",
    "def rank_scalar(row):\n",
    "    if (row['likely_department'] in max_dept_usnwr) and not np.isnan(max_dept_usnwr[row['likely_department']]):\n",
    "        return 100*np.divide(row['phd_USNWR'], max_dept_usnwr[row['likely_department']])\n",
    "    elif (row['likely_department'] in max_dept_nrc) and not np.isnan(max_dept_nrc[row['likely_department']]):\n",
    "        return 100*np.divide(row['phd_NRC'], max_dept_nrc[row['likely_department']])\n",
    "    else:\n",
    "        return np.nan\n",
    "\n",
    "respondents_zip['phd_rank_scaled'] = respondents_zip.apply(rank_scalar, axis=1)\n",
    "respondents_zip['phd_rank_scaled'].isna().value_counts()"
   ]
  },
  {
   "cell_type": "code",
   "execution_count": 5,
   "metadata": {},
   "outputs": [],
   "source": [
    "# Translate categories to numerical values\n",
    "# print(respondents_zip['current_geo'].value_counts())\n",
    "respondents_zip['current_geo'] = respondents_zip['current_geo'].map({'Very important':3, 'Somewhat':2,\n",
    "                                                                     'Not important':1,})\n",
    "# respondents_zip['current_geo'].value_counts()"
   ]
  },
  {
   "cell_type": "code",
   "execution_count": 6,
   "metadata": {},
   "outputs": [],
   "source": [
    "# Parents had PhD as a binary indicator.\n",
    "respondents_zip['parents_had_phd'] = (respondents_zip['parents_highest_edu_coded'] == 'Doctoral degree')\n",
    "respondents_zip.loc[respondents_zip['parents_highest_edu_coded'].isna(), 'parents_had_phd'] = np.nan"
   ]
  },
  {
   "cell_type": "code",
   "execution_count": 7,
   "metadata": {},
   "outputs": [
    {
     "data": {
      "text/plain": [
       "Master's or professional degree    0.296019\n",
       "Doctoral degree                    0.222500\n",
       "College: 4+ years                  0.195173\n",
       "High school: 4 years               0.136912\n",
       "College: 1-3 years                 0.094743\n",
       "High school: 1-3 years             0.029130\n",
       "Elementary: 0-8 years              0.025524\n",
       "Name: parents_highest_edu_coded, dtype: float64"
      ]
     },
     "execution_count": 7,
     "metadata": {},
     "output_type": "execute_result"
    }
   ],
   "source": [
    "respondents_zip['parents_highest_edu_coded'].value_counts(normalize=True)"
   ]
  },
  {
   "cell_type": "markdown",
   "metadata": {},
   "source": [
    "### Distributions of current placement prestige by parents have doctoral degree"
   ]
  },
  {
   "cell_type": "code",
   "execution_count": 8,
   "metadata": {},
   "outputs": [
    {
     "name": "stdout",
     "output_type": "stream",
     "text": [
      "1st Gen\t 5069\n",
      "Not\t 1470\n",
      "MannwhitneyuResult(statistic=3235964.5, pvalue=7.622465432846486e-15)\n"
     ]
    },
    {
     "data": {
      "image/png": "[encoded data removed]",
      "text/plain": [
       "<Figure size 432x288 with 1 Axes>"
      ]
     },
     "metadata": {
      "needs_background": "light"
     },
     "output_type": "display_data"
    }
   ],
   "source": [
    "fig, ax = plt.subplots(ncols=1, nrows=1, figsize=plot_utils.SINGLE_FIG_SIZE)\n",
    "prestige_range = np.arange(0, 300); doctoral_label = 'Doctoral degree'\n",
    "\n",
    "first_gen_doctorate = respondents_zip[~respondents_zip['parents_had_phd'].isna() & \n",
    "                                      (respondents_zip['parents_had_phd'] == 0)].rank_scaled.dropna()\n",
    "print('1st Gen\\t', len(first_gen_doctorate))\n",
    "plt.hist(first_gen_doctorate, color='black', density=True, label = \"Parents did not earn a PhD\", alpha=0.75)\n",
    "plt.plot(prestige_range, sps.gaussian_kde(first_gen_doctorate).pdf(prestige_range), \n",
    "         label=None, color='black', linestyle='--')\n",
    "\n",
    "not_first_gen_doctorate = respondents_zip[~respondents_zip['parents_had_phd'].isna() & \n",
    "                                          (respondents_zip['parents_had_phd'] == 1)].rank_scaled.dropna()\n",
    "print('Not\\t', len(not_first_gen_doctorate))\n",
    "plt.hist(not_first_gen_doctorate, color=plot_utils.ACCENT_COLOR, density=True, \n",
    "         label = \"At least one parent earned a PhD\", alpha=0.75)\n",
    "plt.plot(prestige_range, sps.gaussian_kde(not_first_gen_doctorate).pdf(prestige_range), \n",
    "         label=None, color=plot_utils.ACCENT_COLOR, linestyle='--')\n",
    "\n",
    "plt.xlabel('Institution Prestige', size=plot_utils.LABEL_SIZE)\n",
    "plt.ylabel('Fraction of Observations', size=plot_utils.LABEL_SIZE)\n",
    "plt.legend(frameon=False)\n",
    "\n",
    "print(mannwhitneyu(first_gen_doctorate, not_first_gen_doctorate))\n",
    "\n",
    "plt.xlim(0, 101)\n",
    "plot_utils.finalize(ax)\n",
    "plt.tight_layout()\n",
    "plt.savefig('../plots/prestige_p1p2_doctor.pdf', dpi=1000)"
   ]
  },
  {
   "cell_type": "markdown",
   "metadata": {},
   "source": [
    "Grouping respondents by parent's highest education level, we can see current placement increases as parents' highest eductaion increases."
   ]
  },
  {
   "cell_type": "code",
   "execution_count": 9,
   "metadata": {},
   "outputs": [
    {
     "data": {
      "text/html": [
       "<div>\n",
       "<style scoped>\n",
       "    .dataframe tbody tr th:only-of-type {\n",
       "        vertical-align: middle;\n",
       "    }\n",
       "\n",
       "    .dataframe tbody tr th {\n",
       "        vertical-align: top;\n",
       "    }\n",
       "\n",
       "    .dataframe thead th {\n",
       "        text-align: right;\n",
       "    }\n",
       "</style>\n",
       "<table border=\"1\" class=\"dataframe\">\n",
       "  <thead>\n",
       "    <tr style=\"text-align: right;\">\n",
       "      <th></th>\n",
       "      <th>count</th>\n",
       "      <th>mean</th>\n",
       "      <th>std</th>\n",
       "      <th>min</th>\n",
       "      <th>25%</th>\n",
       "      <th>50%</th>\n",
       "      <th>75%</th>\n",
       "      <th>max</th>\n",
       "    </tr>\n",
       "    <tr>\n",
       "      <th>parents_highest_edu_coded</th>\n",
       "      <th></th>\n",
       "      <th></th>\n",
       "      <th></th>\n",
       "      <th></th>\n",
       "      <th></th>\n",
       "      <th></th>\n",
       "      <th></th>\n",
       "      <th></th>\n",
       "    </tr>\n",
       "  </thead>\n",
       "  <tbody>\n",
       "    <tr>\n",
       "      <th>College: 1-3 years</th>\n",
       "      <td>612.0</td>\n",
       "      <td>40.594504</td>\n",
       "      <td>27.321117</td>\n",
       "      <td>0.425532</td>\n",
       "      <td>17.972350</td>\n",
       "      <td>35.484987</td>\n",
       "      <td>59.677419</td>\n",
       "      <td>100.0</td>\n",
       "    </tr>\n",
       "    <tr>\n",
       "      <th>College: 4+ years</th>\n",
       "      <td>1276.0</td>\n",
       "      <td>38.344425</td>\n",
       "      <td>26.288177</td>\n",
       "      <td>0.425532</td>\n",
       "      <td>16.595745</td>\n",
       "      <td>32.795699</td>\n",
       "      <td>56.849315</td>\n",
       "      <td>100.0</td>\n",
       "    </tr>\n",
       "    <tr>\n",
       "      <th>Doctoral degree</th>\n",
       "      <td>1470.0</td>\n",
       "      <td>33.285734</td>\n",
       "      <td>26.601761</td>\n",
       "      <td>0.425532</td>\n",
       "      <td>10.752688</td>\n",
       "      <td>26.382979</td>\n",
       "      <td>50.000000</td>\n",
       "      <td>100.0</td>\n",
       "    </tr>\n",
       "    <tr>\n",
       "      <th>Elementary: 0-8 years</th>\n",
       "      <td>173.0</td>\n",
       "      <td>42.655107</td>\n",
       "      <td>26.581571</td>\n",
       "      <td>0.537634</td>\n",
       "      <td>19.178082</td>\n",
       "      <td>41.474654</td>\n",
       "      <td>62.328767</td>\n",
       "      <td>100.0</td>\n",
       "    </tr>\n",
       "    <tr>\n",
       "      <th>High school: 1-3 years</th>\n",
       "      <td>196.0</td>\n",
       "      <td>40.621510</td>\n",
       "      <td>27.802670</td>\n",
       "      <td>0.425532</td>\n",
       "      <td>16.648936</td>\n",
       "      <td>36.943164</td>\n",
       "      <td>61.868687</td>\n",
       "      <td>100.0</td>\n",
       "    </tr>\n",
       "    <tr>\n",
       "      <th>High school: 4 years</th>\n",
       "      <td>882.0</td>\n",
       "      <td>41.581818</td>\n",
       "      <td>27.552328</td>\n",
       "      <td>0.425532</td>\n",
       "      <td>17.972350</td>\n",
       "      <td>37.327189</td>\n",
       "      <td>60.368664</td>\n",
       "      <td>100.0</td>\n",
       "    </tr>\n",
       "    <tr>\n",
       "      <th>Master's or professional degree</th>\n",
       "      <td>1930.0</td>\n",
       "      <td>37.027710</td>\n",
       "      <td>27.081390</td>\n",
       "      <td>0.425532</td>\n",
       "      <td>14.042553</td>\n",
       "      <td>31.063830</td>\n",
       "      <td>56.565657</td>\n",
       "      <td>100.0</td>\n",
       "    </tr>\n",
       "  </tbody>\n",
       "</table>\n",
       "</div>"
      ],
      "text/plain": [
       "                                  count       mean        std       min  \\\n",
       "parents_highest_edu_coded                                                 \n",
       "College: 1-3 years                612.0  40.594504  27.321117  0.425532   \n",
       "College: 4+ years                1276.0  38.344425  26.288177  0.425532   \n",
       "Doctoral degree                  1470.0  33.285734  26.601761  0.425532   \n",
       "Elementary: 0-8 years             173.0  42.655107  26.581571  0.537634   \n",
       "High school: 1-3 years            196.0  40.621510  27.802670  0.425532   \n",
       "High school: 4 years              882.0  41.581818  27.552328  0.425532   \n",
       "Master's or professional degree  1930.0  37.027710  27.081390  0.425532   \n",
       "\n",
       "                                       25%        50%        75%    max  \n",
       "parents_highest_edu_coded                                                \n",
       "College: 1-3 years               17.972350  35.484987  59.677419  100.0  \n",
       "College: 4+ years                16.595745  32.795699  56.849315  100.0  \n",
       "Doctoral degree                  10.752688  26.382979  50.000000  100.0  \n",
       "Elementary: 0-8 years            19.178082  41.474654  62.328767  100.0  \n",
       "High school: 1-3 years           16.648936  36.943164  61.868687  100.0  \n",
       "High school: 4 years             17.972350  37.327189  60.368664  100.0  \n",
       "Master's or professional degree  14.042553  31.063830  56.565657  100.0  "
      ]
     },
     "execution_count": 9,
     "metadata": {},
     "output_type": "execute_result"
    }
   ],
   "source": [
    "respondents_zip.groupby(['parents_highest_edu_coded'])['rank_scaled'].describe()"
   ]
  },
  {
   "cell_type": "markdown",
   "metadata": {},
   "source": [
    "### Trends in parents with college degree or higher"
   ]
  },
  {
   "cell_type": "code",
   "execution_count": 10,
   "metadata": {},
   "outputs": [],
   "source": [
    "total_data = []; field_data = []; discs = respondents_zip.likely_department.dropna().unique()\n",
    "cis_more_than = []; cis_less_than = []; cis_phd_parents = [];\n",
    "more_than_college_degree = ['College: 4+ years', \"Master's or professional degree\", 'Doctoral degree']\n",
    "less_than_college_degree = ['Elementary: 0-8 years', 'High school: 1-3 years', 'High school: 4 years', \n",
    "                            'College: 1-3 years']\n",
    "year_couples = [(1940, 1945), (1945, 1950), (1950, 1955), (1955, 1960), (1960, 1965), (1965, 1970), \n",
    "                (1970, 1975), (1975, 1980), (1980, 1985), (1985, 1990)]\n",
    "for year_start, year_end in year_couples:\n",
    "    born_in_year = respondents_zip[(respondents_zip.age_coded >= year_start) & \\\n",
    "                                   (respondents_zip.age_coded < year_end)].copy()\n",
    "    # print(len(born_in_year), (year_start, year_end))\n",
    "    \n",
    "    \n",
    "    more_than_college = born_in_year['parents_highest_edu_coded'].dropna().isin(more_than_college_degree)\n",
    "    cis_more_than.append(binomial_confidence_interval(more_than_college)) \n",
    "    less_than_college = born_in_year['parents_highest_edu_coded'].dropna().isin(less_than_college_degree)\n",
    "    cis_less_than.append(binomial_confidence_interval(less_than_college))\n",
    "    \n",
    "    phds = born_in_year['parents_highest_edu_coded'].dropna().isin(['Doctoral degree'])\n",
    "    cis_phd_parents.append(binomial_confidence_interval(phds))\n",
    "    # print(dict(born_in_year['parents_highest_edu_coded'].value_counts(normalize=False)))\n",
    "    total_data.append(born_in_year['parents_highest_edu_coded'].value_counts(normalize=True))\n",
    "    field_data.append(dict([(disc, dict(born_in_year[born_in_year.likely_department==disc]['parents_highest_edu_coded'].value_counts(normalize=True))) for disc in discs]))"
   ]
  },
  {
   "cell_type": "code",
   "execution_count": 11,
   "metadata": {},
   "outputs": [
    {
     "data": {
      "image/png": "[encoded data removed]",
      "text/plain": [
       "<Figure size 432x288 with 1 Axes>"
      ]
     },
     "metadata": {
      "needs_background": "light"
     },
     "output_type": "display_data"
    }
   ],
   "source": [
    "fig, ax = plt.subplots(figsize=plot_utils.SINGLE_FIG_SIZE)\n",
    "years = [1940, 1945, 1950, 1955, 1960, 1965, 1970, 1975, 1980, 1985]\n",
    "\n",
    "elem = np.array([total_data[i].get('Elementary: 0-8 years', 0) for i in range(len(total_data))])\n",
    "less_hs = np.array([total_data[i].get('High school: 1-3 years', 0) for i in range(len(total_data))])\n",
    "hs = np.array([(total_data[i]['High school: 4 years']) for i in range(len(total_data))])\n",
    "less_college = np.array([(total_data[i]['College: 1-3 years']) for i in range(len(total_data))])\n",
    "college = np.array([(total_data[i]['College: 4+ years']) for i in range(len(total_data))])\n",
    "masters = np.array([(total_data[i][\"Master's or professional degree\"]) for i in range(len(total_data))])\n",
    "phd = np.array([(total_data[i]['Doctoral degree']) for i in range(len(total_data))])\n",
    "\n",
    "ax.set_ylim(0.0, 1.0)\n",
    "ax.plot(years, elem + less_hs + hs + less_college, label = \"Parents' earned\\nless than college\", \n",
    "        color = 'black', marker=\"o\")\n",
    "lower, upper = zip(*cis_less_than)\n",
    "ax.fill_between(years, lower, upper, alpha=0.25, color = 'black')\n",
    "\n",
    "ax.plot(years, college + masters + phd, label = \"Parents' earned\\nat least college degree\",\n",
    "        color = plot_utils.ACCENT_COLOR, marker=\"o\")\n",
    "lower, upper = zip(*cis_more_than)\n",
    "ax.fill_between(years, lower, upper, alpha=0.25, color = plot_utils.ACCENT_COLOR)\n",
    "\n",
    "ax.set_ylabel('Proportion of Faculty')\n",
    "ax.set_xlabel('Faculty Year of Birth')\n",
    "ax.set_xticks(years)\n",
    "ax.set_xticklabels([\"'%d\" % (y - 1900) for y in years], fontsize=plot_utils.LEGEND_SIZE)\n",
    "#plt.legend(frameon=False, loc=(1,0.5))\n",
    "\n",
    "ax.text(1945, 0.16, \"Parents' earned\\nless than college\", fontsize=plot_utils.LEGEND_SIZE, \n",
    "        color='black')\n",
    "ax.text(1945, 0.80, \"Parents' earned\\nat least college degree\", fontsize=plot_utils.LEGEND_SIZE, \n",
    "        color=plot_utils.ACCENT_COLOR)\n",
    "\n",
    "plot_utils.finalize(ax)\n",
    "plt.tight_layout()\n",
    "plt.savefig('../plots/education_breakdown_generation.pdf', dpi=1000)"
   ]
  },
  {
   "cell_type": "code",
   "execution_count": 12,
   "metadata": {},
   "outputs": [
    {
     "name": "stdout",
     "output_type": "stream",
     "text": [
      "Optimization terminated successfully.\n",
      "         Current function value: 0.528025\n",
      "         Iterations 5\n"
     ]
    },
    {
     "data": {
      "text/html": [
       "<table class=\"simpletable\">\n",
       "<caption>Logit Regression Results</caption>\n",
       "<tr>\n",
       "  <th>Dep. Variable:</th>    <td>parents_had_phd</td> <th>  No. Observations:  </th>  <td>  7184</td>  \n",
       "</tr>\n",
       "<tr>\n",
       "  <th>Model:</th>                 <td>Logit</td>      <th>  Df Residuals:      </th>  <td>  7182</td>  \n",
       "</tr>\n",
       "<tr>\n",
       "  <th>Method:</th>                 <td>MLE</td>       <th>  Df Model:          </th>  <td>     1</td>  \n",
       "</tr>\n",
       "<tr>\n",
       "  <th>Date:</th>            <td>Tue, 07 Jun 2022</td> <th>  Pseudo R-squ.:     </th> <td>0.004012</td> \n",
       "</tr>\n",
       "<tr>\n",
       "  <th>Time:</th>                <td>10:26:36</td>     <th>  Log-Likelihood:    </th> <td> -3793.3</td> \n",
       "</tr>\n",
       "<tr>\n",
       "  <th>converged:</th>             <td>True</td>       <th>  LL-Null:           </th> <td> -3808.6</td> \n",
       "</tr>\n",
       "<tr>\n",
       "  <th>Covariance Type:</th>     <td>nonrobust</td>    <th>  LLR p-value:       </th> <td>3.240e-08</td>\n",
       "</tr>\n",
       "</table>\n",
       "<table class=\"simpletable\">\n",
       "<tr>\n",
       "      <td></td>         <th>coef</th>     <th>std err</th>      <th>z</th>      <th>P>|z|</th>  <th>[0.025</th>    <th>0.975]</th>  \n",
       "</tr>\n",
       "<tr>\n",
       "  <th>const</th>     <td>  -26.6987</td> <td>    4.638</td> <td>   -5.757</td> <td> 0.000</td> <td>  -35.788</td> <td>  -17.609</td>\n",
       "</tr>\n",
       "<tr>\n",
       "  <th>age_coded</th> <td>    0.0129</td> <td>    0.002</td> <td>    5.489</td> <td> 0.000</td> <td>    0.008</td> <td>    0.018</td>\n",
       "</tr>\n",
       "</table>"
      ],
      "text/plain": [
       "<class 'statsmodels.iolib.summary.Summary'>\n",
       "\"\"\"\n",
       "                           Logit Regression Results                           \n",
       "==============================================================================\n",
       "Dep. Variable:        parents_had_phd   No. Observations:                 7184\n",
       "Model:                          Logit   Df Residuals:                     7182\n",
       "Method:                           MLE   Df Model:                            1\n",
       "Date:                Tue, 07 Jun 2022   Pseudo R-squ.:                0.004012\n",
       "Time:                        10:26:36   Log-Likelihood:                -3793.3\n",
       "converged:                       True   LL-Null:                       -3808.6\n",
       "Covariance Type:            nonrobust   LLR p-value:                 3.240e-08\n",
       "==============================================================================\n",
       "                 coef    std err          z      P>|z|      [0.025      0.975]\n",
       "------------------------------------------------------------------------------\n",
       "const        -26.6987      4.638     -5.757      0.000     -35.788     -17.609\n",
       "age_coded      0.0129      0.002      5.489      0.000       0.008       0.018\n",
       "==============================================================================\n",
       "\"\"\""
      ]
     },
     "execution_count": 12,
     "metadata": {},
     "output_type": "execute_result"
    }
   ],
   "source": [
    "# Has the percentage of faculty with PhD parents been increasing over time?\n",
    "# data = pd.DataFrame([{'age_coded': year, \n",
    "#                      'parents_had_phd': edu_dist['Doctoral degree']} \n",
    "#                     for (year, edu_dist) in zip(years, total_data)])\n",
    "data = respondents_zip.copy(deep=True)[['parents_had_phd', 'age_coded']].dropna()\n",
    "# data = respondents_zip.groupby(['age_coded'])['parents_had_phd'].mean().reset_index())\n",
    "\n",
    "mod = sm.Logit(data['parents_had_phd'], sm.add_constant(data['age_coded']))        \n",
    "res = mod.fit()\n",
    "res.summary()"
   ]
  },
  {
   "cell_type": "markdown",
   "metadata": {},
   "source": [
    "### Differences by discipline"
   ]
  },
  {
   "cell_type": "code",
   "execution_count": 13,
   "metadata": {},
   "outputs": [
    {
     "name": "stdout",
     "output_type": "stream",
     "text": [
      "\n",
      ">>> Business \n",
      "Less than college:\t 0.2841691248770895 \n",
      "College:\t\t 0.24090462143559488 \n",
      "More than college:\t 0.47492625368731567\n",
      "\n",
      ">>> History \n",
      "Less than college:\t 0.21937639198218264 \n",
      "College:\t\t 0.17037861915367483 \n",
      "More than college:\t 0.6102449888641426\n",
      "\n",
      ">>> Computer Science \n",
      "Less than college:\t 0.263 \n",
      "College:\t\t 0.216 \n",
      "More than college:\t 0.521\n",
      "\n",
      ">>> Anthropology \n",
      "Less than college:\t 0.2535211267605634 \n",
      "College:\t\t 0.19436619718309858 \n",
      "More than college:\t 0.5521126760563381\n",
      "\n",
      ">>> Physics and/or Astronomy \n",
      "Less than college:\t 0.3037433155080214 \n",
      "College:\t\t 0.18288770053475936 \n",
      "More than college:\t 0.5133689839572192\n",
      "\n",
      ">>> Psychology \n",
      "Less than college:\t 0.3105209397344229 \n",
      "College:\t\t 0.17058222676200205 \n",
      "More than college:\t 0.5188968335035751\n",
      "\n",
      ">>> Sociology \n",
      "Less than college:\t 0.28859060402684567 \n",
      "College:\t\t 0.17002237136465326 \n",
      "More than college:\t 0.5413870246085011\n",
      "\n",
      ">>> Biology \n",
      "Less than college:\t 0.3243068987749839 \n",
      "College:\t\t 0.1947130883301096 \n",
      "More than college:\t 0.4809800128949065\n"
     ]
    }
   ],
   "source": [
    "discs = respondents_zip.likely_department.dropna().unique()\n",
    "for i, disc in enumerate(discs):\n",
    "    discipline_data = respondents_zip[respondents_zip.likely_department == disc].copy(deep=True)\n",
    "    discipline_dist = dict(discipline_data['parents_highest_edu_coded'].value_counts(normalize=True).sort_index())\n",
    "    print('\\n>>> ' + disc, \n",
    "          #discipline_dist, '\\n',\n",
    "          '\\nLess than college:\\t', sum([discipline_dist['College: 1-3 years'],\n",
    "                                         discipline_dist['High school: 4 years'],\n",
    "                                         discipline_dist['High school: 1-3 years'], \n",
    "                                         discipline_dist['Elementary: 0-8 years']]),\n",
    "          '\\nCollege:\\t\\t', discipline_dist[\"College: 4+ years\"], \n",
    "          '\\nMore than college:\\t', sum([discipline_dist[\"Master's or professional degree\"], \n",
    "               discipline_dist[\"Doctoral degree\"]]))\n",
    "    "
   ]
  },
  {
   "cell_type": "code",
   "execution_count": 14,
   "metadata": {},
   "outputs": [
    {
     "name": "stdout",
     "output_type": "stream",
     "text": [
      "0.29840737636211234 0.18957011980267793 0.5741266433376856\n",
      "[1193, 1419]\n",
      "(6.494364345948152, 8.338472532815575e-11)\n",
      "(0.07582791483492338, 0.14182808304151479)\n"
     ]
    }
   ],
   "source": [
    "# Individuals across all years\n",
    "alpha = 0.2\n",
    "temp = respondents_zip[~respondents_zip.rank_scaled.isna() & ~respondents_zip.likely_department.isna()]\n",
    "field_pi = temp.groupby('likely_department').rank_scaled.quantile(alpha)\n",
    "\n",
    "top_pi = temp.likely_department.apply(lambda x: field_pi[x])\n",
    "top_pedu_dist = temp[temp.rank_scaled < top_pi].parents_had_phd.dropna().astype(float)\n",
    "\n",
    "field_pi = temp.groupby('likely_department').rank_scaled.quantile(1-alpha)\n",
    "bottom_pi = temp.likely_department.apply(lambda x: field_pi[x])\n",
    "bottom_pedu_dist = temp[temp.rank_scaled >= bottom_pi].parents_had_phd.dropna().astype(float)\n",
    "\n",
    "print(top_pedu_dist.mean(), bottom_pedu_dist.mean(), \n",
    "      (top_pedu_dist.mean()-bottom_pedu_dist.mean())/bottom_pedu_dist.mean())\n",
    "print([sum(top_pedu_dist.isin([0, 1])), sum(bottom_pedu_dist.isin([0, 1]))])\n",
    "print(proportions_ztest([sum(top_pedu_dist > 0), sum(bottom_pedu_dist > 0)], \n",
    "                        [sum(top_pedu_dist.isin([0, 1])), len(bottom_pedu_dist.isin([0, 1]))]))\n",
    "print(confint_proportions_2indep(sum(top_pedu_dist > 0), sum(top_pedu_dist.isin([0, 1])),\n",
    "                                 sum(bottom_pedu_dist > 0), len(bottom_pedu_dist.isin([0, 1]))))"
   ]
  },
  {
   "cell_type": "markdown",
   "metadata": {},
   "source": [
    "### Trends in percentage PhD parents by current prestige"
   ]
  },
  {
   "cell_type": "markdown",
   "metadata": {},
   "source": [
    "Among faculty at the top 20% and bottom 20% of institutions by ranking, what proportion had PhDs."
   ]
  },
  {
   "cell_type": "code",
   "execution_count": 15,
   "metadata": {},
   "outputs": [
    {
     "name": "stdout",
     "output_type": "stream",
     "text": [
      "1298 {'Biology': 330, 'Computer Science': 228, 'Physics and/or Astronomy': 184, 'Psychology': 160, 'Business': 136, 'History': 132, 'Sociology': 77, 'Anthropology': 51}\n",
      "1940 {0.0: 101, 1.0: 25}\n",
      "1950 {0.0: 215, 1.0: 71}\n",
      "1960 {0.0: 171, 1.0: 94}\n",
      "1970 {0.0: 234, 1.0: 115}\n",
      "1980 {0.0: 163, 1.0: 78}\n"
     ]
    }
   ],
   "source": [
    "phd_parents_by_prestige = pd.DataFrame()\n",
    "temp = respondents_zip[~respondents_zip.rank_scaled.isna() & ~respondents_zip.likely_department.isna() &\n",
    "                       ~respondents_zip.parents_had_phd.isna()]\n",
    "# field_pi = temp.groupby('likely_department').rank_scaled.quantile(alpha)\n",
    "# top_pi = temp.likely_department.apply(lambda x: field_pi[x])\n",
    "top_pi = temp.rank_scaled.quantile(alpha)\n",
    "top_pedu_dist = temp[temp.rank_scaled < top_pi]\n",
    "\n",
    "print(top_pedu_dist.shape[0], dict(top_pedu_dist.likely_department.value_counts()))\n",
    "\n",
    "top_20_data = []; top_cis = []\n",
    "year_couples = [(1940, 1950), (1950, 1960), (1960, 1970), (1970, 1980), (1980, 1990)]\n",
    "for year_start, year_end in year_couples:\n",
    "    parents_had_phd = top_pedu_dist[(top_pedu_dist.age_coded >= year_start) & \\\n",
    "                                    (top_pedu_dist.age_coded < year_end)].parents_had_phd.astype(float)\n",
    "    print(year_start, dict(parents_had_phd.value_counts()))\n",
    "    \n",
    "    n = len(parents_had_phd)\n",
    "    phd_parents_by_prestige = phd_parents_by_prestige.append([\n",
    "        {'year bin': x, 'prestige rank': y, 'phd parent': z} for x, y, z in zip(\n",
    "            n*[year_start], n*['top 20'], parents_had_phd.values)], \n",
    "        ignore_index=True)\n",
    "    top_20_data.append(sum(parents_had_phd == 1)/len(parents_had_phd))\n",
    "    top_cis.append(binomial_confidence_interval(parents_had_phd))"
   ]
  },
  {
   "cell_type": "code",
   "execution_count": 16,
   "metadata": {},
   "outputs": [
    {
     "name": "stdout",
     "output_type": "stream",
     "text": [
      "1330 {'History': 229, 'Business': 227, 'Biology': 221, 'Psychology': 193, 'Computer Science': 180, 'Physics and/or Astronomy': 150, 'Sociology': 65, 'Anthropology': 65}\n",
      "1940 {0.0: 79, 1.0: 7}\n",
      "1950 {0.0: 222, 1.0: 44}\n",
      "1960 {0.0: 272, 1.0: 64}\n",
      "1970 {0.0: 297, 1.0: 71}\n",
      "1980 {0.0: 209, 1.0: 49}\n"
     ]
    }
   ],
   "source": [
    "temp = respondents_zip[~respondents_zip.rank_scaled.isna() & ~respondents_zip.likely_department.isna() &\n",
    "                       ~respondents_zip.parents_had_phd.isna()]\n",
    "# field_pi = temp.groupby('likely_department').rank_scaled.quantile(1-alpha)\n",
    "# bot_pi = temp.likely_department.apply(lambda x: field_pi[x])\n",
    "bot_pi = temp.rank_scaled.quantile(1-alpha)\n",
    "bot_pedu_dist = temp[temp.rank_scaled >= bot_pi]\n",
    "\n",
    "print(bot_pedu_dist.shape[0], dict(bot_pedu_dist.likely_department.value_counts()))\n",
    "\n",
    "bottom_80_data = []; bottom_cis = []\n",
    "for year_start, year_end in year_couples:\n",
    "    parents_had_phd = bot_pedu_dist[(bot_pedu_dist.age_coded >= year_start) & \\\n",
    "                                    (bot_pedu_dist.age_coded < year_end)].parents_had_phd.astype(float)\n",
    "    print(year_start, dict(parents_had_phd.value_counts()))\n",
    "    \n",
    "    phd_parents_by_prestige = phd_parents_by_prestige.append(\n",
    "        [{'year bin': x, 'prestige rank': y, 'phd parent': z} for x, y, z in zip(\n",
    "            n*[year_start], n*['bottom 80'], parents_had_phd.values)], \n",
    "        ignore_index=True)\n",
    "    bottom_80_data.append(sum(parents_had_phd == 1)/len(parents_had_phd))\n",
    "    bottom_cis.append(binomial_confidence_interval(parents_had_phd))"
   ]
  },
  {
   "cell_type": "code",
   "execution_count": 17,
   "metadata": {},
   "outputs": [],
   "source": [
    "overall_avg_data = [] # Average over time\n",
    "for year_start, year_end in year_couples:\n",
    "    born_in_year = respondents_zip[(respondents_zip.age_coded >= year_start) & \\\n",
    "                                   (respondents_zip.age_coded < year_end)].copy()\n",
    "    overall_avg_data.append(born_in_year['parents_highest_edu_coded'].value_counts(normalize=True))"
   ]
  },
  {
   "cell_type": "code",
   "execution_count": 18,
   "metadata": {},
   "outputs": [
    {
     "data": {
      "image/png": "[encoded data removed]",
      "text/plain": [
       "<Figure size 432x288 with 1 Axes>"
      ]
     },
     "metadata": {
      "needs_background": "light"
     },
     "output_type": "display_data"
    }
   ],
   "source": [
    "fig, ax = plt.subplots()\n",
    "\n",
    "category_colors = plt.get_cmap('Greens')(np.linspace(0.4, 1, 3))[::-1]\n",
    "ax.set_ylim(0, 45)\n",
    "# years = np.array([1940, 1945, 1950, 1955, 1960, 1965, 1970, 1975, 1980, 1985])\n",
    "years = np.array([1940, 1950, 1960, 1970, 1980])    \n",
    "ax.plot(years, [each['Doctoral degree']*100 for each in overall_avg_data], label = 'Average', \n",
    "        color=plot_utils.ALMOST_BLACK, marker='o', alpha=1, zorder=1)\n",
    "               \n",
    "aggregated = phd_parents_by_prestige.groupby(['prestige rank', 'year bin']).mean().reset_index()\n",
    "ax.plot(years, aggregated[aggregated['prestige rank'] == 'bottom 80']['phd parent']*100, linestyle='-',\n",
    "        label = 'Bottom {:1.0f}\\%'.format(alpha*100), color=category_colors[1], alpha=1, \n",
    "        marker='v', zorder=2)\n",
    "lower, upper = zip(*bottom_cis)\n",
    "ax.fill_between(years, np.array(lower)*100, np.array(upper)*100, alpha=0.2, color=category_colors[1])\n",
    "\n",
    "# lower, upper = zip(*cis)\n",
    "# ax.fill_between(years, lower, upper, alpha=0.25, color = 'black')\n",
    "# print(cis)\n",
    "ax.text(1939, 39, '(a)', size=1.5*plot_utils.LABEL_SIZE)\n",
    "\n",
    "ax.plot(years, aggregated[aggregated['prestige rank'] == 'top 20']['phd parent']*100, linestyle='-',\n",
    "        label = 'Top {:1.0f}\\%'.format(alpha*100), color=category_colors[2], alpha=1, marker='^', \n",
    "        zorder=2)\n",
    "lower, upper = zip(*top_cis)\n",
    "ax.fill_between(years, np.array(lower)*100, np.array(upper)*100, alpha=0.2, color=category_colors[2])\n",
    "\n",
    "ax.set_ylabel('Percentage of Faculty with PhD Parent', size=plot_utils.LABEL_SIZE)\n",
    "ax.set_xlabel('Faculty Year of Birth', size=plot_utils.LABEL_SIZE)\n",
    "plt.legend(frameon=False, fontsize=plot_utils.LEGEND_SIZE, ncol=3, loc='lower center')\n",
    "\n",
    "plot_utils.finalize(ax)\n",
    "plt.tight_layout()\n",
    "plt.ylim(0, 42)\n",
    "plt.savefig('../plots/education_generation.pdf', dpi=1000)"
   ]
  },
  {
   "cell_type": "code",
   "execution_count": 19,
   "metadata": {},
   "outputs": [
    {
     "data": {
      "text/plain": [
       "[12.802768166089965,\n",
       " 18.38856400259909,\n",
       " 25.86696986924389,\n",
       " 23.901673640167363,\n",
       " 23.64607170099161]"
      ]
     },
     "execution_count": 19,
     "metadata": {},
     "output_type": "execute_result"
    }
   ],
   "source": [
    "[each['Doctoral degree']*100 for each in overall_avg_data]"
   ]
  },
  {
   "cell_type": "markdown",
   "metadata": {},
   "source": [
    "Aggregated across all years, is this difference in proportions of PhD parents statistically different?"
   ]
  },
  {
   "cell_type": "code",
   "execution_count": 20,
   "metadata": {},
   "outputs": [
    {
     "data": {
      "text/plain": [
       "Ttest_indResult(statistic=-3.5160158599217315, pvalue=0.009109328552748612)"
      ]
     },
     "execution_count": 20,
     "metadata": {},
     "output_type": "execute_result"
    }
   ],
   "source": [
    "# Aggregated to the years\n",
    "ttest_ind(bottom_80_data, top_20_data, equal_var=False)"
   ]
  },
  {
   "cell_type": "markdown",
   "metadata": {},
   "source": [
    "Another way of viewing the above relationship is by plotting percentage of PhD parents versus current institutional prestige."
   ]
  },
  {
   "cell_type": "code",
   "execution_count": 21,
   "metadata": {},
   "outputs": [
    {
     "data": {
      "image/png": "[encoded data removed]",
      "text/plain": [
       "<Figure size 432x288 with 1 Axes>"
      ]
     },
     "metadata": {
      "needs_background": "light"
     },
     "output_type": "display_data"
    }
   ],
   "source": [
    "fig, ax = plt.subplots(1, 1, figsize=plot_utils.SINGLE_FIG_SIZE)\n",
    "prestige_range = range(0, 100)\n",
    "prestige_bins = range(1, 101, 5)\n",
    "\n",
    "category_colors = plt.get_cmap('Greens')(np.linspace(0.4, 1, 3))[::-1]\n",
    "models = []\n",
    "# category_colors = [plot_utils.ALMOST_BLACK, plot_utils.ACCENT_COLOR, plot_utils.ACCENT_COLOR]\n",
    "for i, (year_start, year_end) in enumerate([(1940, 1960), (1960, 1980), (1980, 2000)]):\n",
    "    temp = respondents_zip[~respondents_zip.parents_had_phd.isna()]\n",
    "    temp = temp[(temp.age_coded >= year_start) & (temp.age_coded < year_end)]\n",
    "    # print(1/temp['rank_scaled'])\n",
    "    \n",
    "    res = smf.ols('parents_had_phd ~ rank_scaled', data=temp).fit()\n",
    "    models.append(res)\n",
    "    ax.plot(prestige_range, [100.*(res.params['Intercept']+res.params['rank_scaled']*pi) for pi in prestige_range], \n",
    "            label='%.0f--%.0f' % (year_start, year_end), color=category_colors[i], linestyle='dashed')\n",
    "    \n",
    "    # print(len(temp), temp.groupby(pd.cut(temp.rank_scaled, prestige_bins)).size())\n",
    "    temp = temp.groupby(pd.cut(temp.rank_scaled, prestige_bins))[['rank_scaled', 'parents_had_phd']].mean()\n",
    "    ax.scatter(temp.rank_scaled, temp.parents_had_phd*100., alpha=0.8, color=category_colors[i])\n",
    "    \n",
    "shift = 2\n",
    "ax.arrow(8, 1.25*shift, -5, 0, head_width=shift/2, head_length=1, color=plot_utils.LIGHT_COLOR)\n",
    "ax.text(10, shift, 'More prestigious', fontsize=plot_utils.LEGEND_SIZE, color=plot_utils.LIGHT_COLOR)\n",
    "ax.arrow(90, 1.25*shift, 5, 0, head_width=shift/2, head_length=1, color=plot_utils.LIGHT_COLOR)\n",
    "ax.text(81, shift, 'Less', fontsize=plot_utils.LEGEND_SIZE, color=plot_utils.LIGHT_COLOR)\n",
    "\n",
    "ax.text(-1, 39, '(b)', size=1.5*plot_utils.LABEL_SIZE)\n",
    "\n",
    "ax.set_ylabel('Percentage of Faculty with PhD Parent', size=plot_utils.LABEL_SIZE)\n",
    "ax.set_xlabel('Current Institutional Prestige Rank', size=plot_utils.LABEL_SIZE)\n",
    "\n",
    "plt.legend(frameon=False, fontsize=plot_utils.LEGEND_SIZE)\n",
    "plot_utils.finalize(ax)\n",
    "plt.tight_layout()\n",
    "plt.ylim(0, 42)\n",
    "plt.savefig('../plots/phd_parents_prestige.pdf', dpi=500)"
   ]
  },
  {
   "cell_type": "markdown",
   "metadata": {},
   "source": [
    "These differences in slope over time aren't significantly different, but the intercepts are. Regression lines above are just meant for visualization purposes."
   ]
  },
  {
   "cell_type": "code",
   "execution_count": 22,
   "metadata": {},
   "outputs": [
    {
     "name": "stdout",
     "output_type": "stream",
     "text": [
      "                            OLS Regression Results                            \n",
      "==============================================================================\n",
      "Dep. Variable:        parents_had_phd   R-squared:                       0.016\n",
      "Model:                            OLS   Adj. R-squared:                  0.015\n",
      "Method:                 Least Squares   F-statistic:                     21.12\n",
      "Date:                Tue, 07 Jun 2022   Prob (F-statistic):           5.18e-21\n",
      "Time:                        10:26:39   Log-Likelihood:                -3476.3\n",
      "No. Observations:                6459   AIC:                             6965.\n",
      "Df Residuals:                    6453   BIC:                             7005.\n",
      "Df Model:                           5                                         \n",
      "Covariance Type:            nonrobust                                         \n",
      "==========================================================================================================\n",
      "                                             coef    std err          t      P>|t|      [0.025      0.975]\n",
      "----------------------------------------------------------------------------------------------------------\n",
      "Intercept                                  0.2013      0.016     12.687      0.000       0.170       0.232\n",
      "C(birth_cohort)[T.1960-80]                 0.1123      0.020      5.556      0.000       0.073       0.152\n",
      "C(birth_cohort)[T.1980-00]                 0.1008      0.026      3.893      0.000       0.050       0.152\n",
      "rank_scaled                               -0.0009      0.000     -2.428      0.015      -0.002      -0.000\n",
      "rank_scaled:C(birth_cohort)[T.1960-80]    -0.0007      0.000     -1.640      0.101      -0.002       0.000\n",
      "rank_scaled:C(birth_cohort)[T.1980-00]    -0.0009      0.001     -1.514      0.130      -0.002       0.000\n",
      "==============================================================================\n",
      "Omnibus:                     1120.111   Durbin-Watson:                   1.962\n",
      "Prob(Omnibus):                  0.000   Jarque-Bera (JB):             1789.538\n",
      "Skew:                           1.283   Prob(JB):                         0.00\n",
      "Kurtosis:                       2.736   Cond. No.                         331.\n",
      "==============================================================================\n",
      "\n",
      "Notes:\n",
      "[1] Standard Errors assume that the covariance matrix of the errors is correctly specified.\n",
      "                             Test for Constraints                             \n",
      "==============================================================================\n",
      "                 coef    std err          t      P>|t|      [0.025      0.975]\n",
      "------------------------------------------------------------------------------\n",
      "c0          -9.27e-07      0.001     -0.001      0.999      -0.002       0.002\n",
      "==============================================================================\n"
     ]
    }
   ],
   "source": [
    "temp = respondents_zip[~respondents_zip.parents_had_phd.isna()].copy()\n",
    "\n",
    "temp.loc['birth_cohort'] = np.nan\n",
    "temp.loc[((temp.age_coded >= 1940) & (temp.age_coded < 1960)),'birth_cohort'] = '1940-60'\n",
    "temp.loc[((temp.age_coded >= 1960) & (temp.age_coded < 1980)),'birth_cohort'] = '1960-80'\n",
    "temp.loc[((temp.age_coded >= 1980) & (temp.age_coded < 2000)),'birth_cohort'] = '1980-00'\n",
    "\n",
    "res = smf.ols('parents_had_phd ~ 1 + rank_scaled*C(birth_cohort)', data=temp).fit()\n",
    "print(res.summary())\n",
    "\n",
    "# Returns a t-statistic, p-value, & CI for the difference\n",
    "print(res.t_test(\"rank_scaled = rank_scaled:C(birth_cohort)[T.1980-00]\"))"
   ]
  },
  {
   "cell_type": "markdown",
   "metadata": {},
   "source": [
    "### College completion among faculty parents relative to general US"
   ]
  },
  {
   "cell_type": "code",
   "execution_count": 23,
   "metadata": {},
   "outputs": [
    {
     "name": "stdout",
     "output_type": "stream",
     "text": [
      "['College: 4+ years', \"Master's or professional degree\", 'Doctoral degree']\n"
     ]
    }
   ],
   "source": [
    "college_label = 'College: 4+ years'; masters_label = \"Master's or professional degree\"\n",
    "print([college_label, masters_label, doctoral_label])\n",
    "college_plus_labels = [college_label, masters_label, doctoral_label]"
   ]
  },
  {
   "cell_type": "code",
   "execution_count": 24,
   "metadata": {},
   "outputs": [],
   "source": [
    "# From '../data/us_census_edu/census/tabn104.10.xls' \n",
    "#  (https://nces.ed.gov/programs/digest/d19/tables/dt19_104.10.asp)\n",
    "census_college_completion = pd.DataFrame({\n",
    "    'Year': [1910, 1920, 1930, 1940, 1950, 1960, 1970, 1975, 1980, 1985, 1986, 1987, 1988, 1989, 1990, 1991, \n",
    "              1992, 1993, 1994, 1995, 1996, 1997, 1998, 1999, 2000, 2001, 2002, 2003, 2004, 2005, 2006, 2007, \n",
    "              2008, 2009, 2010, 2011, 2012, 2013, 2014, 2015, 2016, 2017, 2018, 2019],\n",
    "    \"Bachelor's or higher degree\" : [2.7, 3.3, 3.9, 4.6, 6.2, 7.7, 11.0, 13.9, 17.0, 19.4, 19.4, 19.9, 20.3, \n",
    "                                     21.1, 21.3, 21.4, 21.4, 21.9, 22.2, 23.0, 23.6, 23.9, 24.4, 25.2, 25.6, \n",
    "                                     26.1, 26.7, 27.2, 27.7, 27.7, 28.0, 28.7, 29.4, 29.5, 29.9, 30.4, 30.9, \n",
    "                                     31.7, 32.0, 32.5, 33.4, 34.2, 35.0, 36.0]})\n",
    "census_college_completion[\"Bachelor's or higher degree\"] = census_college_completion[\"Bachelor's or higher degree\"] / 100.0"
   ]
  },
  {
   "cell_type": "code",
   "execution_count": 25,
   "metadata": {},
   "outputs": [
    {
     "data": {
      "image/png": "[encoded data removed]",
      "text/plain": [
       "<Figure size 432x288 with 1 Axes>"
      ]
     },
     "metadata": {
      "needs_background": "light"
     },
     "output_type": "display_data"
    }
   ],
   "source": [
    "category_colors = plt.get_cmap('Greens')(np.linspace(0.4, 1, 3))[::-1]\n",
    "fig, ax = plt.subplots(1, 1, figsize = plot_utils.SINGLE_FIG_SIZE)\n",
    "\n",
    "ax.set_ylim(0, 100)\n",
    "ax.set_xlim(1938, 1987)\n",
    "\n",
    "gender_id = (respondents_zip.gender_ans == 'Female')\n",
    "not_first_gen = respondents_zip[gender_id & respondents_zip.parents_highest_edu_coded.isin(\n",
    "        college_plus_labels)].age_coded.dropna()\n",
    "first_gen = respondents_zip[gender_id & ~respondents_zip.parents_highest_edu_coded.isin(\n",
    "    college_plus_labels)].age_coded.dropna()\n",
    "\n",
    "data = []\n",
    "years = [(1940, 1945), (1945, 1950), (1950, 1955), (1955, 1960), (1960, 1965), (1965, 1970), (1970, 1975), \n",
    "         (1975, 1980), (1980, 1985), (1985, 1990)]\n",
    "for year_start, year_end in years:\n",
    "    count_not_first_gen = sum(((np.array(not_first_gen) >= year_start) & (np.array(not_first_gen) < year_end)))\n",
    "    count_first_gen = sum(((np.array(first_gen) >= year_start) & (np.array(first_gen) < year_end)))\n",
    "    # print(count_not_first_gen, count_first_gen)\n",
    "    data.append(count_not_first_gen/(count_not_first_gen + count_first_gen))\n",
    "data_all = pd.DataFrame({'year': [y[0] for y in years], 'data': data})\n",
    "data_all = data_all.set_index('year')\n",
    "ax.plot([y[0] for y in years], np.array(data)*100., label='Women faculty', color=plot_utils.ACCENT_COLOR, \n",
    "       marker='o', linestyle=':')\n",
    "\n",
    "gender_id = (respondents_zip.gender_ans == 'Male')\n",
    "not_first_gen = respondents_zip[gender_id & respondents_zip.parents_highest_edu_coded.isin(\n",
    "        college_plus_labels)].age_coded.dropna()\n",
    "first_gen = respondents_zip[gender_id & ~respondents_zip.parents_highest_edu_coded.isin(\n",
    "    college_plus_labels)].age_coded.dropna()\n",
    "\n",
    "data = []\n",
    "for year_start, year_end in years:\n",
    "    count_not_first_gen = sum(((np.array(not_first_gen) >= year_start) & (np.array(not_first_gen) < year_end)))\n",
    "    count_first_gen = sum(((np.array(first_gen) >= year_start) & (np.array(first_gen) < year_end)))\n",
    "    # print(count_not_first_gen, count_first_gen)\n",
    "    data.append(count_not_first_gen/(count_not_first_gen + count_first_gen))\n",
    "data_all = pd.DataFrame({'year': [y[0] for y in years], 'data': data})\n",
    "data_all = data_all.set_index('year')\n",
    "ax.plot([y[0] for y in years], np.array(data)*100., label='Men faculty', color=plot_utils.ACCENT_COLOR, \n",
    "       marker='o')\n",
    "\n",
    "subset_years = [1940, 1950, 1960, 1970, 1975, 1980, 1985]\n",
    "subset_data = list(census_college_completion[census_college_completion['Year'].isin(subset_years)][\"Bachelor's or higher degree\"].values)\n",
    "subset_data_all = pd.DataFrame({'year': subset_years, 'data': subset_data})\n",
    "subset_data_all = subset_data_all.set_index('year')\n",
    "\n",
    "ax.plot(subset_years, np.array(subset_data)*100., color='black', marker='o')\n",
    "ax.set_ylabel('Percentage with College Degree Parents')\n",
    "ax.set_xlabel('Faculty Year of Birth')\n",
    "\n",
    "ax.text(1942, 13., \"Adults in the U.S.\", fontsize=plot_utils.LEGEND_SIZE, \n",
    "        color='black')\n",
    "# ax.text(1970, 85.5, \"Parents of Male Faculty\", fontsize=plot_utils.LEGEND_SIZE, \n",
    "#        color=plot_utils.ACCENT_COLOR)\n",
    "plt.legend(frameon=False, fontsize=plot_utils.LEGEND_SIZE)\n",
    "\n",
    "delta = 5; T = 1940; diff = (100.*data_all.loc[T, 'data'] - 100.*subset_data_all.loc[T, 'data'])\n",
    "ax.arrow(T, 100*subset_data_all.loc[T, 'data'] + delta, 0, diff - 2*delta, head_width=delta/5, \n",
    "         head_length=delta/2, color=plot_utils.LIGHT_COLOR)\n",
    "ax.text(T+1, 100*subset_data_all.loc[T, 'data'] + diff/2, r'$\\Delta = %.0f$' % diff, \n",
    "        fontsize=plot_utils.LEGEND_SIZE, color=plot_utils.LIGHT_COLOR)\n",
    "\n",
    "T = 1960; diff = (100*data_all.loc[T, 'data'] - 100*subset_data_all.loc[T, 'data'])\n",
    "ax.arrow(T, 100*subset_data_all.loc[T, 'data'] + delta, 0, diff - 2*delta, head_width=delta/5, \n",
    "         head_length=delta/2, color=plot_utils.LIGHT_COLOR)\n",
    "ax.text(T+1, 100*subset_data_all.loc[T, 'data'] + diff/2, r'$\\Delta = %.0f$' % diff, \n",
    "        fontsize=plot_utils.LEGEND_SIZE, color=plot_utils.LIGHT_COLOR)\n",
    "\n",
    "T = 1985; diff = (100*data_all.loc[T, 'data'] - 100*subset_data_all.loc[T, 'data'])\n",
    "ax.arrow(T, 100*subset_data_all.loc[T, 'data'] + delta, 0, diff - 2*delta, head_width=delta/5, \n",
    "         head_length=delta/2, color=plot_utils.LIGHT_COLOR)\n",
    "ax.text(T-6, 100*subset_data_all.loc[T, 'data'] + diff/2, r'$\\Delta = %.0f$' % diff, \n",
    "        fontsize=plot_utils.LEGEND_SIZE, color=plot_utils.LIGHT_COLOR)\n",
    "\n",
    "plot_utils.finalize(ax)\n",
    "\n",
    "plt.tight_layout()\n",
    "plt.savefig('../plots/education_generation_college.pdf', dpi=1000)"
   ]
  },
  {
   "cell_type": "markdown",
   "metadata": {},
   "source": [
    "Above, there is an interesting relationship with gender: women come from more highly educated families than men."
   ]
  },
  {
   "cell_type": "code",
   "execution_count": 26,
   "metadata": {},
   "outputs": [
    {
     "name": "stdout",
     "output_type": "stream",
     "text": [
      "1st Gen\t 2566\n",
      "Not\t 4676\n",
      "MannwhitneyuResult(statistic=5419553.5, pvalue=4.787877262554441e-12)\n"
     ]
    },
    {
     "data": {
      "image/png": "[encoded data removed]",
      "text/plain": [
       "<Figure size 432x288 with 1 Axes>"
      ]
     },
     "metadata": {
      "needs_background": "light"
     },
     "output_type": "display_data"
    }
   ],
   "source": [
    "fig, ax = plt.subplots(ncols=1, nrows=1, figsize=plot_utils.SINGLE_FIG_SIZE)\n",
    "prestige_range = np.arange(0, 101); \n",
    "\n",
    "first_gen = respondents_zip[~respondents_zip.parents_highest_edu_coded.isin(\n",
    "    college_plus_labels)].rank_scaled.dropna()\n",
    "print('1st Gen\\t', len(first_gen))\n",
    "plt.hist(first_gen, color='black', density=True, \n",
    "         label = 'First generation college student', alpha=0.75)\n",
    "plt.plot(prestige_range, sps.gaussian_kde(first_gen).pdf(prestige_range), \n",
    "         label=None, color='black', linestyle='--')\n",
    "\n",
    "not_first_gen = respondents_zip[respondents_zip.parents_highest_edu_coded.isin(\n",
    "    college_plus_labels)].rank_scaled.dropna()\n",
    "print('Not\\t', len(not_first_gen))\n",
    "plt.hist(not_first_gen, color=plot_utils.ACCENT_COLOR, density=True, \n",
    "         label = 'Parents had a bachelors or higher', alpha=0.75)\n",
    "plt.plot(prestige_range, sps.gaussian_kde(not_first_gen).pdf(prestige_range), \n",
    "         label=None, color=plot_utils.ACCENT_COLOR, linestyle='--')\n",
    "\n",
    "plt.xlabel('Institution Prestige', size=plot_utils.LABEL_SIZE)\n",
    "plt.ylabel('Fraction of Observations', size=plot_utils.LABEL_SIZE)\n",
    "plt.legend(frameon=False)\n",
    "\n",
    "print(mannwhitneyu(first_gen, not_first_gen))\n",
    "\n",
    "plt.xlim(0, 101)\n",
    "plot_utils.finalize(ax)\n",
    "plt.tight_layout()\n",
    "plt.savefig('../plots/prestige_p1p2_college.pdf', dpi=1000)"
   ]
  },
  {
   "cell_type": "markdown",
   "metadata": {},
   "source": [
    "### Relationship between parents' education level and family support"
   ]
  },
  {
   "cell_type": "code",
   "execution_count": 27,
   "metadata": {},
   "outputs": [
    {
     "data": {
      "text/html": [
       "<div>\n",
       "<style scoped>\n",
       "    .dataframe tbody tr th:only-of-type {\n",
       "        vertical-align: middle;\n",
       "    }\n",
       "\n",
       "    .dataframe tbody tr th {\n",
       "        vertical-align: top;\n",
       "    }\n",
       "\n",
       "    .dataframe thead th {\n",
       "        text-align: right;\n",
       "    }\n",
       "</style>\n",
       "<table border=\"1\" class=\"dataframe\">\n",
       "  <thead>\n",
       "    <tr style=\"text-align: right;\">\n",
       "      <th></th>\n",
       "      <th>count</th>\n",
       "      <th>mean</th>\n",
       "      <th>std</th>\n",
       "      <th>min</th>\n",
       "      <th>25%</th>\n",
       "      <th>50%</th>\n",
       "      <th>75%</th>\n",
       "      <th>max</th>\n",
       "    </tr>\n",
       "    <tr>\n",
       "      <th>parents_highest_edu_coded</th>\n",
       "      <th></th>\n",
       "      <th></th>\n",
       "      <th></th>\n",
       "      <th></th>\n",
       "      <th></th>\n",
       "      <th></th>\n",
       "      <th></th>\n",
       "      <th></th>\n",
       "    </tr>\n",
       "  </thead>\n",
       "  <tbody>\n",
       "    <tr>\n",
       "      <th>College: 1-3 years</th>\n",
       "      <td>546.0</td>\n",
       "      <td>3.858974</td>\n",
       "      <td>1.235663</td>\n",
       "      <td>1.0</td>\n",
       "      <td>3.0</td>\n",
       "      <td>4.0</td>\n",
       "      <td>5.0</td>\n",
       "      <td>5.0</td>\n",
       "    </tr>\n",
       "    <tr>\n",
       "      <th>College: 4+ years</th>\n",
       "      <td>1099.0</td>\n",
       "      <td>3.907188</td>\n",
       "      <td>1.206590</td>\n",
       "      <td>1.0</td>\n",
       "      <td>3.0</td>\n",
       "      <td>4.0</td>\n",
       "      <td>5.0</td>\n",
       "      <td>5.0</td>\n",
       "    </tr>\n",
       "    <tr>\n",
       "      <th>Doctoral degree</th>\n",
       "      <td>1269.0</td>\n",
       "      <td>4.457053</td>\n",
       "      <td>0.953538</td>\n",
       "      <td>1.0</td>\n",
       "      <td>4.0</td>\n",
       "      <td>5.0</td>\n",
       "      <td>5.0</td>\n",
       "      <td>5.0</td>\n",
       "    </tr>\n",
       "    <tr>\n",
       "      <th>Elementary: 0-8 years</th>\n",
       "      <td>127.0</td>\n",
       "      <td>3.559055</td>\n",
       "      <td>1.525724</td>\n",
       "      <td>1.0</td>\n",
       "      <td>2.0</td>\n",
       "      <td>4.0</td>\n",
       "      <td>5.0</td>\n",
       "      <td>5.0</td>\n",
       "    </tr>\n",
       "    <tr>\n",
       "      <th>High school: 1-3 years</th>\n",
       "      <td>150.0</td>\n",
       "      <td>3.700000</td>\n",
       "      <td>1.304355</td>\n",
       "      <td>1.0</td>\n",
       "      <td>3.0</td>\n",
       "      <td>4.0</td>\n",
       "      <td>5.0</td>\n",
       "      <td>5.0</td>\n",
       "    </tr>\n",
       "    <tr>\n",
       "      <th>High school: 4 years</th>\n",
       "      <td>797.0</td>\n",
       "      <td>3.500627</td>\n",
       "      <td>1.371483</td>\n",
       "      <td>1.0</td>\n",
       "      <td>2.0</td>\n",
       "      <td>4.0</td>\n",
       "      <td>5.0</td>\n",
       "      <td>5.0</td>\n",
       "    </tr>\n",
       "    <tr>\n",
       "      <th>Master's or professional degree</th>\n",
       "      <td>1737.0</td>\n",
       "      <td>4.124352</td>\n",
       "      <td>1.098055</td>\n",
       "      <td>1.0</td>\n",
       "      <td>4.0</td>\n",
       "      <td>5.0</td>\n",
       "      <td>5.0</td>\n",
       "      <td>5.0</td>\n",
       "    </tr>\n",
       "  </tbody>\n",
       "</table>\n",
       "</div>"
      ],
      "text/plain": [
       "                                  count      mean       std  min  25%  50%  \\\n",
       "parents_highest_edu_coded                                                    \n",
       "College: 1-3 years                546.0  3.858974  1.235663  1.0  3.0  4.0   \n",
       "College: 4+ years                1099.0  3.907188  1.206590  1.0  3.0  4.0   \n",
       "Doctoral degree                  1269.0  4.457053  0.953538  1.0  4.0  5.0   \n",
       "Elementary: 0-8 years             127.0  3.559055  1.525724  1.0  2.0  4.0   \n",
       "High school: 1-3 years            150.0  3.700000  1.304355  1.0  3.0  4.0   \n",
       "High school: 4 years              797.0  3.500627  1.371483  1.0  2.0  4.0   \n",
       "Master's or professional degree  1737.0  4.124352  1.098055  1.0  4.0  5.0   \n",
       "\n",
       "                                 75%  max  \n",
       "parents_highest_edu_coded                  \n",
       "College: 1-3 years               5.0  5.0  \n",
       "College: 4+ years                5.0  5.0  \n",
       "Doctoral degree                  5.0  5.0  \n",
       "Elementary: 0-8 years            5.0  5.0  \n",
       "High school: 1-3 years           5.0  5.0  \n",
       "High school: 4 years             5.0  5.0  \n",
       "Master's or professional degree  5.0  5.0  "
      ]
     },
     "execution_count": 27,
     "metadata": {},
     "output_type": "execute_result"
    }
   ],
   "source": [
    "# 1 (none at all) to 5 (a lot)\n",
    "respondents_zip.groupby(['parents_highest_edu_coded'])['support_parents'].describe() "
   ]
  },
  {
   "cell_type": "code",
   "execution_count": 28,
   "metadata": {},
   "outputs": [
    {
     "name": "stdout",
     "output_type": "stream",
     "text": [
      "4.512345679012346\n",
      "4.441860465116279\n",
      "3.869952494061758\n",
      "Ttest_indResult(statistic=0.8143565455968488, pvalue=0.41607357583995264)\n",
      "Ttest_indResult(statistic=8.191427761452855, pvalue=2.0411347098346644e-14)\n",
      "Ttest_indResult(statistic=10.147363636756872, pvalue=9.847524405240188e-23)\n"
     ]
    }
   ],
   "source": [
    "# How important is for women to have highly educated mothers vs. fathers? I'd suspect mother role model will \n",
    "# be important for women in particular; although of course a highly educated mother is also a good role \n",
    "# model for men. In particular, I wonder if women get more support (Fig 2) if mother has PhD as opposed to \n",
    "# 'only' father, as opposed to neither parent.\n",
    "support_id = 'support_parents'\n",
    "\n",
    "print(respondents_zip[(respondents_zip.gender_ans == 'Female') & \n",
    "                      (respondents_zip.mom_edu_coded == 'Doctoral degree')][support_id].mean())\n",
    "print(respondents_zip[(respondents_zip.gender_ans == 'Female') & \n",
    "                (respondents_zip.mom_edu_coded != 'Doctoral degree') &\n",
    "                (respondents_zip.dad_edu_coded == 'Doctoral degree')][support_id].mean())\n",
    "print(respondents_zip[(respondents_zip.gender_ans == 'Female') & \n",
    "                (respondents_zip.mom_edu_coded != 'Doctoral degree') &\n",
    "                (respondents_zip.dad_edu_coded != 'Doctoral degree')][support_id].mean())\n",
    "\n",
    "print(ttest_ind(respondents_zip[(respondents_zip.gender_ans == 'Female') & \n",
    "                                (respondents_zip.mom_edu_coded == 'Doctoral degree')][support_id].dropna(),\n",
    "                respondents_zip[(respondents_zip.gender_ans == 'Female') & \n",
    "                                (respondents_zip.mom_edu_coded != 'Doctoral degree') &\n",
    "                                (respondents_zip.dad_edu_coded == 'Doctoral degree')][support_id].dropna(), \n",
    "                equal_var=False))\n",
    "\n",
    "print(ttest_ind(respondents_zip[(respondents_zip.gender_ans == 'Female') & \n",
    "                                (respondents_zip.mom_edu_coded == 'Doctoral degree')][support_id].dropna(),\n",
    "                respondents_zip[(respondents_zip.gender_ans == 'Female') & \n",
    "                                (respondents_zip.mom_edu_coded != 'Doctoral degree') &\n",
    "                                (respondents_zip.dad_edu_coded != 'Doctoral degree')][support_id].dropna(), \n",
    "                equal_var=False))\n",
    "\n",
    "print(ttest_ind(respondents_zip[(respondents_zip.gender_ans == 'Female') & \n",
    "                                (respondents_zip.mom_edu_coded != 'Doctoral degree') &\n",
    "                                (respondents_zip.dad_edu_coded == 'Doctoral degree')][support_id].dropna(),\n",
    "                respondents_zip[(respondents_zip.gender_ans == 'Female') & \n",
    "                                (respondents_zip.mom_edu_coded != 'Doctoral degree') &\n",
    "                                (respondents_zip.dad_edu_coded != 'Doctoral degree')][support_id].dropna(), \n",
    "                equal_var=False))"
   ]
  },
  {
   "cell_type": "markdown",
   "metadata": {},
   "source": [
    "Average support level by faculty gender is very similar! Remains true when you stratify by parents' education."
   ]
  },
  {
   "cell_type": "code",
   "execution_count": 29,
   "metadata": {},
   "outputs": [
    {
     "data": {
      "text/plain": [
       "gender_ans\n",
       "Female               4.015674\n",
       "Male                 4.022819\n",
       "Other identity       3.583333\n",
       "Prefer not to say    4.291667\n",
       "Name: support_parents, dtype: float64"
      ]
     },
     "execution_count": 29,
     "metadata": {},
     "output_type": "execute_result"
    }
   ],
   "source": [
    "respondents_zip.groupby('gender_ans')['support_parents'].mean()"
   ]
  },
  {
   "cell_type": "code",
   "execution_count": 30,
   "metadata": {},
   "outputs": [
    {
     "name": "stdout",
     "output_type": "stream",
     "text": [
      "5695 4.015673981191223 4.022819179664934\n",
      "Ttest_indResult(statistic=-0.21904551911132325, pvalue=0.8266239674904428)\n",
      "(-0.0710948675505663, 0.056804470603144794)\n"
     ]
    }
   ],
   "source": [
    "women_support = respondents_zip[respondents_zip.gender_ans == 'Female']['support_parents'].dropna()\n",
    "men_support = respondents_zip[respondents_zip.gender_ans == 'Male']['support_parents'].dropna()\n",
    "\n",
    "print(len(women_support) + len(men_support), np.mean(women_support), np.mean(men_support))\n",
    "print(ttest_ind(women_support, men_support, equal_var=False))\n",
    "\n",
    "r = sms.CompareMeans(sms.DescrStatsW(women_support), sms.DescrStatsW(men_support))\n",
    "print(r.tconfint_diff(usevar='unequal'))"
   ]
  },
  {
   "cell_type": "code",
   "execution_count": 31,
   "metadata": {},
   "outputs": [
    {
     "data": {
      "text/plain": [
       "gender_ans\n",
       "Female               4.512346\n",
       "Male                 4.492147\n",
       "Prefer not to say         NaN\n",
       "Name: support_parents, dtype: float64"
      ]
     },
     "execution_count": 31,
     "metadata": {},
     "output_type": "execute_result"
    }
   ],
   "source": [
    "respondents_zip[(respondents_zip.mom_edu_coded == 'Doctoral degree')].groupby('gender_ans')['support_parents'].mean()"
   ]
  },
  {
   "cell_type": "code",
   "execution_count": 32,
   "metadata": {},
   "outputs": [
    {
     "data": {
      "text/plain": [
       "4.020240795672658"
      ]
     },
     "execution_count": 32,
     "metadata": {},
     "output_type": "execute_result"
    }
   ],
   "source": [
    "respondents_zip['support_parents'].mean()"
   ]
  },
  {
   "cell_type": "code",
   "execution_count": 33,
   "metadata": {},
   "outputs": [
    {
     "name": "stdout",
     "output_type": "stream",
     "text": [
      "False    0.667051\n",
      "True     0.332949\n",
      "Name: mom_edu_coded, dtype: float64\n",
      "False    0.717488\n",
      "True     0.282512\n",
      "Name: mom_edu_coded, dtype: float64\n",
      "7107\n",
      "(4.465386547664603, 7.992431690107795e-06)\n",
      "(0.028158207131478718, 0.07289611760573596)\n"
     ]
    }
   ],
   "source": [
    "women_mom_edu_dist = respondents_zip[respondents_zip.gender_ans == 'Female']['mom_edu_coded'].dropna().isin(\n",
    "    [\"Master's or professional degree\", 'Doctoral degree'])\n",
    "print(women_mom_edu_dist.value_counts(normalize=True))\n",
    "\n",
    "men_mom_edu_dist = respondents_zip[respondents_zip.gender_ans == 'Male']['mom_edu_coded'].dropna().isin(\n",
    "    [\"Master's or professional degree\", 'Doctoral degree'])\n",
    "print(men_mom_edu_dist.value_counts(normalize=True))\n",
    "\n",
    "print(len(women_mom_edu_dist) + len(men_mom_edu_dist))\n",
    "print(proportions_ztest([sum(women_mom_edu_dist), sum(men_mom_edu_dist)], \n",
    "                        [len(women_mom_edu_dist), len(men_mom_edu_dist)]))\n",
    "print(confint_proportions_2indep(sum(women_mom_edu_dist), len(women_mom_edu_dist),\n",
    "                                 sum(men_mom_edu_dist), len(men_mom_edu_dist)))"
   ]
  },
  {
   "cell_type": "code",
   "execution_count": 34,
   "metadata": {},
   "outputs": [
    {
     "data": {
      "text/plain": [
       "True     0.518519\n",
       "False    0.481481\n",
       "Name: parents_highest_edu_coded, dtype: float64"
      ]
     },
     "execution_count": 34,
     "metadata": {},
     "output_type": "execute_result"
    }
   ],
   "source": [
    "respondents_zip['parents_highest_edu_coded'].dropna().isin(\n",
    "    [\"Master's or professional degree\", 'Doctoral degree']).value_counts(normalize=True)"
   ]
  },
  {
   "cell_type": "code",
   "execution_count": 35,
   "metadata": {},
   "outputs": [
    {
     "data": {
      "text/plain": [
       "False    0.963291\n",
       "True     0.036709\n",
       "dtype: float64"
      ]
     },
     "execution_count": 35,
     "metadata": {},
     "output_type": "execute_result"
    }
   ],
   "source": [
    "((respondents_zip.p1_edu_coded == 'Doctoral degree') &  \n",
    " (respondents_zip.p2_edu_coded == 'Doctoral degree')).value_counts(normalize=True) # Have two PhD parents"
   ]
  },
  {
   "cell_type": "code",
   "execution_count": 36,
   "metadata": {},
   "outputs": [
    {
     "name": "stdout",
     "output_type": "stream",
     "text": [
      "1: None\n",
      "2\n",
      "3\n",
      "4\n",
      "5: A lot\n"
     ]
    },
    {
     "name": "stderr",
     "output_type": "stream",
     "text": [
      "<ipython-input-36-8345fa79a2a1>:46: UserWarning: FixedFormatter should only be used together with FixedLocator\n",
      "  ax.set_yticklabels(labels=labels, fontsize=plot_utils.LEGEND_SIZE)\n"
     ]
    },
    {
     "data": {
      "image/png": "[encoded data removed]",
      "text/plain": [
       "<Figure size 432x288 with 1 Axes>"
      ]
     },
     "metadata": {
      "needs_background": "light"
     },
     "output_type": "display_data"
    }
   ],
   "source": [
    "category_names = ['1: None', '2', '3', '4', '5: A lot']\n",
    "# https://matplotlib.org/3.1.3/gallery/lines_bars_and_markers/horizontal_barchart_distribution.html\n",
    "gender_id = True # (respondents_zip.gender_ans == 'Female')\n",
    "parent_col = 'parents_highest_edu_coded' #'dad_edu_coded'\n",
    "support_col = 'support_parents'\n",
    "\n",
    "results = {\n",
    "    r'$\\leq$ HS': respondents_zip[gender_id & (respondents_zip[parent_col].isin(['Elementary: 0-8 years', \n",
    "    'High school: 1-3 years', 'High school: 4 years']))][support_col].value_counts(normalize=True).sort_index().values,\n",
    "    r'$<$ College': respondents_zip[gender_id & (respondents_zip[parent_col] == 'College: 1-3 years')][support_col].value_counts(normalize=True).sort_index().values,\n",
    "    'College': respondents_zip[gender_id & (respondents_zip[parent_col] == 'College: 4+ years')][support_col].value_counts(normalize=True).sort_index().values,\n",
    "    'Masters': respondents_zip[gender_id & (respondents_zip[parent_col] == \"Master's or professional degree\")][support_col].value_counts(normalize=True).sort_index().values,\n",
    "    'Doctorate': respondents_zip[gender_id & (respondents_zip[parent_col] == 'Doctoral degree')][support_col].value_counts(normalize=True).sort_index().values,\n",
    "}\n",
    "\n",
    "labels = list(results.keys())\n",
    "data = np.array(list(results.values()))\n",
    "data_cum = data.cumsum(axis=1)\n",
    "category_colors = plt.get_cmap('Greens')(np.linspace(0.15, 0.85, data.shape[1]))\n",
    "\n",
    "fig, ax = plt.subplots(figsize=plot_utils.SINGLE_FIG_SIZE)\n",
    "ax.invert_yaxis()\n",
    "ax.xaxis.set_visible(False)\n",
    "ax.set_xlim(0, np.sum(data, axis=1).max())\n",
    "\n",
    "for i, (colname, color) in enumerate(zip(category_names, category_colors)):\n",
    "    print(colname)\n",
    "    widths = data[:, i]\n",
    "    starts = data_cum[:, i] - widths\n",
    "    ax.barh(labels, widths, left=starts, height=0.5, label=colname, color=color)\n",
    "    xcenters = starts + widths / 2\n",
    "\n",
    "    r, g, b, _ = color\n",
    "    text_color = 'white' if r * g * b < 0.25 else '0.325'\n",
    "    for y, (x, c) in enumerate(zip(xcenters, widths)):\n",
    "        if c > 0.1:\n",
    "            ax.text(x, y, r'{:1.1f}\\%'.format(c*100.0), ha='center', va='center', color=text_color)\n",
    "        ax.legend(ncol=len(category_names), bbox_to_anchor=(-0.1, 1), loc='lower left', \n",
    "                  fontsize=plot_utils.LEGEND_SIZE, frameon=False)\n",
    "        \n",
    "# plt.title(\"Support from Family by Parents' Highest Education\", fontsize=plot_utils.TITLE_SIZE, pad=32)\n",
    "# ax.set_ylabel(\"Parents' Highest Degree\", fontsize=plot_utils.TITLE_SIZE)\n",
    "\n",
    "plot_utils.finalize(ax)\n",
    "ax.get_xaxis().tick_bottom()\n",
    "ax.set_yticklabels(labels=labels, fontsize=plot_utils.LEGEND_SIZE)\n",
    "ax.spines[\"bottom\"].set_visible(False)\n",
    "plt.tight_layout()\n",
    "\n",
    "plt.savefig('../plots/parent_support.pdf', dpi=500)"
   ]
  },
  {
   "cell_type": "code",
   "execution_count": 37,
   "metadata": {},
   "outputs": [
    {
     "name": "stdout",
     "output_type": "stream",
     "text": [
      "{5.0: 867, 4.0: 216, 3.0: 116, 2.0: 39, 1.0: 31} {5.0: 1965, 4.0: 1025, 3.0: 774, 2.0: 423, 1.0: 269}\n"
     ]
    }
   ],
   "source": [
    "# Does not include CS responses, which are coded differently \n",
    "doctoral_label = 'Doctoral degree'\n",
    "temp = respondents_zip[~respondents_zip['parents_highest_edu_coded'].isna()]\n",
    "not_first_gen_doctorate = temp[(temp['parents_highest_edu_coded'] == doctoral_label)]['support_parents'].dropna()\n",
    "first_gen_doctorate = temp[temp['parents_highest_edu_coded'] != doctoral_label]['support_parents'].dropna()\n",
    "\n",
    "print(dict(pd.Series(not_first_gen_doctorate).value_counts()), \n",
    "      dict(pd.Series(first_gen_doctorate).value_counts()))"
   ]
  },
  {
   "cell_type": "code",
   "execution_count": 38,
   "metadata": {},
   "outputs": [],
   "source": [
    "not_first_gen_doctorate = not_first_gen_doctorate[~pd.isnull(not_first_gen_doctorate)]\n",
    "first_gen_doctorate = first_gen_doctorate[~pd.isnull(first_gen_doctorate)]"
   ]
  },
  {
   "cell_type": "markdown",
   "metadata": {},
   "source": [
    "Are these differences between PhD parents and not significant? Yes, (a) by testing the proportions who report less than / greater than 3, and (b) by the distributions of responses [1, 2, 3, 4, 5], and (c) by a t-test for a difference in their mean support values."
   ]
  },
  {
   "cell_type": "code",
   "execution_count": 39,
   "metadata": {},
   "outputs": [
    {
     "name": "stdout",
     "output_type": "stream",
     "text": [
      "1083 2990\n",
      "0.8534278959810875 0.6710053859964094\n"
     ]
    }
   ],
   "source": [
    "print(np.count_nonzero(not_first_gen_doctorate > 3.0), np.count_nonzero(first_gen_doctorate > 3.0))\n",
    "print(np.count_nonzero(not_first_gen_doctorate > 3.0)/len(not_first_gen_doctorate), \n",
    "      np.count_nonzero(first_gen_doctorate > 3.0)/len(first_gen_doctorate))\n",
    "# print(proportions_ztest([np.count_nonzero(not_first_gen_doctorate > 3.0), \n",
    "#                          np.count_nonzero(first_gen_doctorate > 3.0)],\n",
    "#                         [len(not_first_gen_doctorate), len(first_gen_doctorate)])) # Should be same as chi^2"
   ]
  },
  {
   "cell_type": "code",
   "execution_count": 40,
   "metadata": {},
   "outputs": [
    {
     "data": {
      "text/plain": [
       "(160.10861330858492,\n",
       " 1.0713162337825576e-36,\n",
       " 1,\n",
       " array([[ 902.81868996,  366.18131004],\n",
       "        [3170.18131004, 1285.81868996]]))"
      ]
     },
     "execution_count": 40,
     "metadata": {},
     "output_type": "execute_result"
    }
   ],
   "source": [
    "chi2_contingency([[np.count_nonzero(not_first_gen_doctorate > 3.0), \n",
    "                   np.count_nonzero(not_first_gen_doctorate <= 3.0)], \n",
    "                  [np.count_nonzero(first_gen_doctorate > 3.0), \n",
    "                   np.count_nonzero(first_gen_doctorate <= 3.0)]], correction=False)"
   ]
  },
  {
   "cell_type": "code",
   "execution_count": 41,
   "metadata": {},
   "outputs": [
    {
     "data": {
      "text/plain": [
       "array([ 31,  39, 116, 216, 867])"
      ]
     },
     "execution_count": 41,
     "metadata": {},
     "output_type": "execute_result"
    }
   ],
   "source": [
    "not_first_gen_doctorate.value_counts().sort_index().values"
   ]
  },
  {
   "cell_type": "code",
   "execution_count": 42,
   "metadata": {},
   "outputs": [
    {
     "data": {
      "text/plain": [
       "(251.27311644145547,\n",
       " 3.4617455133817216e-53,\n",
       " 4,\n",
       " array([[[  66.49781659,  102.40663755,  197.2768559 ,  275.07930131,\n",
       "           627.73938865]],\n",
       " \n",
       "        [[ 233.50218341,  359.59336245,  692.7231441 ,  965.92069869,\n",
       "          2204.26061135]]]))"
      ]
     },
     "execution_count": 42,
     "metadata": {},
     "output_type": "execute_result"
    }
   ],
   "source": [
    "chi2_contingency([[not_first_gen_doctorate.value_counts().sort_index().values], \n",
    "                  [first_gen_doctorate.value_counts().sort_index().values]], correction=False)"
   ]
  },
  {
   "cell_type": "markdown",
   "metadata": {},
   "source": [
    "Faculty who had a parent with a PhD reported receiving more parental support for their academic career then faculty whose parents did not earn a PhD."
   ]
  },
  {
   "cell_type": "code",
   "execution_count": 43,
   "metadata": {},
   "outputs": [
    {
     "name": "stdout",
     "output_type": "stream",
     "text": [
      "5725 4.45705279747833 3.8963195691202874\n",
      "Ttest_indResult(statistic=17.22890388282989, pvalue=4.465110027133807e-63)\n",
      "(0.4969144021202891, 0.6245520545957952)\n"
     ]
    }
   ],
   "source": [
    "print(len(not_first_gen_doctorate) + len(first_gen_doctorate), \n",
    "      np.mean(not_first_gen_doctorate), np.mean(first_gen_doctorate))\n",
    "print(ttest_ind(not_first_gen_doctorate, first_gen_doctorate, equal_var=False))\n",
    "\n",
    "r = sms.CompareMeans(sms.DescrStatsW(not_first_gen_doctorate), sms.DescrStatsW(first_gen_doctorate))\n",
    "print(r.tconfint_diff(usevar='unequal'))"
   ]
  },
  {
   "cell_type": "markdown",
   "metadata": {},
   "source": [
    "### Importance of geography and career age by parents' education"
   ]
  },
  {
   "cell_type": "code",
   "execution_count": 44,
   "metadata": {},
   "outputs": [
    {
     "name": "stdout",
     "output_type": "stream",
     "text": [
      "{3.0: 722, 2.0: 510, 1.0: 204} {3.0: 2389, 2.0: 1823, 1.0: 747}\n"
     ]
    }
   ],
   "source": [
    "# Responses with '4'-->'not applicable'\n",
    "not_first_gen_doctorate = respondents_zip[respondents_zip['parents_highest_edu_coded'] == doctoral_label]['current_geo'].dropna()\n",
    "first_gen_doctorate = respondents_zip[respondents_zip['parents_highest_edu_coded'] != doctoral_label]['current_geo'].dropna()\n",
    "\n",
    "print(dict(pd.Series(not_first_gen_doctorate).value_counts()), \n",
    "      dict(pd.Series(first_gen_doctorate).value_counts()))"
   ]
  },
  {
   "cell_type": "code",
   "execution_count": 45,
   "metadata": {},
   "outputs": [],
   "source": [
    "not_first_gen_doctorate = not_first_gen_doctorate[~pd.isnull(not_first_gen_doctorate)]\n",
    "first_gen_doctorate = first_gen_doctorate[~pd.isnull(first_gen_doctorate)]"
   ]
  },
  {
   "cell_type": "code",
   "execution_count": 46,
   "metadata": {},
   "outputs": [
    {
     "name": "stdout",
     "output_type": "stream",
     "text": [
      "722 2389\n",
      "0.5027855153203342 0.4817503528937286\n"
     ]
    }
   ],
   "source": [
    "print(np.count_nonzero(not_first_gen_doctorate > 2.0), np.count_nonzero(first_gen_doctorate > 2.0))\n",
    "print(np.count_nonzero(not_first_gen_doctorate > 2.0)/len(not_first_gen_doctorate), \n",
    "      np.count_nonzero(first_gen_doctorate > 2.0)/len(first_gen_doctorate))"
   ]
  },
  {
   "cell_type": "markdown",
   "metadata": {},
   "source": [
    "No significant relationship between how important geography was in choosing a position for those with / without PhD parents."
   ]
  },
  {
   "cell_type": "code",
   "execution_count": 47,
   "metadata": {},
   "outputs": [
    {
     "name": "stdout",
     "output_type": "stream",
     "text": [
      "2.360724233983287 2.3311151441822946\n"
     ]
    },
    {
     "data": {
      "text/plain": [
       "Ttest_indResult(statistic=1.3743770735546006, pvalue=0.1694560353355279)"
      ]
     },
     "execution_count": 47,
     "metadata": {},
     "output_type": "execute_result"
    }
   ],
   "source": [
    "print(np.mean(not_first_gen_doctorate), np.mean(first_gen_doctorate))\n",
    "ttest_ind(not_first_gen_doctorate, first_gen_doctorate, equal_var=False)"
   ]
  },
  {
   "cell_type": "markdown",
   "metadata": {},
   "source": [
    "Some (small) evidence that time to first TT job is affected by parent's SES."
   ]
  },
  {
   "cell_type": "code",
   "execution_count": 48,
   "metadata": {},
   "outputs": [
    {
     "name": "stdout",
     "output_type": "stream",
     "text": [
      "33.116883116883116 33.5614489003881 6951 Ttest_indResult(statistic=-3.039308338924297, pvalue=0.002394829654780563)\n"
     ]
    },
    {
     "data": {
      "image/png": "[encoded data removed]",
      "text/plain": [
       "<Figure size 432x288 with 1 Axes>"
      ]
     },
     "metadata": {
      "needs_background": "light"
     },
     "output_type": "display_data"
    }
   ],
   "source": [
    "fig, ax = plt.subplots(1, 1)\n",
    "temp = respondents_zip[~respondents_zip['parents_highest_edu_coded'].isna()]\n",
    "high_edu = temp[temp['parents_highest_edu_coded'] == doctoral_label]\n",
    "high_edu_years = (high_edu['Tenure Track Year'] - high_edu['age_coded']).dropna()\n",
    "high_edu_years.hist(alpha=0.5, color=plot_utils.ACCENT_COLOR, density=True, ax=ax)\n",
    "\n",
    "low_edu = temp[temp['parents_highest_edu_coded'] != doctoral_label]\n",
    "low_edu_years = (low_edu['Tenure Track Year'] - low_edu['age_coded']).dropna()\n",
    "low_edu_years.hist(alpha=0.5, color=plot_utils.ALMOST_BLACK, grid=False, density=True, ax=ax)\n",
    "\n",
    "print(high_edu_years.mean(), low_edu_years.mean(), len(high_edu_years) + len(low_edu_years),\n",
    "      ttest_ind(high_edu_years, low_edu_years, equal_var=False))\n",
    "plot_utils.finalize(ax)"
   ]
  },
  {
   "cell_type": "markdown",
   "metadata": {},
   "source": [
    "### Distribution of parent's education level by discipline"
   ]
  },
  {
   "cell_type": "code",
   "execution_count": 49,
   "metadata": {},
   "outputs": [
    {
     "name": "stdout",
     "output_type": "stream",
     "text": [
      "Master's or professional degree    2134\n",
      "Doctoral degree                    1604\n",
      "College: 4+ years                  1407\n",
      "High school: 4 years                987\n",
      "College: 1-3 years                  683\n",
      "High school: 1-3 years              210\n",
      "Elementary: 0-8 years               184\n",
      "Name: parents_highest_edu_coded, dtype: int64\n",
      "[184, 210, 987, 683, 1407, 2134, 1604] 7209\n"
     ]
    }
   ],
   "source": [
    "prof_dist = respondents_zip['parents_highest_edu_coded'].value_counts()\n",
    "print(prof_dist)\n",
    "\n",
    "is_prof = [prof_dist[edu_bin].values.sum() for edu_bin in [\n",
    "    [\"Elementary: 0-8 years\"], ['High school: 1-3 years'], ['High school: 4 years'],\n",
    "    ['College: 1-3 years'], ['College: 4+ years'], [\"Master's or professional degree\"], ['Doctoral degree']]]\n",
    "print(is_prof, sum(is_prof))"
   ]
  },
  {
   "cell_type": "code",
   "execution_count": 50,
   "metadata": {},
   "outputs": [],
   "source": [
    "fields = respondents_zip['likely_department'].dropna().unique()\n",
    "field_parent_edu_distribution = {}\n",
    "edu_bins = [['Elementary: 0-8 years'], ['High school: 1-3 years'], \n",
    "            ['High school: 4 years'], ['College: 1-3 years'], ['College: 4+ years'], \n",
    "            [\"Master's or professional degree\"], ['Doctoral degree']]\n",
    "\n",
    "for field in fields:\n",
    "    prof_field_dist = respondents_zip[respondents_zip.likely_department == field]['parents_highest_edu_coded'].value_counts()\n",
    "    if len(prof_field_dist) > 0:\n",
    "        field_parent_edu_distribution[field] = pd.Series(\n",
    "            [prof_field_dist.loc[prof_field_dist.index.intersection(edu_bin)].values.sum() \n",
    "             for edu_bin in edu_bins]).fillna(0)"
   ]
  },
  {
   "cell_type": "code",
   "execution_count": 51,
   "metadata": {},
   "outputs": [
    {
     "data": {
      "text/plain": [
       "[698.6758394943125,\n",
       " 844.7197230856646,\n",
       " 2850.3015059241898,\n",
       " 1853.7040175930424,\n",
       " 1169.075227696178,\n",
       " 521.9898908027701,\n",
       " 70.53379540384154]"
      ]
     },
     "execution_count": 51,
     "metadata": {},
     "output_type": "execute_result"
    }
   ],
   "source": [
    "# Using estimates of educational attainment closest to when faculty were born\n",
    "is_not_prof = [respondents_zip[edu_bin].values.sum() for edu_bin in [\n",
    "    ['US_elem_1st-4th', 'US_elem_5th-6th', 'US_elem_7-8th'], ['US_hs_9th', 'US_hs_10th', 'US_hs_11th'], \n",
    "    ['US_hs_graduate'], ['US_college_some', 'US_associate_occupational', 'US_associate_academic'], \n",
    "    ['US_bachelors'], ['US_masters', 'US_professional_degree'], ['US_doctorate_degree']]]\n",
    "is_not_prof"
   ]
  },
  {
   "cell_type": "code",
   "execution_count": 52,
   "metadata": {},
   "outputs": [
    {
     "name": "stdout",
     "output_type": "stream",
     "text": [
      "[201478.59999999998, 111754.69999999998, 184255.8, 207439.90000000002, 94222.1]\n",
      "['HS or less'] ['< College'] ['College'] ['Masters + professional'] ['PhD']\n",
      "['25.2', '14.0', '23.1', '26.0', '11.8']\n"
     ]
    }
   ],
   "source": [
    "# Using estimates of parents education levels among doctoral recipients \n",
    "is_phd = [respondents_zip[edu_bin].values.sum() for edu_bin in [\n",
    "    ['NSF_SED_high_school_or_less'], ['NSF_SED_some_college'], [\"NSF_SED_bachelor's_degree\"], \n",
    "    [\"NSF_SED_master's_degree\", 'NSF_SED_professional_degree'], ['NSF_SED_research_doctoral_degree']]]\n",
    "print(is_phd)\n",
    "print(['HS or less'], ['< College'], [\"College\"], ['Masters + professional'], ['PhD'])\n",
    "print(['%.1f' % x for x in (100.*np.array(is_phd))/sum(is_phd)])"
   ]
  },
  {
   "cell_type": "code",
   "execution_count": 53,
   "metadata": {
    "scrolled": true
   },
   "outputs": [
    {
     "name": "stdout",
     "output_type": "stream",
     "text": [
      "\\begin{tabular}{lrrrrrrr}\n",
      "\\toprule\n",
      "{} &  Elementary &  < HS &   HS &  < College &  College &  Masters &  PhD \\\\\n",
      "\\midrule\n",
      "All Professors               &         2.6 &   2.9 & 13.7 &        9.5 &     19.5 &     29.6 & 22.2 \\\\\n",
      "Anthropology Professors      &         0.8 &   2.3 & 14.9 &        7.3 &     19.4 &     32.1 & 23.1 \\\\\n",
      "Biology Professors           &         3.2 &   3.3 & 14.3 &       11.6 &     19.5 &     26.2 & 21.9 \\\\\n",
      "Business Professors          &         2.3 &   3.3 & 14.5 &        8.4 &     24.1 &     30.9 & 16.6 \\\\\n",
      "CS Professors                &         3.2 &   3.4 & 10.8 &        8.9 &     21.6 &     26.1 & 26.0 \\\\\n",
      "History Professors           &         1.6 &   1.3 & 10.5 &        8.6 &     17.0 &     34.3 & 26.7 \\\\\n",
      "Physics/Astronomy Professors &         4.1 &   4.1 & 12.1 &       10.2 &     18.3 &     27.3 & 24.1 \\\\\n",
      "Psychology Professors        &         1.6 &   2.1 & 17.4 &        9.9 &     17.1 &     31.1 & 20.8 \\\\\n",
      "Sociology Professors         &         1.8 &   2.7 & 17.4 &        6.9 &     17.0 &     35.3 & 18.8 \\\\\n",
      "U.S. Population              &         8.7 &  10.5 & 35.6 &       23.1 &     14.6 &      6.5 &  0.9 \\\\\n",
      "\\bottomrule\n",
      "\\end{tabular}\n",
      "\n"
     ]
    }
   ],
   "source": [
    "education_prior = pd.DataFrame([\n",
    "    is_prof/sum(is_prof), \n",
    "    field_parent_edu_distribution['Anthropology']/sum(field_parent_edu_distribution['Anthropology']),\n",
    "    field_parent_edu_distribution['Biology']/sum(field_parent_edu_distribution['Biology']), \n",
    "    field_parent_edu_distribution['Business']/sum(field_parent_edu_distribution['Business']), \n",
    "    field_parent_edu_distribution['Computer Science']/sum(field_parent_edu_distribution['Computer Science']),\n",
    "    field_parent_edu_distribution['History']/sum(field_parent_edu_distribution['History']), \n",
    "    field_parent_edu_distribution['Physics and/or Astronomy']/sum(field_parent_edu_distribution['Physics and/or Astronomy']),\n",
    "    field_parent_edu_distribution['Psychology']/sum(field_parent_edu_distribution['Psychology']),\n",
    "    field_parent_edu_distribution['Sociology']/sum(field_parent_edu_distribution['Sociology']),\n",
    "    is_not_prof/sum(is_not_prof)],\n",
    "    index = ['All Professors', 'Anthropology Professors', 'Biology Professors', 'Business Professors', \n",
    "             'CS Professors', 'History Professors', 'Physics/Astronomy Professors', 'Psychology Professors', \n",
    "             'Sociology Professors',  'U.S. Population'],     \n",
    "    columns = ['Elementary', '< HS', 'HS', '< College', 'College', 'Masters', 'PhD'])\n",
    "\n",
    "print(education_prior.applymap(lambda x: x*100).to_latex(float_format=\"%.1f\"))"
   ]
  },
  {
   "cell_type": "code",
   "execution_count": 54,
   "metadata": {},
   "outputs": [
    {
     "data": {
      "image/png": "[encoded data removed]",
      "text/plain": [
       "<Figure size 432x288 with 1 Axes>"
      ]
     },
     "metadata": {
      "needs_background": "light"
     },
     "output_type": "display_data"
    }
   ],
   "source": [
    "temp = 100.*education_prior.loc[['All Professors', 'U.S. Population']]\n",
    "nsf_sed_temp = [x for x in (100.*np.array(is_phd))/sum(is_phd)]\n",
    "nsf_sed_temp.insert(0, None)\n",
    "nsf_sed_temp.insert(0, None)\n",
    "temp = temp.append(dict(zip(education_prior.columns, nsf_sed_temp)), ignore_index=True)\n",
    "temp.index = ['All Professors', 'U.S. Population', 'Doctoral Recipients']\n",
    "\n",
    "fig, ax = plt.subplots(figsize=plot_utils.SINGLE_FIG_SIZE)\n",
    "\n",
    "subset_cols = ['< College', 'College', 'Masters', 'PhD']\n",
    "category_colors = plt.get_cmap('Greens')(np.linspace(0.4, 1, 3))[::-1]\n",
    "\n",
    "ax.set_ylabel('Percentage of Adults', fontsize=plot_utils.LABEL_SIZE)\n",
    "ax.set_xlabel(\"Educational Attainment\", fontsize=plot_utils.LABEL_SIZE)\n",
    "\n",
    "x_range = np.array(range(len(subset_cols)))\n",
    "delta = 0.25; width = 0.25\n",
    "plt.bar(x=x_range-delta, height=temp.loc['All Professors', subset_cols], width=width, \n",
    "        label='Parents of Professors', color=category_colors[0])\n",
    "plt.bar(x=x_range, height=temp.loc['Doctoral Recipients', subset_cols], width=width,\n",
    "        label='Parents of PhD Recipients', color=category_colors[1])\n",
    "plt.bar(x=x_range+delta, height=temp.loc['U.S. Population', subset_cols], width=width,\n",
    "        label='U.S. Population', color=category_colors[2])\n",
    "\n",
    "ax.set_xticks([0, 1, 2, 3])\n",
    "ax.set_xticklabels([r'$<$ College', 'College', 'Masters', 'PhD'], fontsize=plot_utils.TICK_SIZE)\n",
    "plt.ylim(0, 35)\n",
    "\n",
    "plt.legend(frameon=False, loc='upper left', fontsize=plot_utils.LEGEND_SIZE)\n",
    "plot_utils.finalize(ax)\n",
    "plt.tight_layout()\n",
    "plt.savefig('../plots/educational_attainment_comparison.pdf', dpi=500)"
   ]
  },
  {
   "cell_type": "markdown",
   "metadata": {},
   "source": [
    "Adding NSF doctoral recipient data to the table above."
   ]
  },
  {
   "cell_type": "code",
   "execution_count": 55,
   "metadata": {
    "scrolled": true
   },
   "outputs": [
    {
     "data": {
      "text/html": [
       "<div>\n",
       "<style scoped>\n",
       "    .dataframe tbody tr th:only-of-type {\n",
       "        vertical-align: middle;\n",
       "    }\n",
       "\n",
       "    .dataframe tbody tr th {\n",
       "        vertical-align: top;\n",
       "    }\n",
       "\n",
       "    .dataframe thead th {\n",
       "        text-align: right;\n",
       "    }\n",
       "</style>\n",
       "<table border=\"1\" class=\"dataframe\">\n",
       "  <thead>\n",
       "    <tr style=\"text-align: right;\">\n",
       "      <th></th>\n",
       "      <th>Elementary</th>\n",
       "      <th>&lt; HS</th>\n",
       "      <th>HS</th>\n",
       "      <th>&lt; College</th>\n",
       "      <th>College</th>\n",
       "      <th>Masters</th>\n",
       "      <th>PhD</th>\n",
       "    </tr>\n",
       "  </thead>\n",
       "  <tbody>\n",
       "    <tr>\n",
       "      <th>Anthropology Professors</th>\n",
       "      <td>0.845070</td>\n",
       "      <td>2.253521</td>\n",
       "      <td>14.929577</td>\n",
       "      <td>7.323944</td>\n",
       "      <td>19.436620</td>\n",
       "      <td>32.112676</td>\n",
       "      <td>23.098592</td>\n",
       "    </tr>\n",
       "    <tr>\n",
       "      <th>Biology Professors</th>\n",
       "      <td>3.223727</td>\n",
       "      <td>3.288201</td>\n",
       "      <td>14.313346</td>\n",
       "      <td>11.605416</td>\n",
       "      <td>19.471309</td>\n",
       "      <td>26.241135</td>\n",
       "      <td>21.856867</td>\n",
       "    </tr>\n",
       "    <tr>\n",
       "      <th>Business Professors</th>\n",
       "      <td>2.261554</td>\n",
       "      <td>3.343166</td>\n",
       "      <td>14.454277</td>\n",
       "      <td>8.357915</td>\n",
       "      <td>24.090462</td>\n",
       "      <td>30.875123</td>\n",
       "      <td>16.617502</td>\n",
       "    </tr>\n",
       "    <tr>\n",
       "      <th>CS Professors</th>\n",
       "      <td>3.200000</td>\n",
       "      <td>3.400000</td>\n",
       "      <td>10.800000</td>\n",
       "      <td>8.900000</td>\n",
       "      <td>21.600000</td>\n",
       "      <td>26.100000</td>\n",
       "      <td>26.000000</td>\n",
       "    </tr>\n",
       "    <tr>\n",
       "      <th>History Professors</th>\n",
       "      <td>1.559020</td>\n",
       "      <td>1.336303</td>\n",
       "      <td>10.467706</td>\n",
       "      <td>8.574610</td>\n",
       "      <td>17.037862</td>\n",
       "      <td>34.298441</td>\n",
       "      <td>26.726058</td>\n",
       "    </tr>\n",
       "    <tr>\n",
       "      <th>Physics/Astronomy Professors</th>\n",
       "      <td>4.064171</td>\n",
       "      <td>4.064171</td>\n",
       "      <td>12.085561</td>\n",
       "      <td>10.160428</td>\n",
       "      <td>18.288770</td>\n",
       "      <td>27.272727</td>\n",
       "      <td>24.064171</td>\n",
       "    </tr>\n",
       "    <tr>\n",
       "      <th>Psychology Professors</th>\n",
       "      <td>1.634321</td>\n",
       "      <td>2.145046</td>\n",
       "      <td>17.364658</td>\n",
       "      <td>9.908069</td>\n",
       "      <td>17.058223</td>\n",
       "      <td>31.052094</td>\n",
       "      <td>20.837589</td>\n",
       "    </tr>\n",
       "    <tr>\n",
       "      <th>Sociology Professors</th>\n",
       "      <td>1.789709</td>\n",
       "      <td>2.684564</td>\n",
       "      <td>17.449664</td>\n",
       "      <td>6.935123</td>\n",
       "      <td>17.002237</td>\n",
       "      <td>35.346756</td>\n",
       "      <td>18.791946</td>\n",
       "    </tr>\n",
       "    <tr>\n",
       "      <th>U.S. Population</th>\n",
       "      <td>8.723634</td>\n",
       "      <td>10.547131</td>\n",
       "      <td>35.588732</td>\n",
       "      <td>23.145262</td>\n",
       "      <td>14.597019</td>\n",
       "      <td>6.517541</td>\n",
       "      <td>0.880682</td>\n",
       "    </tr>\n",
       "    <tr>\n",
       "      <th>Doctoral Recipients</th>\n",
       "      <td>NaN</td>\n",
       "      <td>NaN</td>\n",
       "      <td>25.211578</td>\n",
       "      <td>13.984176</td>\n",
       "      <td>23.056441</td>\n",
       "      <td>25.957532</td>\n",
       "      <td>11.790273</td>\n",
       "    </tr>\n",
       "  </tbody>\n",
       "</table>\n",
       "</div>"
      ],
      "text/plain": [
       "                              Elementary       < HS         HS  < College  \\\n",
       "Anthropology Professors         0.845070   2.253521  14.929577   7.323944   \n",
       "Biology Professors              3.223727   3.288201  14.313346  11.605416   \n",
       "Business Professors             2.261554   3.343166  14.454277   8.357915   \n",
       "CS Professors                   3.200000   3.400000  10.800000   8.900000   \n",
       "History Professors              1.559020   1.336303  10.467706   8.574610   \n",
       "Physics/Astronomy Professors    4.064171   4.064171  12.085561  10.160428   \n",
       "Psychology Professors           1.634321   2.145046  17.364658   9.908069   \n",
       "Sociology Professors            1.789709   2.684564  17.449664   6.935123   \n",
       "U.S. Population                 8.723634  10.547131  35.588732  23.145262   \n",
       "Doctoral Recipients                  NaN        NaN  25.211578  13.984176   \n",
       "\n",
       "                                College    Masters        PhD  \n",
       "Anthropology Professors       19.436620  32.112676  23.098592  \n",
       "Biology Professors            19.471309  26.241135  21.856867  \n",
       "Business Professors           24.090462  30.875123  16.617502  \n",
       "CS Professors                 21.600000  26.100000  26.000000  \n",
       "History Professors            17.037862  34.298441  26.726058  \n",
       "Physics/Astronomy Professors  18.288770  27.272727  24.064171  \n",
       "Psychology Professors         17.058223  31.052094  20.837589  \n",
       "Sociology Professors          17.002237  35.346756  18.791946  \n",
       "U.S. Population               14.597019   6.517541   0.880682  \n",
       "Doctoral Recipients           23.056441  25.957532  11.790273  "
      ]
     },
     "execution_count": 55,
     "metadata": {},
     "output_type": "execute_result"
    }
   ],
   "source": [
    "temp = 100.*education_prior.loc[['Anthropology Professors', 'Biology Professors', \n",
    "                                 'Business Professors', 'CS Professors', \n",
    "                                 'History Professors', 'Physics/Astronomy Professors', \n",
    "                                 'Psychology Professors', 'Sociology Professors', \n",
    "                                 'U.S. Population']]\n",
    "nsf_sed_temp = [x for x in (100.*np.array(is_phd))/sum(is_phd)]\n",
    "nsf_sed_temp.insert(0, None)\n",
    "nsf_sed_temp.insert(0, None)\n",
    "temp = temp.append(dict(zip(education_prior.columns, nsf_sed_temp)), ignore_index=True)\n",
    "temp.index = ['Anthropology Professors', 'Biology Professors', 'Business Professors', \n",
    "              'CS Professors', 'History Professors', 'Physics/Astronomy Professors', \n",
    "              'Psychology Professors', 'Sociology Professors', 'U.S. Population', \n",
    "              'Doctoral Recipients']\n",
    "temp"
   ]
  },
  {
   "cell_type": "code",
   "execution_count": 56,
   "metadata": {},
   "outputs": [
    {
     "data": {
      "image/png": "[encoded data removed]",
      "text/plain": [
       "<Figure size 432x288 with 1 Axes>"
      ]
     },
     "metadata": {
      "needs_background": "light"
     },
     "output_type": "display_data"
    }
   ],
   "source": [
    "fig, ax = plt.subplots(1, 1, figsize=plot_utils.SINGLE_FIG_SIZE, sharex=True, sharey=True)\n",
    "\n",
    "subset_cols = ['< College', 'College', 'Masters', 'PhD']\n",
    "category_colors = plt.get_cmap('Greens')(np.linspace(0.4, 1, 3))[::-1]\n",
    "\n",
    "ax.set_ylabel(\"Ratio of faculty's parents' highest\\n education levels and benchmarks\", \n",
    "              fontsize=plot_utils.LABEL_SIZE)\n",
    "ax.set_xlabel(\"Highest Degree Earned\", fontsize=plot_utils.LABEL_SIZE, labelpad=10)\n",
    "\n",
    "x_range = np.array(range(len(subset_cols)))\n",
    "colors = plt.get_cmap('Greens')(np.linspace(0.3, 1, 8))\n",
    "markers = [\"o\", \"v\", \"^\", \"*\", \"s\", \"p\", \"x\", \"D\"]\n",
    "for i, each in enumerate(['Anthropology Professors', 'Biology Professors', \n",
    "                          'Business Professors', 'CS Professors', 'History Professors', \n",
    "                          'Physics/Astronomy Professors', 'Psychology Professors', \n",
    "                          'Sociology Professors']):\n",
    "    ratios = temp.loc[each,subset_cols]/temp.loc['Doctoral Recipients',subset_cols]\n",
    "    ax.plot(x_range, ratios, marker=markers[i], color=colors[i], alpha=0.5, linestyle='--')\n",
    "               #label=each.split(' ')[0])\n",
    "\n",
    "ax.set_xticks([0, 1, 2, 3])\n",
    "ax.set_xticklabels([r'Some College', 'College', 'Masters', 'PhD'], \n",
    "                      fontsize=plot_utils.TICK_SIZE)\n",
    "\n",
    "# subset_cols = ['Elementary', '< HS', 'HS', '< College', 'College', 'Masters', 'PhD']\n",
    "# x_range = np.array(range(len(subset_cols)))\n",
    "for i, each in enumerate(['Anthropology Professors', 'Biology Professors', \n",
    "                          'Business Professors', 'CS Professors', 'History Professors', \n",
    "                          'Physics/Astronomy Professors', 'Psychology Professors', \n",
    "                          'Sociology Professors']):\n",
    "    ratios = temp.loc[each, subset_cols]/temp.loc['U.S. Population', subset_cols]\n",
    "    ax.plot(x_range, ratios, marker=markers[i], color=colors[i], label=each.split(' ')[0])\n",
    "\n",
    "# ax.set_xticks([0, 1, 2, 3, 4, 5, 6])\n",
    "# ax.set_xticklabels(['Elementary', r'$<$ HS', 'HS', r'$<$ College', 'College', \n",
    "#                        'Masters', 'PhD'], \n",
    "#                       fontsize=plot_utils.TICK_SIZE)\n",
    "\n",
    "plt.text(3.2, 15, 'Relative to\\nU.S. Adult\\nPopulation', fontsize=plot_utils.LEGEND_SIZE, ha='left')\n",
    "plt.text(3.2, 1.2, 'Relative to\\nParents of PhD\\nRecipients', fontsize=plot_utils.LEGEND_SIZE, ha='left')\n",
    "\n",
    "ratios = education_prior.loc['All Professors', subset_cols]/education_prior.loc['U.S. Population', subset_cols]\n",
    "plt.text(0, 0.15, '%.1f' % ratios[0], ha='center')\n",
    "plt.text(1, 2.25, '%.1f' % ratios[1], ha='center')\n",
    "plt.text(2, 8.25, '%.1f' % ratios[2], ha='center')\n",
    "plt.text(3, 40.25, '%.1f' % ratios[3], ha='center')\n",
    "\n",
    "ratios = (100*education_prior.loc['All Professors', subset_cols])/(temp.loc['Doctoral Recipients', subset_cols])\n",
    "plt.text(0, 1.15, '%.1f' % ratios[0], ha='center')\n",
    "plt.text(1, 0.37, '%.1f' % ratios[1], ha='center')\n",
    "plt.text(2, 0.55, '%.1f' % ratios[2], ha='center')\n",
    "plt.text(3, 0.8, '%.1f' % ratios[3], ha='center')\n",
    "\n",
    "plt.ylim(0.1, 2000)\n",
    "plt.xlim(-0.5, 3.5)\n",
    "plt.yscale('log', base=2)\n",
    "ax.set_yticks([1/4, 1, 4, 16, 64, 256, 1024])\n",
    "ax.set_yticklabels([r'$1/4$', '1', '4', '16', '64', '', ''], fontsize=plot_utils.TICK_SIZE)\n",
    "\n",
    "ax.legend(frameon=False, fontsize=plot_utils.LEGEND_SIZE, ncol=2, loc='upper left')\n",
    "plot_utils.finalize(ax)\n",
    "plt.tight_layout()\n",
    "plt.savefig('../plots/ratio_education_by_field.pdf', dpi=500)"
   ]
  },
  {
   "cell_type": "markdown",
   "metadata": {},
   "source": [
    "### Probability that you are a professor, given your parent's education level?"
   ]
  },
  {
   "cell_type": "markdown",
   "metadata": {},
   "source": [
    "Given $A$ (parent's highest level of education), what is the probability of $B$ (being a professor)? \n",
    "\n",
    "$$ P(B = \\text{professor} | A = \\text{parents' education}) = \\frac{P(B = \\text{professor}, A = \\text{parents' education})}{P(A = \\text{parents' education})}$$\n",
    "\n",
    "The denominator of the above can be obtained from U.S. Census estimates. The conditional probability can be obtained from our survey data."
   ]
  },
  {
   "cell_type": "code",
   "execution_count": 57,
   "metadata": {},
   "outputs": [
    {
     "name": "stdout",
     "output_type": "stream",
     "text": [
      "3362\n",
      "0.17281420765027322 0.26343519494204426\n"
     ]
    },
    {
     "data": {
      "text/plain": [
       "(39.050222919225945,\n",
       " 4.13041964191722e-10,\n",
       " 1,\n",
       " array([[1136.10232005,  327.89767995],\n",
       "        [1472.89767995,  425.10232005]]))"
      ]
     },
     "execution_count": 57,
     "metadata": {},
     "output_type": "execute_result"
    }
   ],
   "source": [
    "bus_and_soc = (field_parent_edu_distribution['Business'] + field_parent_edu_distribution['Sociology'])\n",
    "cs_and_his = (field_parent_edu_distribution['Computer Science'] + field_parent_edu_distribution['History'])\n",
    "\n",
    "print(sum(cs_and_his) + sum(bus_and_soc))\n",
    "print(bus_and_soc[6]/sum(bus_and_soc), cs_and_his[6]/sum(cs_and_his))\n",
    "chi2_contingency([[sum(bus_and_soc[:6]), bus_and_soc[6]], \n",
    "                  [sum(cs_and_his[:6]), cs_and_his[6]]], correction=False)"
   ]
  },
  {
   "cell_type": "code",
   "execution_count": 58,
   "metadata": {},
   "outputs": [
    {
     "name": "stdout",
     "output_type": "stream",
     "text": [
      "All Professors 25.26448084022934\n",
      "Anthropology Professors 26.228082390733537\n",
      "Biology Professors 24.818123439738546\n",
      "Business Professors 18.86890907058132\n",
      "CS Professors 29.522585422740313\n",
      "History Professors 30.34701259832823\n",
      "Physics/Astronomy Professors 27.324482600232702\n",
      "Psychology Professors 23.660750476306372\n",
      "Sociology Professors 21.33795539072609\n",
      "U.S. Population 1.0\n"
     ]
    }
   ],
   "source": [
    "for each in education_prior.index:\n",
    "    print(each, education_prior['PhD'][each]/education_prior['PhD']['U.S. Population'])"
   ]
  },
  {
   "cell_type": "markdown",
   "metadata": {},
   "source": [
    "### Above results broken down by gender and race"
   ]
  },
  {
   "cell_type": "code",
   "execution_count": 59,
   "metadata": {},
   "outputs": [],
   "source": [
    "men_prof_dist = respondents_zip[respondents_zip.gender_ans == 'Male']['parents_highest_edu_coded'].value_counts()\n",
    "men_prof_dist = [men_prof_dist[edu_bin].values.sum() for edu_bin in [\n",
    "    [\"Elementary: 0-8 years\"], ['High school: 1-3 years'], ['High school: 4 years'],\n",
    "    ['College: 1-3 years'], ['College: 4+ years'], [\"Master's or professional degree\"], ['Doctoral degree']]]\n",
    "\n",
    "women_prof_dist = respondents_zip[respondents_zip.gender_ans == 'Female']['parents_highest_edu_coded'].value_counts()\n",
    "women_prof_dist = [women_prof_dist[edu_bin].values.sum() for edu_bin in [\n",
    "    [\"Elementary: 0-8 years\"], ['High school: 1-3 years'], ['High school: 4 years'],\n",
    "    ['College: 1-3 years'], ['College: 4+ years'], [\"Master's or professional degree\"], ['Doctoral degree']]]"
   ]
  },
  {
   "cell_type": "code",
   "execution_count": 60,
   "metadata": {},
   "outputs": [
    {
     "data": {
      "text/html": [
       "<div>\n",
       "<style scoped>\n",
       "    .dataframe tbody tr th:only-of-type {\n",
       "        vertical-align: middle;\n",
       "    }\n",
       "\n",
       "    .dataframe tbody tr th {\n",
       "        vertical-align: top;\n",
       "    }\n",
       "\n",
       "    .dataframe thead th {\n",
       "        text-align: right;\n",
       "    }\n",
       "</style>\n",
       "<table border=\"1\" class=\"dataframe\">\n",
       "  <thead>\n",
       "    <tr style=\"text-align: right;\">\n",
       "      <th></th>\n",
       "      <th>Elementary</th>\n",
       "      <th>&lt; HS</th>\n",
       "      <th>HS</th>\n",
       "      <th>&lt; College</th>\n",
       "      <th>College</th>\n",
       "      <th>Masters</th>\n",
       "      <th>PhD</th>\n",
       "    </tr>\n",
       "  </thead>\n",
       "  <tbody>\n",
       "    <tr>\n",
       "      <th>All Professors</th>\n",
       "      <td>2.552365</td>\n",
       "      <td>2.913025</td>\n",
       "      <td>13.691219</td>\n",
       "      <td>9.474268</td>\n",
       "      <td>19.517270</td>\n",
       "      <td>29.601887</td>\n",
       "      <td>22.249965</td>\n",
       "    </tr>\n",
       "    <tr>\n",
       "      <th>Men Professors</th>\n",
       "      <td>3.234323</td>\n",
       "      <td>3.410341</td>\n",
       "      <td>14.477448</td>\n",
       "      <td>10.055006</td>\n",
       "      <td>19.757976</td>\n",
       "      <td>28.228823</td>\n",
       "      <td>20.836084</td>\n",
       "    </tr>\n",
       "    <tr>\n",
       "      <th>Women Professors</th>\n",
       "      <td>1.341510</td>\n",
       "      <td>2.069759</td>\n",
       "      <td>12.303565</td>\n",
       "      <td>8.317363</td>\n",
       "      <td>19.126102</td>\n",
       "      <td>32.042928</td>\n",
       "      <td>24.798773</td>\n",
       "    </tr>\n",
       "  </tbody>\n",
       "</table>\n",
       "</div>"
      ],
      "text/plain": [
       "                  Elementary      < HS         HS  < College    College  \\\n",
       "All Professors      2.552365  2.913025  13.691219   9.474268  19.517270   \n",
       "Men Professors      3.234323  3.410341  14.477448  10.055006  19.757976   \n",
       "Women Professors    1.341510  2.069759  12.303565   8.317363  19.126102   \n",
       "\n",
       "                    Masters        PhD  \n",
       "All Professors    29.601887  22.249965  \n",
       "Men Professors    28.228823  20.836084  \n",
       "Women Professors  32.042928  24.798773  "
      ]
     },
     "execution_count": 60,
     "metadata": {},
     "output_type": "execute_result"
    }
   ],
   "source": [
    "education_prior = pd.DataFrame([\n",
    "    is_prof/sum(is_prof), \n",
    "    men_prof_dist/sum(men_prof_dist),\n",
    "    women_prof_dist/sum(women_prof_dist)],\n",
    "    index = ['All Professors', 'Men Professors', 'Women Professors'],     \n",
    "    columns = ['Elementary', '< HS', 'HS', '< College', 'College', 'Masters', 'PhD'])\n",
    "\n",
    "education_prior.applymap(lambda x: x*100)\n",
    "#print(education_prior.applymap(lambda x: x*100).to_latex(float_format=\"%.1f\"))"
   ]
  },
  {
   "cell_type": "code",
   "execution_count": 61,
   "metadata": {},
   "outputs": [
    {
     "name": "stdout",
     "output_type": "stream",
     "text": [
      "0.568417018014565 0.49064906490649063\n"
     ]
    },
    {
     "data": {
      "text/plain": [
       "(6.3368628625900625, 2.344905271651895e-10)"
      ]
     },
     "execution_count": 61,
     "metadata": {},
     "output_type": "execute_result"
    }
   ],
   "source": [
    "print(sum(women_prof_dist[-2:])/sum(women_prof_dist), sum(men_prof_dist[-2:])/sum(men_prof_dist))\n",
    "proportions_ztest([sum(women_prof_dist[-2:]), sum(men_prof_dist[-2:])],\n",
    "                  [sum(women_prof_dist), sum(men_prof_dist)])"
   ]
  },
  {
   "cell_type": "code",
   "execution_count": 62,
   "metadata": {},
   "outputs": [
    {
     "data": {
      "text/html": [
       "<div>\n",
       "<style scoped>\n",
       "    .dataframe tbody tr th:only-of-type {\n",
       "        vertical-align: middle;\n",
       "    }\n",
       "\n",
       "    .dataframe tbody tr th {\n",
       "        vertical-align: top;\n",
       "    }\n",
       "\n",
       "    .dataframe thead th {\n",
       "        text-align: right;\n",
       "    }\n",
       "</style>\n",
       "<table border=\"1\" class=\"dataframe\">\n",
       "  <thead>\n",
       "    <tr style=\"text-align: right;\">\n",
       "      <th></th>\n",
       "      <th>mean</th>\n",
       "      <th>count</th>\n",
       "    </tr>\n",
       "    <tr>\n",
       "      <th>gender_ans</th>\n",
       "      <th></th>\n",
       "      <th></th>\n",
       "    </tr>\n",
       "  </thead>\n",
       "  <tbody>\n",
       "    <tr>\n",
       "      <th>Female</th>\n",
       "      <td>0.247988</td>\n",
       "      <td>2609</td>\n",
       "    </tr>\n",
       "    <tr>\n",
       "      <th>Male</th>\n",
       "      <td>0.208361</td>\n",
       "      <td>4545</td>\n",
       "    </tr>\n",
       "    <tr>\n",
       "      <th>Other identity</th>\n",
       "      <td>0.153846</td>\n",
       "      <td>13</td>\n",
       "    </tr>\n",
       "    <tr>\n",
       "      <th>Prefer not to say</th>\n",
       "      <td>0.205128</td>\n",
       "      <td>39</td>\n",
       "    </tr>\n",
       "  </tbody>\n",
       "</table>\n",
       "</div>"
      ],
      "text/plain": [
       "                       mean  count\n",
       "gender_ans                        \n",
       "Female             0.247988   2609\n",
       "Male               0.208361   4545\n",
       "Other identity     0.153846     13\n",
       "Prefer not to say  0.205128     39"
      ]
     },
     "execution_count": 62,
     "metadata": {},
     "output_type": "execute_result"
    }
   ],
   "source": [
    "respondents_zip.groupby('gender_ans')['parents_had_phd'].agg(['mean', 'count'])"
   ]
  },
  {
   "cell_type": "code",
   "execution_count": 63,
   "metadata": {},
   "outputs": [
    {
     "name": "stdout",
     "output_type": "stream",
     "text": [
      "7154 0.2479877347642775 0.20836083608360836\n"
     ]
    },
    {
     "data": {
      "text/plain": [
       "(3.8769212670564523, 0.00010578657149720745)"
      ]
     },
     "execution_count": 63,
     "metadata": {},
     "output_type": "execute_result"
    }
   ],
   "source": [
    "print(sum(women_prof_dist) + sum(men_prof_dist), sum(women_prof_dist[-1:])/sum(women_prof_dist), \n",
    "      sum(men_prof_dist[-1:])/sum(men_prof_dist))\n",
    "proportions_ztest([sum(women_prof_dist[-1:]), sum(men_prof_dist[-1:])],\n",
    "                  [sum(women_prof_dist), sum(men_prof_dist)])"
   ]
  },
  {
   "cell_type": "code",
   "execution_count": 64,
   "metadata": {},
   "outputs": [
    {
     "name": "stdout",
     "output_type": "stream",
     "text": [
      "\\begin{tabular}{lrrrrrrr}\n",
      "\\toprule\n",
      "{} &  Elementary &  Some HS &    HS &  Some College &  College &  Masters &   PhD \\\\\n",
      "\\midrule\n",
      "Anthropology Women Professors      &         0.6 &      1.7 &  16.9 &           5.6 &     18.5 &     32.0 &  24.7 \\\\\n",
      "Biology Women Professors           &         1.7 &      2.6 &   9.7 &          12.5 &     18.9 &     30.5 &  24.0 \\\\\n",
      "Business Women Professors          &         0.3 &      2.4 &  11.9 &           7.6 &     26.5 &     32.3 &  18.9 \\\\\n",
      "CS Women Professors                &         1.5 &      1.5 &  11.3 &           4.9 &     28.1 &     21.7 &  31.0 \\\\\n",
      "History Women Professors           &         1.7 &      1.2 &   7.9 &           5.7 &     15.3 &     37.3 &  30.9 \\\\\n",
      "Physics/Astronomy Women Professors &         3.3 &      3.8 &   7.7 &          12.0 &     13.1 &     31.1 &  29.0 \\\\\n",
      "Psychology Women Professors        &         0.8 &      1.7 &  17.1 &           8.8 &     17.1 &     31.2 &  23.3 \\\\\n",
      "Sociology Women Professors         &         1.7 &      2.1 &  17.1 &           5.4 &     17.5 &     36.7 &  19.6 \\\\\n",
      "\\bottomrule\n",
      "\\end{tabular}\n",
      "\n"
     ]
    }
   ],
   "source": [
    "fields = respondents_zip['likely_department'].dropna().unique()\n",
    "field_parent_edu_distribution = {}\n",
    "edu_bins = [['Elementary: 0-8 years'], ['High school: 1-3 years'], \n",
    "            ['High school: 4 years'], ['College: 1-3 years'], ['College: 4+ years'], \n",
    "            [\"Master's or professional degree\"], ['Doctoral degree']]\n",
    "\n",
    "for field in fields:\n",
    "    prof_field_dist = respondents_zip[(respondents_zip.likely_department == field) & \\\n",
    "                                      (respondents_zip.gender_ans == 'Female')]['parents_highest_edu_coded'].value_counts()\n",
    "    if len(prof_field_dist) > 0:\n",
    "        field_parent_edu_distribution[field] = pd.Series(\n",
    "            [prof_field_dist.loc[prof_field_dist.index.intersection(edu_bin)].values.sum() \n",
    "             for edu_bin in edu_bins]).fillna(0).values\n",
    "\n",
    "print(pd.DataFrame([\n",
    "    field_parent_edu_distribution['Anthropology']/sum(field_parent_edu_distribution['Anthropology']),\n",
    "    field_parent_edu_distribution['Biology']/sum(field_parent_edu_distribution['Biology']), \n",
    "    field_parent_edu_distribution['Business']/sum(field_parent_edu_distribution['Business']), \n",
    "    field_parent_edu_distribution['Computer Science']/sum(field_parent_edu_distribution['Computer Science']),\n",
    "    field_parent_edu_distribution['History']/sum(field_parent_edu_distribution['History']), \n",
    "    field_parent_edu_distribution['Physics and/or Astronomy']/sum(field_parent_edu_distribution['Physics and/or Astronomy']),\n",
    "    field_parent_edu_distribution['Psychology']/sum(field_parent_edu_distribution['Psychology']),\n",
    "    field_parent_edu_distribution['Sociology']/sum(field_parent_edu_distribution['Sociology'])],\n",
    "    index = ['Anthropology Women Professors', 'Biology Women Professors', 'Business Women Professors', \n",
    "             'CS Women Professors', 'History Women Professors', 'Physics/Astronomy Women Professors', \n",
    "             'Psychology Women Professors', 'Sociology Women Professors'],     \n",
    "    columns = ['Elementary', 'Some HS', 'HS', 'Some College', 'College', 'Masters', 'PhD']).applymap(\n",
    "    lambda x: x*100).round(1).to_latex())"
   ]
  },
  {
   "cell_type": "code",
   "execution_count": 65,
   "metadata": {},
   "outputs": [
    {
     "name": "stdout",
     "output_type": "stream",
     "text": [
      "\\begin{tabular}{lrrrrrrr}\n",
      "\\toprule\n",
      "{} &  Elementary &  Some HS &    HS &  Some College &  College &  Masters &   PhD \\\\\n",
      "\\midrule\n",
      "Anthropology Men Professors      &         1.2 &      2.9 &  13.3 &           8.7 &     20.2 &     31.8 &  22.0 \\\\\n",
      "Biology Men Professors           &         3.9 &      3.7 &  16.7 &          11.2 &     19.8 &     23.8 &  20.9 \\\\\n",
      "Business Men Professors          &         3.2 &      3.7 &  15.8 &           8.8 &     23.0 &     29.9 &  15.6 \\\\\n",
      "CS Men Professors                &         3.7 &      3.9 &  10.7 &           9.8 &     19.8 &     27.4 &  24.7 \\\\\n",
      "History Men Professors           &         1.5 &      1.5 &  12.8 &          10.7 &     18.5 &     31.9 &  23.1 \\\\\n",
      "Physics/Astronomy Men Professors &         4.3 &      4.2 &  13.1 &           9.4 &     19.6 &     26.3 &  23.1 \\\\\n",
      "Psychology Men Professors        &         2.6 &      2.6 &  17.4 &          11.2 &     17.1 &     31.2 &  17.8 \\\\\n",
      "Sociology Men Professors         &         2.0 &      3.4 &  17.6 &           8.8 &     16.7 &     34.3 &  17.2 \\\\\n",
      "\\bottomrule\n",
      "\\end{tabular}\n",
      "\n"
     ]
    }
   ],
   "source": [
    "fields = respondents_zip['likely_department'].dropna().unique()\n",
    "field_parent_edu_distribution = {}\n",
    "edu_bins = [['Elementary: 0-8 years'], ['High school: 1-3 years'], \n",
    "            ['High school: 4 years'], ['College: 1-3 years'], ['College: 4+ years'], \n",
    "            [\"Master's or professional degree\"], ['Doctoral degree']]\n",
    "\n",
    "for field in fields:\n",
    "    prof_field_dist = respondents_zip[(respondents_zip.likely_department == field) & \\\n",
    "                                      (respondents_zip.gender_ans == 'Male')]['parents_highest_edu_coded'].value_counts()\n",
    "    if len(prof_field_dist) > 0:\n",
    "        field_parent_edu_distribution[field] = pd.Series(\n",
    "            [prof_field_dist.loc[prof_field_dist.index.intersection(edu_bin)].values.sum() \n",
    "             for edu_bin in edu_bins]).fillna(0).values\n",
    "\n",
    "print(pd.DataFrame([ \n",
    "    field_parent_edu_distribution['Anthropology']/sum(field_parent_edu_distribution['Anthropology']),\n",
    "    field_parent_edu_distribution['Biology']/sum(field_parent_edu_distribution['Biology']), \n",
    "    field_parent_edu_distribution['Business']/sum(field_parent_edu_distribution['Business']), \n",
    "    field_parent_edu_distribution['Computer Science']/sum(field_parent_edu_distribution['Computer Science']),\n",
    "    field_parent_edu_distribution['History']/sum(field_parent_edu_distribution['History']), \n",
    "    field_parent_edu_distribution['Physics and/or Astronomy']/sum(field_parent_edu_distribution['Physics and/or Astronomy']),\n",
    "    field_parent_edu_distribution['Psychology']/sum(field_parent_edu_distribution['Psychology']),\n",
    "    field_parent_edu_distribution['Sociology']/sum(field_parent_edu_distribution['Sociology'])],\n",
    "    index = ['Anthropology Men Professors', 'Biology Men Professors', 'Business Men Professors', \n",
    "             'CS Men Professors', 'History Men Professors', 'Physics/Astronomy Men Professors', \n",
    "             'Psychology Men Professors', 'Sociology Men Professors'],     \n",
    "    columns = ['Elementary', 'Some HS', 'HS', 'Some College', 'College', 'Masters', 'PhD']).applymap(\n",
    "    lambda x: x*100).round(1).to_latex())"
   ]
  },
  {
   "cell_type": "code",
   "execution_count": 66,
   "metadata": {},
   "outputs": [],
   "source": [
    "stem_field = respondents_zip.likely_department.isin(['Physics and/or Astronomy', 'Computer Science', 'Psychology'])\n",
    "women_stem_prof_dist = respondents_zip[(respondents_zip.gender_ans == 'Female') & stem_field]['parents_highest_edu_coded'].value_counts()\n",
    "women_stem_prof_dist = [women_stem_prof_dist[edu_bin].values.sum() for edu_bin in [\n",
    "    [\"Elementary: 0-8 years\"], ['High school: 1-3 years'], ['High school: 4 years'],\n",
    "    ['College: 1-3 years'], ['College: 4+ years'], [\"Master's or professional degree\"], ['Doctoral degree']]]\n",
    "\n",
    "women_not_stem_prof_dist = respondents_zip[(respondents_zip.gender_ans == 'Female') & ~stem_field]['parents_highest_edu_coded'].value_counts()\n",
    "women_not_stem_prof_dist = [women_not_stem_prof_dist[edu_bin].values.sum() for edu_bin in [\n",
    "    [\"Elementary: 0-8 years\"], ['High school: 1-3 years'], ['High school: 4 years'],\n",
    "    ['College: 1-3 years'], ['College: 4+ years'], [\"Master's or professional degree\"], ['Doctoral degree']]]"
   ]
  },
  {
   "cell_type": "code",
   "execution_count": 67,
   "metadata": {},
   "outputs": [
    {
     "data": {
      "text/html": [
       "<div>\n",
       "<style scoped>\n",
       "    .dataframe tbody tr th:only-of-type {\n",
       "        vertical-align: middle;\n",
       "    }\n",
       "\n",
       "    .dataframe tbody tr th {\n",
       "        vertical-align: top;\n",
       "    }\n",
       "\n",
       "    .dataframe thead th {\n",
       "        text-align: right;\n",
       "    }\n",
       "</style>\n",
       "<table border=\"1\" class=\"dataframe\">\n",
       "  <thead>\n",
       "    <tr style=\"text-align: right;\">\n",
       "      <th></th>\n",
       "      <th>Elementary</th>\n",
       "      <th>Some HS</th>\n",
       "      <th>HS</th>\n",
       "      <th>Some College</th>\n",
       "      <th>College</th>\n",
       "      <th>Masters</th>\n",
       "      <th>PhD</th>\n",
       "    </tr>\n",
       "  </thead>\n",
       "  <tbody>\n",
       "    <tr>\n",
       "      <th>All Professors</th>\n",
       "      <td>2.552365</td>\n",
       "      <td>2.913025</td>\n",
       "      <td>13.691219</td>\n",
       "      <td>9.474268</td>\n",
       "      <td>19.517270</td>\n",
       "      <td>29.601887</td>\n",
       "      <td>22.249965</td>\n",
       "    </tr>\n",
       "    <tr>\n",
       "      <th>Women STEM Professors</th>\n",
       "      <td>1.434879</td>\n",
       "      <td>2.097130</td>\n",
       "      <td>13.907285</td>\n",
       "      <td>8.609272</td>\n",
       "      <td>18.763797</td>\n",
       "      <td>29.028698</td>\n",
       "      <td>26.158940</td>\n",
       "    </tr>\n",
       "    <tr>\n",
       "      <th>Women non-STEM Professors</th>\n",
       "      <td>1.291838</td>\n",
       "      <td>2.055197</td>\n",
       "      <td>11.450382</td>\n",
       "      <td>8.162067</td>\n",
       "      <td>19.318849</td>\n",
       "      <td>33.646506</td>\n",
       "      <td>24.075161</td>\n",
       "    </tr>\n",
       "    <tr>\n",
       "      <th>Women Professors</th>\n",
       "      <td>1.341510</td>\n",
       "      <td>2.069759</td>\n",
       "      <td>12.303565</td>\n",
       "      <td>8.317363</td>\n",
       "      <td>19.126102</td>\n",
       "      <td>32.042928</td>\n",
       "      <td>24.798773</td>\n",
       "    </tr>\n",
       "  </tbody>\n",
       "</table>\n",
       "</div>"
      ],
      "text/plain": [
       "                           Elementary   Some HS         HS  Some College  \\\n",
       "All Professors               2.552365  2.913025  13.691219      9.474268   \n",
       "Women STEM Professors        1.434879  2.097130  13.907285      8.609272   \n",
       "Women non-STEM Professors    1.291838  2.055197  11.450382      8.162067   \n",
       "Women Professors             1.341510  2.069759  12.303565      8.317363   \n",
       "\n",
       "                             College    Masters        PhD  \n",
       "All Professors             19.517270  29.601887  22.249965  \n",
       "Women STEM Professors      18.763797  29.028698  26.158940  \n",
       "Women non-STEM Professors  19.318849  33.646506  24.075161  \n",
       "Women Professors           19.126102  32.042928  24.798773  "
      ]
     },
     "execution_count": 67,
     "metadata": {},
     "output_type": "execute_result"
    }
   ],
   "source": [
    "education_prior = pd.DataFrame([\n",
    "    is_prof/sum(is_prof), \n",
    "    women_stem_prof_dist/sum(women_stem_prof_dist),\n",
    "    women_not_stem_prof_dist/sum(women_not_stem_prof_dist),\n",
    "    women_prof_dist/sum(women_prof_dist)],\n",
    "    index = ['All Professors', 'Women STEM Professors', 'Women non-STEM Professors', 'Women Professors'],     \n",
    "    columns = ['Elementary', 'Some HS', 'HS', 'Some College', 'College', 'Masters', 'PhD'])\n",
    "education_prior.applymap(lambda x: x*100)\n",
    "# print(education_prior.applymap(lambda x: x*100).to_latex(float_format=\"%.1f\"))"
   ]
  },
  {
   "cell_type": "code",
   "execution_count": 68,
   "metadata": {},
   "outputs": [],
   "source": [
    "white_prof_dist = respondents_zip[respondents_zip.white == 1]['parents_highest_edu_coded'].value_counts()\n",
    "white_prof_dist = pd.Series([white_prof_dist.loc[white_prof_dist.index.intersection(edu_bin)].values.sum() \n",
    "             for edu_bin in edu_bins]).fillna(0)\n",
    "\n",
    "black_prof_dist = respondents_zip[respondents_zip.black == 1]['parents_highest_edu_coded'].value_counts()\n",
    "black_prof_dist = pd.Series([black_prof_dist.loc[black_prof_dist.index.intersection(edu_bin)].values.sum() \n",
    "             for edu_bin in edu_bins]).fillna(0)\n",
    "\n",
    "hisp_prof_dist = respondents_zip[respondents_zip.hisp == 1]['parents_highest_edu_coded'].value_counts()\n",
    "hisp_prof_dist = pd.Series([hisp_prof_dist.loc[hisp_prof_dist.index.intersection(edu_bin)].values.sum() \n",
    "             for edu_bin in edu_bins]).fillna(0)\n",
    "\n",
    "asian_prof_dist = respondents_zip[respondents_zip.asian == 1]['parents_highest_edu_coded'].value_counts()\n",
    "asian_prof_dist = pd.Series([asian_prof_dist.loc[asian_prof_dist.index.intersection(edu_bin)].values.sum() \n",
    "             for edu_bin in edu_bins]).fillna(0)\n",
    "\n",
    "native_prof_dist = respondents_zip[(respondents_zip.native == 1) | (respondents_zip.hawaii == 1)]['parents_highest_edu_coded'].value_counts()\n",
    "native_prof_dist = pd.Series([native_prof_dist.loc[native_prof_dist.index.intersection(edu_bin)].values.sum() \n",
    "             for edu_bin in edu_bins]).fillna(0)"
   ]
  },
  {
   "cell_type": "code",
   "execution_count": 69,
   "metadata": {},
   "outputs": [
    {
     "data": {
      "text/plain": [
       "(5905, 198, 320)"
      ]
     },
     "execution_count": 69,
     "metadata": {},
     "output_type": "execute_result"
    }
   ],
   "source": [
    "sum(white_prof_dist), sum(black_prof_dist), sum(hisp_prof_dist)"
   ]
  },
  {
   "cell_type": "code",
   "execution_count": 70,
   "metadata": {},
   "outputs": [
    {
     "data": {
      "text/html": [
       "<div>\n",
       "<style scoped>\n",
       "    .dataframe tbody tr th:only-of-type {\n",
       "        vertical-align: middle;\n",
       "    }\n",
       "\n",
       "    .dataframe tbody tr th {\n",
       "        vertical-align: top;\n",
       "    }\n",
       "\n",
       "    .dataframe thead th {\n",
       "        text-align: right;\n",
       "    }\n",
       "</style>\n",
       "<table border=\"1\" class=\"dataframe\">\n",
       "  <thead>\n",
       "    <tr style=\"text-align: right;\">\n",
       "      <th></th>\n",
       "      <th>Elementary</th>\n",
       "      <th>&lt; HS</th>\n",
       "      <th>HS</th>\n",
       "      <th>&lt; College</th>\n",
       "      <th>College</th>\n",
       "      <th>Masters</th>\n",
       "      <th>PhD</th>\n",
       "    </tr>\n",
       "  </thead>\n",
       "  <tbody>\n",
       "    <tr>\n",
       "      <th>All Professors</th>\n",
       "      <td>2.552365</td>\n",
       "      <td>2.913025</td>\n",
       "      <td>13.691219</td>\n",
       "      <td>9.474268</td>\n",
       "      <td>19.517270</td>\n",
       "      <td>29.601887</td>\n",
       "      <td>22.249965</td>\n",
       "    </tr>\n",
       "    <tr>\n",
       "      <th>White Professors</th>\n",
       "      <td>1.828959</td>\n",
       "      <td>2.167655</td>\n",
       "      <td>14.072820</td>\n",
       "      <td>8.738357</td>\n",
       "      <td>19.305673</td>\n",
       "      <td>30.533446</td>\n",
       "      <td>23.353091</td>\n",
       "    </tr>\n",
       "    <tr>\n",
       "      <th>Black Professors</th>\n",
       "      <td>6.060606</td>\n",
       "      <td>4.040404</td>\n",
       "      <td>16.666667</td>\n",
       "      <td>13.636364</td>\n",
       "      <td>10.606061</td>\n",
       "      <td>31.818182</td>\n",
       "      <td>17.171717</td>\n",
       "    </tr>\n",
       "    <tr>\n",
       "      <th>Hispanic Professors</th>\n",
       "      <td>5.000000</td>\n",
       "      <td>4.687500</td>\n",
       "      <td>15.937500</td>\n",
       "      <td>11.875000</td>\n",
       "      <td>16.875000</td>\n",
       "      <td>28.750000</td>\n",
       "      <td>16.875000</td>\n",
       "    </tr>\n",
       "    <tr>\n",
       "      <th>Asian Professors</th>\n",
       "      <td>5.668016</td>\n",
       "      <td>7.017544</td>\n",
       "      <td>7.422402</td>\n",
       "      <td>12.550607</td>\n",
       "      <td>23.211876</td>\n",
       "      <td>25.775978</td>\n",
       "      <td>18.353576</td>\n",
       "    </tr>\n",
       "    <tr>\n",
       "      <th>American Indian / Native Professors</th>\n",
       "      <td>0.000000</td>\n",
       "      <td>4.166667</td>\n",
       "      <td>18.750000</td>\n",
       "      <td>10.416667</td>\n",
       "      <td>16.666667</td>\n",
       "      <td>37.500000</td>\n",
       "      <td>12.500000</td>\n",
       "    </tr>\n",
       "  </tbody>\n",
       "</table>\n",
       "</div>"
      ],
      "text/plain": [
       "                                     Elementary      < HS         HS  \\\n",
       "All Professors                         2.552365  2.913025  13.691219   \n",
       "White Professors                       1.828959  2.167655  14.072820   \n",
       "Black Professors                       6.060606  4.040404  16.666667   \n",
       "Hispanic Professors                    5.000000  4.687500  15.937500   \n",
       "Asian Professors                       5.668016  7.017544   7.422402   \n",
       "American Indian / Native Professors    0.000000  4.166667  18.750000   \n",
       "\n",
       "                                     < College    College    Masters  \\\n",
       "All Professors                        9.474268  19.517270  29.601887   \n",
       "White Professors                      8.738357  19.305673  30.533446   \n",
       "Black Professors                     13.636364  10.606061  31.818182   \n",
       "Hispanic Professors                  11.875000  16.875000  28.750000   \n",
       "Asian Professors                     12.550607  23.211876  25.775978   \n",
       "American Indian / Native Professors  10.416667  16.666667  37.500000   \n",
       "\n",
       "                                           PhD  \n",
       "All Professors                       22.249965  \n",
       "White Professors                     23.353091  \n",
       "Black Professors                     17.171717  \n",
       "Hispanic Professors                  16.875000  \n",
       "Asian Professors                     18.353576  \n",
       "American Indian / Native Professors  12.500000  "
      ]
     },
     "execution_count": 70,
     "metadata": {},
     "output_type": "execute_result"
    }
   ],
   "source": [
    "education_prior = pd.DataFrame([\n",
    "    is_prof/sum(is_prof), \n",
    "    white_prof_dist/sum(white_prof_dist),\n",
    "    black_prof_dist/sum(black_prof_dist),\n",
    "    hisp_prof_dist/sum(hisp_prof_dist), \n",
    "    asian_prof_dist/sum(asian_prof_dist), \n",
    "    native_prof_dist/sum(native_prof_dist)],\n",
    "    index = ['All Professors', 'White Professors', 'Black Professors', 'Hispanic Professors', \n",
    "             'Asian Professors', 'American Indian / Native Professors'],     \n",
    "    columns = ['Elementary', '< HS', 'HS', '< College', 'College', 'Masters', 'PhD'])\n",
    "\n",
    "education_prior.applymap(lambda x: x*100)#)#.to_latex(float_format=\"%.1f\"))"
   ]
  },
  {
   "cell_type": "code",
   "execution_count": 71,
   "metadata": {},
   "outputs": [
    {
     "name": "stdout",
     "output_type": "stream",
     "text": [
      "0    0.018290\n",
      "1    0.021677\n",
      "2    0.140728\n",
      "3    0.087384\n",
      "4    0.193057\n",
      "5    0.305334\n",
      "6    0.233531\n",
      "dtype: float64\n",
      "0    0.053571\n",
      "1    0.043651\n",
      "2    0.162698\n",
      "3    0.125000\n",
      "4    0.144841\n",
      "5    0.299603\n",
      "6    0.170635\n",
      "dtype: float64\n"
     ]
    }
   ],
   "source": [
    "poc_prof_dist = respondents_zip[(respondents_zip.black == 1) | (respondents_zip.hisp == 1)]['parents_highest_edu_coded'].value_counts()\n",
    "poc_prof_dist = pd.Series([poc_prof_dist.loc[edu_bin].values.sum() for edu_bin in edu_bins]).fillna(0)\n",
    "\n",
    "print((white_prof_dist/sum(white_prof_dist)))\n",
    "print((poc_prof_dist/sum(poc_prof_dist)))"
   ]
  },
  {
   "cell_type": "code",
   "execution_count": 72,
   "metadata": {},
   "outputs": [],
   "source": [
    "white_prof_dist = respondents_zip[(respondents_zip.white == 1) & \n",
    "                                  (respondents_zip.gender_ans == 'Female')]['parents_highest_edu_coded'].value_counts()\n",
    "white_prof_dist = pd.Series([white_prof_dist.loc[white_prof_dist.index.intersection(edu_bin)].values.sum() \n",
    "             for edu_bin in edu_bins]).fillna(0)\n",
    "\n",
    "black_prof_dist = respondents_zip[(respondents_zip.black == 1) & \n",
    "                                  (respondents_zip.gender_ans == 'Female')]['parents_highest_edu_coded'].value_counts()\n",
    "black_prof_dist = pd.Series([black_prof_dist.loc[black_prof_dist.index.intersection(edu_bin)].values.sum() \n",
    "             for edu_bin in edu_bins]).fillna(0)\n",
    "\n",
    "hisp_prof_dist = respondents_zip[(respondents_zip.hisp == 1) & \n",
    "                                 (respondents_zip.gender_ans == 'Female')]['parents_highest_edu_coded'].value_counts()\n",
    "hisp_prof_dist = pd.Series([hisp_prof_dist.loc[hisp_prof_dist.index.intersection(edu_bin)].values.sum() \n",
    "             for edu_bin in edu_bins]).fillna(0)\n",
    "\n",
    "asian_prof_dist = respondents_zip[(respondents_zip.asian == 1) & \n",
    "                                  (respondents_zip.gender_ans == 'Female')]['parents_highest_edu_coded'].value_counts()\n",
    "asian_prof_dist = pd.Series([asian_prof_dist.loc[asian_prof_dist.index.intersection(edu_bin)].values.sum() \n",
    "             for edu_bin in edu_bins]).fillna(0)\n",
    "\n",
    "native_prof_dist = respondents_zip[((respondents_zip.native == 1) | (respondents_zip.hawaii == 1)) &\n",
    "                                   (respondents_zip.gender_ans == 'Female')]['parents_highest_edu_coded'].value_counts()\n",
    "native_prof_dist = pd.Series([native_prof_dist.loc[native_prof_dist.index.intersection(edu_bin)].values.sum() \n",
    "             for edu_bin in edu_bins]).fillna(0)"
   ]
  },
  {
   "cell_type": "code",
   "execution_count": 73,
   "metadata": {},
   "outputs": [
    {
     "name": "stdout",
     "output_type": "stream",
     "text": [
      "\\begin{tabular}{lrrrrrrr}\n",
      "\\toprule\n",
      "{} &   0 &   1 &    2 &    3 &    4 &    5 &    6 \\\\\n",
      "\\midrule\n",
      "White Women Professors                    & 0.9 & 1.7 & 12.1 &  7.3 & 19.5 & 32.9 & 25.5 \\\\\n",
      "Black Women Professors                    & 4.9 & 0.0 & 17.5 & 14.6 & 11.7 & 36.9 & 14.6 \\\\\n",
      "Hispanic Women Professors                 & 2.3 & 2.3 & 13.7 & 15.3 & 15.3 & 31.3 & 19.8 \\\\\n",
      "Asian Women Professors                    & 2.4 & 4.4 &  7.3 & 12.5 & 19.4 & 30.2 & 23.8 \\\\\n",
      "American Indian / Native Women Professors & 0.0 & 5.3 & 21.1 & 10.5 & 10.5 & 36.8 & 15.8 \\\\\n",
      "\\bottomrule\n",
      "\\end{tabular}\n",
      "\n"
     ]
    }
   ],
   "source": [
    "education_prior = pd.DataFrame([\n",
    "    white_prof_dist/sum(white_prof_dist),\n",
    "    black_prof_dist/sum(black_prof_dist),\n",
    "    hisp_prof_dist/sum(hisp_prof_dist), \n",
    "    asian_prof_dist/sum(asian_prof_dist), \n",
    "    native_prof_dist/sum(native_prof_dist)],\n",
    "    index = ['White Women Professors', 'Black Women Professors', \n",
    "             'Hispanic Women Professors', 'Asian Women Professors', \n",
    "             'American Indian / Native Women Professors'])\n",
    "\n",
    "# print(education_prior)\n",
    "print(education_prior.applymap(lambda x: x*100).to_latex(float_format=\"%.1f\"))"
   ]
  },
  {
   "cell_type": "code",
   "execution_count": 74,
   "metadata": {},
   "outputs": [],
   "source": [
    "white_prof_dist = respondents_zip[(respondents_zip.white == 1) & \\\n",
    "                                  (respondents_zip.gender_ans == 'Male')]['parents_highest_edu_coded'].value_counts()\n",
    "white_prof_dist = pd.Series([white_prof_dist.loc[white_prof_dist.index.intersection(edu_bin)].values.sum() \n",
    "                             for edu_bin in edu_bins]).fillna(0)\n",
    "\n",
    "black_prof_dist = respondents_zip[(respondents_zip.black == 1) & \\\n",
    "                                  (respondents_zip.gender_ans == 'Male')]['parents_highest_edu_coded'].value_counts()\n",
    "black_prof_dist = pd.Series([black_prof_dist.loc[black_prof_dist.index.intersection(edu_bin)].values.sum() \n",
    "                             for edu_bin in edu_bins]).fillna(0)\n",
    "\n",
    "hisp_prof_dist = respondents_zip[(respondents_zip.hisp == 1) & \\\n",
    "                                  (respondents_zip.gender_ans == 'Male')]['parents_highest_edu_coded'].value_counts()\n",
    "hisp_prof_dist = pd.Series([hisp_prof_dist.loc[hisp_prof_dist.index.intersection(edu_bin)].values.sum() \n",
    "                             for edu_bin in edu_bins]).fillna(0)\n",
    "\n",
    "asian_prof_dist = respondents_zip[(respondents_zip.asian == 1) & \\\n",
    "                                  (respondents_zip.gender_ans == 'Male')]['parents_highest_edu_coded'].value_counts()\n",
    "asian_prof_dist = pd.Series([asian_prof_dist.loc[asian_prof_dist.index.intersection(edu_bin)].values.sum() \n",
    "                             for edu_bin in edu_bins]).fillna(0)\n",
    "\n",
    "native_prof_dist = respondents_zip[((respondents_zip.native == 1) | (respondents_zip.hawaii == 1)) & \\\n",
    "                                   (respondents_zip.gender_ans == 'Male')]['parents_highest_edu_coded'].value_counts()\n",
    "native_prof_dist = pd.Series([native_prof_dist.loc[native_prof_dist.index.intersection(edu_bin)].values.sum() \n",
    "                             for edu_bin in edu_bins]).fillna(0)"
   ]
  },
  {
   "cell_type": "code",
   "execution_count": 75,
   "metadata": {},
   "outputs": [
    {
     "name": "stdout",
     "output_type": "stream",
     "text": [
      "\\begin{tabular}{lrrrrrrr}\n",
      "\\toprule\n",
      "{} &   0 &   1 &    2 &    3 &    4 &    5 &    6 \\\\\n",
      "\\midrule\n",
      "White Men Professors                    & 2.4 & 2.5 & 15.2 &  9.6 & 19.2 & 29.1 & 22.0 \\\\\n",
      "Black Men Professors                    & 7.4 & 8.4 & 15.8 & 12.6 &  9.5 & 26.3 & 20.0 \\\\\n",
      "Hispanic Men Professors                 & 6.9 & 6.4 & 17.0 &  9.6 & 18.1 & 27.1 & 14.9 \\\\\n",
      "Asian Men Professors                    & 7.3 & 8.4 &  7.5 & 12.4 & 25.3 & 23.4 & 15.7 \\\\\n",
      "American Indian / Native Men Professors & 0.0 & 3.4 & 17.2 & 10.3 & 20.7 & 37.9 & 10.3 \\\\\n",
      "\\bottomrule\n",
      "\\end{tabular}\n",
      "\n"
     ]
    }
   ],
   "source": [
    "education_prior = pd.DataFrame([\n",
    "    white_prof_dist/sum(white_prof_dist),\n",
    "    black_prof_dist/sum(black_prof_dist),\n",
    "    hisp_prof_dist/sum(hisp_prof_dist), \n",
    "    asian_prof_dist/sum(asian_prof_dist), \n",
    "    native_prof_dist/sum(native_prof_dist)],\n",
    "    index = ['White Men Professors', 'Black Men Professors', \n",
    "             'Hispanic Men Professors', 'Asian Men Professors', \n",
    "             'American Indian / Native Men Professors'])\n",
    "\n",
    "print(education_prior.applymap(lambda x: x*100).to_latex(float_format=\"%.1f\"))"
   ]
  },
  {
   "cell_type": "markdown",
   "metadata": {},
   "source": [
    "### Features of faculty without PhDs"
   ]
  },
  {
   "cell_type": "markdown",
   "metadata": {},
   "source": [
    "Are there concentrated more in some disciplines? Did they grow in particular areas of the country (urban, rural, particular states, perhaps reflecting different quality of basic education)? Those of them who managed to get to high prestige places - did they get more support when they were younger? Were they more often men, particular race? Were they richer?"
   ]
  },
  {
   "cell_type": "code",
   "execution_count": 76,
   "metadata": {},
   "outputs": [],
   "source": [
    "temp = respondents_zip[~respondents_zip.parents_had_phd.isna()].copy()\n",
    "temp['parents_had_phd'] = temp['parents_had_phd'].astype(bool)\n",
    "non_phd_depts = temp[~temp.parents_had_phd].likely_department.value_counts(normalize=True)\n",
    "yes_phd_depts = temp[temp.parents_had_phd].likely_department.value_counts(normalize=True)"
   ]
  },
  {
   "cell_type": "code",
   "execution_count": 77,
   "metadata": {},
   "outputs": [
    {
     "data": {
      "text/plain": [
       "Biology                     0.211478\n",
       "Computer Science            0.162196\n",
       "History                     0.149719\n",
       "Physics and/or Astronomy    0.140362\n",
       "Psychology                  0.127261\n",
       "Business                    0.105427\n",
       "Sociology                   0.052402\n",
       "Anthropology                0.051154\n",
       "Name: likely_department, dtype: float64"
      ]
     },
     "execution_count": 77,
     "metadata": {},
     "output_type": "execute_result"
    }
   ],
   "source": [
    "yes_phd_depts"
   ]
  },
  {
   "cell_type": "code",
   "execution_count": 78,
   "metadata": {},
   "outputs": [
    {
     "data": {
      "text/plain": [
       "Biology                     0.217243\n",
       "Business                    0.151999\n",
       "Psychology                  0.138914\n",
       "Computer Science            0.132640\n",
       "Physics and/or Astronomy    0.127263\n",
       "History                     0.117942\n",
       "Sociology                   0.065065\n",
       "Anthropology                0.048934\n",
       "Name: likely_department, dtype: float64"
      ]
     },
     "execution_count": 78,
     "metadata": {},
     "output_type": "execute_result"
    }
   ],
   "source": [
    "non_phd_depts"
   ]
  },
  {
   "cell_type": "code",
   "execution_count": 79,
   "metadata": {},
   "outputs": [],
   "source": [
    "non_phd_income = temp[~temp.parents_had_phd].avg_income\n",
    "yes_phd_income = temp[temp.parents_had_phd].avg_income"
   ]
  },
  {
   "cell_type": "code",
   "execution_count": 80,
   "metadata": {},
   "outputs": [
    {
     "data": {
      "text/plain": [
       "(70.2083475394786, 81.31856450515383)"
      ]
     },
     "execution_count": 80,
     "metadata": {},
     "output_type": "execute_result"
    }
   ],
   "source": [
    "non_phd_income.median(), yes_phd_income.median()"
   ]
  },
  {
   "cell_type": "code",
   "execution_count": 81,
   "metadata": {},
   "outputs": [],
   "source": [
    "non_phd_ruca = temp[~temp.parents_had_phd].ru_class.value_counts(normalize=True)\n",
    "yes_phd_ruca = temp[temp.parents_had_phd].ru_class.value_counts(normalize=True)"
   ]
  },
  {
   "cell_type": "code",
   "execution_count": 82,
   "metadata": {},
   "outputs": [
    {
     "data": {
      "text/plain": [
       "(urban    0.880537\n",
       " rural    0.119463\n",
       " Name: ru_class, dtype: float64,\n",
       " urban    0.94509\n",
       " rural    0.05491\n",
       " Name: ru_class, dtype: float64)"
      ]
     },
     "execution_count": 82,
     "metadata": {},
     "output_type": "execute_result"
    }
   ],
   "source": [
    "non_phd_ruca, yes_phd_ruca"
   ]
  },
  {
   "cell_type": "code",
   "execution_count": 83,
   "metadata": {},
   "outputs": [],
   "source": [
    "temp['support_sum'] = temp[['support_collsin', 'support_collsout', 'support_partner', 'support_friends',\n",
    "                            'support_family', 'support_parents']].sum(axis=1)\n",
    "temp['support_avg'] = temp[['support_collsin', 'support_collsout', 'support_partner', 'support_friends',\n",
    "                            'support_family','support_parents']].mean(axis=1)"
   ]
  },
  {
   "cell_type": "code",
   "execution_count": 84,
   "metadata": {},
   "outputs": [
    {
     "data": {
      "text/html": [
       "<div>\n",
       "<style scoped>\n",
       "    .dataframe tbody tr th:only-of-type {\n",
       "        vertical-align: middle;\n",
       "    }\n",
       "\n",
       "    .dataframe tbody tr th {\n",
       "        vertical-align: top;\n",
       "    }\n",
       "\n",
       "    .dataframe thead th {\n",
       "        text-align: right;\n",
       "    }\n",
       "</style>\n",
       "<table border=\"1\" class=\"dataframe\">\n",
       "  <thead>\n",
       "    <tr style=\"text-align: right;\">\n",
       "      <th></th>\n",
       "      <th>support_collsin</th>\n",
       "      <th>support_collsout</th>\n",
       "      <th>support_partner</th>\n",
       "      <th>support_friends</th>\n",
       "      <th>support_family</th>\n",
       "      <th>support_parents</th>\n",
       "      <th>support_sum</th>\n",
       "      <th>support_avg</th>\n",
       "    </tr>\n",
       "    <tr>\n",
       "      <th>parents_had_phd</th>\n",
       "      <th></th>\n",
       "      <th></th>\n",
       "      <th></th>\n",
       "      <th></th>\n",
       "      <th></th>\n",
       "      <th></th>\n",
       "      <th></th>\n",
       "      <th></th>\n",
       "    </tr>\n",
       "  </thead>\n",
       "  <tbody>\n",
       "    <tr>\n",
       "      <th>False</th>\n",
       "      <td>3.834345</td>\n",
       "      <td>3.930081</td>\n",
       "      <td>4.501171</td>\n",
       "      <td>3.249826</td>\n",
       "      <td>3.365917</td>\n",
       "      <td>3.896320</td>\n",
       "      <td>17.723461</td>\n",
       "      <td>3.800119</td>\n",
       "    </tr>\n",
       "    <tr>\n",
       "      <th>True</th>\n",
       "      <td>3.935355</td>\n",
       "      <td>4.051834</td>\n",
       "      <td>4.500835</td>\n",
       "      <td>3.479132</td>\n",
       "      <td>3.754877</td>\n",
       "      <td>4.457053</td>\n",
       "      <td>18.488155</td>\n",
       "      <td>4.032960</td>\n",
       "    </tr>\n",
       "  </tbody>\n",
       "</table>\n",
       "</div>"
      ],
      "text/plain": [
       "                 support_collsin  support_collsout  support_partner  \\\n",
       "parents_had_phd                                                       \n",
       "False                   3.834345          3.930081         4.501171   \n",
       "True                    3.935355          4.051834         4.500835   \n",
       "\n",
       "                 support_friends  support_family  support_parents  \\\n",
       "parents_had_phd                                                     \n",
       "False                   3.249826        3.365917         3.896320   \n",
       "True                    3.479132        3.754877         4.457053   \n",
       "\n",
       "                 support_sum  support_avg  \n",
       "parents_had_phd                            \n",
       "False              17.723461     3.800119  \n",
       "True               18.488155     4.032960  "
      ]
     },
     "execution_count": 84,
     "metadata": {},
     "output_type": "execute_result"
    }
   ],
   "source": [
    "temp.groupby('parents_had_phd')[['support_collsin', 'support_collsout', 'support_partner', 'support_friends', \n",
    "                                 'support_family', 'support_parents', 'support_sum', 'support_avg']].mean()"
   ]
  },
  {
   "cell_type": "code",
   "execution_count": 85,
   "metadata": {},
   "outputs": [
    {
     "data": {
      "text/html": [
       "<div>\n",
       "<style scoped>\n",
       "    .dataframe tbody tr th:only-of-type {\n",
       "        vertical-align: middle;\n",
       "    }\n",
       "\n",
       "    .dataframe tbody tr th {\n",
       "        vertical-align: top;\n",
       "    }\n",
       "\n",
       "    .dataframe thead th {\n",
       "        text-align: right;\n",
       "    }\n",
       "</style>\n",
       "<table border=\"1\" class=\"dataframe\">\n",
       "  <thead>\n",
       "    <tr style=\"text-align: right;\">\n",
       "      <th></th>\n",
       "      <th>white</th>\n",
       "      <th>black</th>\n",
       "      <th>hisp</th>\n",
       "      <th>asian</th>\n",
       "      <th>native</th>\n",
       "      <th>hawaii</th>\n",
       "    </tr>\n",
       "    <tr>\n",
       "      <th>parents_had_phd</th>\n",
       "      <th></th>\n",
       "      <th></th>\n",
       "      <th></th>\n",
       "      <th></th>\n",
       "      <th></th>\n",
       "      <th></th>\n",
       "    </tr>\n",
       "  </thead>\n",
       "  <tbody>\n",
       "    <tr>\n",
       "      <th>False</th>\n",
       "      <td>0.807493</td>\n",
       "      <td>0.029260</td>\n",
       "      <td>0.047458</td>\n",
       "      <td>0.107939</td>\n",
       "      <td>0.006423</td>\n",
       "      <td>0.001070</td>\n",
       "    </tr>\n",
       "    <tr>\n",
       "      <th>True</th>\n",
       "      <td>0.859726</td>\n",
       "      <td>0.021197</td>\n",
       "      <td>0.033666</td>\n",
       "      <td>0.084788</td>\n",
       "      <td>0.003117</td>\n",
       "      <td>0.000623</td>\n",
       "    </tr>\n",
       "  </tbody>\n",
       "</table>\n",
       "</div>"
      ],
      "text/plain": [
       "                    white     black      hisp     asian    native    hawaii\n",
       "parents_had_phd                                                            \n",
       "False            0.807493  0.029260  0.047458  0.107939  0.006423  0.001070\n",
       "True             0.859726  0.021197  0.033666  0.084788  0.003117  0.000623"
      ]
     },
     "execution_count": 85,
     "metadata": {},
     "output_type": "execute_result"
    }
   ],
   "source": [
    "temp.groupby('parents_had_phd')[['white', 'black', 'hisp', 'asian', 'native', 'hawaii']].mean()"
   ]
  },
  {
   "cell_type": "code",
   "execution_count": 86,
   "metadata": {},
   "outputs": [
    {
     "data": {
      "text/html": [
       "<div>\n",
       "<style scoped>\n",
       "    .dataframe tbody tr th:only-of-type {\n",
       "        vertical-align: middle;\n",
       "    }\n",
       "\n",
       "    .dataframe tbody tr th {\n",
       "        vertical-align: top;\n",
       "    }\n",
       "\n",
       "    .dataframe thead th {\n",
       "        text-align: right;\n",
       "    }\n",
       "</style>\n",
       "<table border=\"1\" class=\"dataframe\">\n",
       "  <thead>\n",
       "    <tr style=\"text-align: right;\">\n",
       "      <th></th>\n",
       "      <th></th>\n",
       "      <th>support_collsin</th>\n",
       "      <th>support_collsout</th>\n",
       "      <th>support_partner</th>\n",
       "      <th>support_friends</th>\n",
       "      <th>support_family</th>\n",
       "      <th>support_parents</th>\n",
       "      <th>support_sum</th>\n",
       "      <th>support_avg</th>\n",
       "    </tr>\n",
       "    <tr>\n",
       "      <th>parents_had_phd</th>\n",
       "      <th>top_20_perc</th>\n",
       "      <th></th>\n",
       "      <th></th>\n",
       "      <th></th>\n",
       "      <th></th>\n",
       "      <th></th>\n",
       "      <th></th>\n",
       "      <th></th>\n",
       "      <th></th>\n",
       "    </tr>\n",
       "  </thead>\n",
       "  <tbody>\n",
       "    <tr>\n",
       "      <th rowspan=\"2\" valign=\"top\">False</th>\n",
       "      <th>False</th>\n",
       "      <td>3.809924</td>\n",
       "      <td>3.913318</td>\n",
       "      <td>4.500958</td>\n",
       "      <td>3.250406</td>\n",
       "      <td>3.369192</td>\n",
       "      <td>3.906849</td>\n",
       "      <td>17.742010</td>\n",
       "      <td>3.794499</td>\n",
       "    </tr>\n",
       "    <tr>\n",
       "      <th>True</th>\n",
       "      <td>3.979687</td>\n",
       "      <td>4.029641</td>\n",
       "      <td>4.502431</td>\n",
       "      <td>3.246330</td>\n",
       "      <td>3.346470</td>\n",
       "      <td>3.834109</td>\n",
       "      <td>17.614914</td>\n",
       "      <td>3.833939</td>\n",
       "    </tr>\n",
       "    <tr>\n",
       "      <th rowspan=\"2\" valign=\"top\">True</th>\n",
       "      <th>False</th>\n",
       "      <td>3.925447</td>\n",
       "      <td>4.056604</td>\n",
       "      <td>4.510417</td>\n",
       "      <td>3.484536</td>\n",
       "      <td>3.770594</td>\n",
       "      <td>4.490695</td>\n",
       "      <td>18.884069</td>\n",
       "      <td>4.042745</td>\n",
       "    </tr>\n",
       "    <tr>\n",
       "      <th>True</th>\n",
       "      <td>3.975709</td>\n",
       "      <td>4.032389</td>\n",
       "      <td>4.462185</td>\n",
       "      <td>3.456140</td>\n",
       "      <td>3.686364</td>\n",
       "      <td>4.318548</td>\n",
       "      <td>16.994048</td>\n",
       "      <td>3.992622</td>\n",
       "    </tr>\n",
       "  </tbody>\n",
       "</table>\n",
       "</div>"
      ],
      "text/plain": [
       "                             support_collsin  support_collsout  \\\n",
       "parents_had_phd top_20_perc                                      \n",
       "False           False               3.809924          3.913318   \n",
       "                True                3.979687          4.029641   \n",
       "True            False               3.925447          4.056604   \n",
       "                True                3.975709          4.032389   \n",
       "\n",
       "                             support_partner  support_friends  support_family  \\\n",
       "parents_had_phd top_20_perc                                                     \n",
       "False           False               4.500958         3.250406        3.369192   \n",
       "                True                4.502431         3.246330        3.346470   \n",
       "True            False               4.510417         3.484536        3.770594   \n",
       "                True                4.462185         3.456140        3.686364   \n",
       "\n",
       "                             support_parents  support_sum  support_avg  \n",
       "parents_had_phd top_20_perc                                             \n",
       "False           False               3.906849    17.742010     3.794499  \n",
       "                True                3.834109    17.614914     3.833939  \n",
       "True            False               4.490695    18.884069     4.042745  \n",
       "                True                4.318548    16.994048     3.992622  "
      ]
     },
     "execution_count": 86,
     "metadata": {},
     "output_type": "execute_result"
    }
   ],
   "source": [
    "alpha = 0.20\n",
    "\n",
    "field_pi = temp.groupby('likely_department').rank_scaled.quantile(alpha)\n",
    "top_pi = temp.likely_department.apply(lambda x: field_pi[x] if x in field_pi else np.nan)\n",
    "\n",
    "temp['top_20_perc'] = (~temp.rank_scaled.isna() & ~temp.likely_department.isna() & (temp.rank_scaled < top_pi))\n",
    "\n",
    "temp.groupby(['parents_had_phd', 'top_20_perc'])[['support_collsin', 'support_collsout', 'support_partner', \n",
    "                                                  'support_friends', 'support_family', 'support_parents', \n",
    "                                                  'support_sum', 'support_avg']].mean()"
   ]
  },
  {
   "cell_type": "code",
   "execution_count": 87,
   "metadata": {},
   "outputs": [
    {
     "name": "stdout",
     "output_type": "stream",
     "text": [
      "4449\n",
      "Ttest_indResult(statistic=3.6345100813411557, pvalue=0.00029417582111712854)\n",
      "(0.07809365686434276, 0.26143361407291066)\n"
     ]
    }
   ],
   "source": [
    "print(len(temp[~temp.parents_had_phd & temp.top_20_perc]['support_collsin'].dropna()) + \\\n",
    "      len(temp[~temp.parents_had_phd & ~temp.top_20_perc]['support_collsin'].dropna()))\n",
    "\n",
    "print(ttest_ind(temp[~temp.parents_had_phd & temp.top_20_perc]['support_collsin'].dropna(),\n",
    "                temp[~temp.parents_had_phd & ~temp.top_20_perc]['support_collsin'].dropna(), equal_var=False))\n",
    "\n",
    "r = sms.CompareMeans(\n",
    "    sms.DescrStatsW(temp[~temp.parents_had_phd & temp.top_20_perc]['support_collsin'].dropna()), \n",
    "    sms.DescrStatsW(temp[~temp.parents_had_phd & ~temp.top_20_perc]['support_collsin'].dropna()))\n",
    "print(r.tconfint_diff(usevar='unequal'))"
   ]
  },
  {
   "cell_type": "code",
   "execution_count": 88,
   "metadata": {},
   "outputs": [
    {
     "name": "stdout",
     "output_type": "stream",
     "text": [
      "4448\n",
      "Ttest_indResult(statistic=2.5942970398400096, pvalue=0.00963300138799685)\n",
      "(0.02832367520005924, 0.20432355031071087)\n"
     ]
    }
   ],
   "source": [
    "print(len(temp[~temp.parents_had_phd & temp.top_20_perc]['support_collsout'].dropna()) + \\\n",
    "      len(temp[~temp.parents_had_phd & ~temp.top_20_perc]['support_collsout'].dropna()))\n",
    "\n",
    "print(ttest_ind(temp[~temp.parents_had_phd & temp.top_20_perc]['support_collsout'].dropna(),\n",
    "                temp[~temp.parents_had_phd & ~temp.top_20_perc]['support_collsout'].dropna(), equal_var=False))\n",
    "\n",
    "r = sms.CompareMeans(\n",
    "    sms.DescrStatsW(temp[~temp.parents_had_phd & temp.top_20_perc]['support_collsout'].dropna()), \n",
    "    sms.DescrStatsW(temp[~temp.parents_had_phd & ~temp.top_20_perc]['support_collsout'].dropna()))\n",
    "print(r.tconfint_diff(usevar='unequal'))"
   ]
  },
  {
   "cell_type": "code",
   "execution_count": 89,
   "metadata": {},
   "outputs": [
    {
     "data": {
      "text/plain": [
       "Ttest_indResult(statistic=-1.3499506512190365, pvalue=0.17738687561823943)"
      ]
     },
     "execution_count": 89,
     "metadata": {},
     "output_type": "execute_result"
    }
   ],
   "source": [
    "ttest_ind(\n",
    "    temp[~temp.parents_had_phd & temp.top_20_perc]['support_parents'].dropna(),\n",
    "    temp[~temp.parents_had_phd & ~temp.top_20_perc]['support_parents'].dropna(),\n",
    "    equal_var=False\n",
    ")"
   ]
  },
  {
   "cell_type": "code",
   "execution_count": 90,
   "metadata": {},
   "outputs": [
    {
     "data": {
      "text/html": [
       "<div>\n",
       "<style scoped>\n",
       "    .dataframe tbody tr th:only-of-type {\n",
       "        vertical-align: middle;\n",
       "    }\n",
       "\n",
       "    .dataframe tbody tr th {\n",
       "        vertical-align: top;\n",
       "    }\n",
       "\n",
       "    .dataframe thead th {\n",
       "        text-align: right;\n",
       "    }\n",
       "</style>\n",
       "<table border=\"1\" class=\"dataframe\">\n",
       "  <thead>\n",
       "    <tr style=\"text-align: right;\">\n",
       "      <th></th>\n",
       "      <th></th>\n",
       "      <th>white</th>\n",
       "      <th>black</th>\n",
       "      <th>hisp</th>\n",
       "      <th>asian</th>\n",
       "      <th>native</th>\n",
       "      <th>hawaii</th>\n",
       "    </tr>\n",
       "    <tr>\n",
       "      <th>parents_had_phd</th>\n",
       "      <th>top_20_perc</th>\n",
       "      <th></th>\n",
       "      <th></th>\n",
       "      <th></th>\n",
       "      <th></th>\n",
       "      <th></th>\n",
       "      <th></th>\n",
       "    </tr>\n",
       "  </thead>\n",
       "  <tbody>\n",
       "    <tr>\n",
       "      <th rowspan=\"2\" valign=\"top\">False</th>\n",
       "      <th>False</th>\n",
       "      <td>0.804888</td>\n",
       "      <td>0.029246</td>\n",
       "      <td>0.047838</td>\n",
       "      <td>0.110508</td>\n",
       "      <td>0.006058</td>\n",
       "      <td>0.001253</td>\n",
       "    </tr>\n",
       "    <tr>\n",
       "      <th>True</th>\n",
       "      <td>0.822738</td>\n",
       "      <td>0.029340</td>\n",
       "      <td>0.045232</td>\n",
       "      <td>0.092910</td>\n",
       "      <td>0.008557</td>\n",
       "      <td>0.000000</td>\n",
       "    </tr>\n",
       "    <tr>\n",
       "      <th rowspan=\"2\" valign=\"top\">True</th>\n",
       "      <th>False</th>\n",
       "      <td>0.858044</td>\n",
       "      <td>0.018927</td>\n",
       "      <td>0.034700</td>\n",
       "      <td>0.089117</td>\n",
       "      <td>0.002366</td>\n",
       "      <td>0.000789</td>\n",
       "    </tr>\n",
       "    <tr>\n",
       "      <th>True</th>\n",
       "      <td>0.866071</td>\n",
       "      <td>0.029762</td>\n",
       "      <td>0.029762</td>\n",
       "      <td>0.068452</td>\n",
       "      <td>0.005952</td>\n",
       "      <td>0.000000</td>\n",
       "    </tr>\n",
       "  </tbody>\n",
       "</table>\n",
       "</div>"
      ],
      "text/plain": [
       "                                white     black      hisp     asian    native  \\\n",
       "parents_had_phd top_20_perc                                                     \n",
       "False           False        0.804888  0.029246  0.047838  0.110508  0.006058   \n",
       "                True         0.822738  0.029340  0.045232  0.092910  0.008557   \n",
       "True            False        0.858044  0.018927  0.034700  0.089117  0.002366   \n",
       "                True         0.866071  0.029762  0.029762  0.068452  0.005952   \n",
       "\n",
       "                               hawaii  \n",
       "parents_had_phd top_20_perc            \n",
       "False           False        0.001253  \n",
       "                True         0.000000  \n",
       "True            False        0.000789  \n",
       "                True         0.000000  "
      ]
     },
     "execution_count": 90,
     "metadata": {},
     "output_type": "execute_result"
    }
   ],
   "source": [
    "temp.groupby(['parents_had_phd', 'top_20_perc'])[['white', 'black', 'hisp', 'asian', 'native', 'hawaii']].mean()"
   ]
  },
  {
   "cell_type": "code",
   "execution_count": 91,
   "metadata": {},
   "outputs": [
    {
     "data": {
      "text/plain": [
       "Ttest_indResult(statistic=1.2279249718242102, pvalue=0.21972895812047086)"
      ]
     },
     "execution_count": 91,
     "metadata": {},
     "output_type": "execute_result"
    }
   ],
   "source": [
    "ttest_ind(\n",
    "    temp[~temp.parents_had_phd & temp.top_20_perc]['white'].dropna(),\n",
    "    temp[~temp.parents_had_phd & ~temp.top_20_perc]['white'].dropna(),\n",
    "    equal_var=False\n",
    ")"
   ]
  },
  {
   "cell_type": "code",
   "execution_count": 92,
   "metadata": {},
   "outputs": [
    {
     "data": {
      "text/plain": [
       "parents_had_phd  top_20_perc  gender_ans       \n",
       "False            False        Male                 0.641095\n",
       "                              Female               0.351380\n",
       "                              Prefer not to say    0.005435\n",
       "                              Other identity       0.002090\n",
       "                 True         Male                 0.649144\n",
       "                              Female               0.343521\n",
       "                              Prefer not to say    0.006112\n",
       "                              Other identity       0.001222\n",
       "True             False        Male                 0.582019\n",
       "                              Female               0.412461\n",
       "                              Prefer not to say    0.004732\n",
       "                              Other identity       0.000789\n",
       "                 True         Male                 0.622024\n",
       "                              Female               0.369048\n",
       "                              Prefer not to say    0.005952\n",
       "                              Other identity       0.002976\n",
       "Name: gender_ans, dtype: float64"
      ]
     },
     "execution_count": 92,
     "metadata": {},
     "output_type": "execute_result"
    }
   ],
   "source": [
    "temp.groupby(['parents_had_phd', 'top_20_perc'])['gender_ans'].value_counts(normalize=True)"
   ]
  },
  {
   "cell_type": "code",
   "execution_count": 93,
   "metadata": {},
   "outputs": [
    {
     "data": {
      "text/plain": [
       "parents_had_phd  top_20_perc\n",
       "False            False          68.947844\n",
       "                 True           80.030364\n",
       "True             False          78.884450\n",
       "                 True           89.682769\n",
       "Name: avg_income, dtype: float64"
      ]
     },
     "execution_count": 93,
     "metadata": {},
     "output_type": "execute_result"
    }
   ],
   "source": [
    "temp.groupby(['parents_had_phd', 'top_20_perc'])['avg_income'].agg('median')"
   ]
  },
  {
   "cell_type": "code",
   "execution_count": 94,
   "metadata": {},
   "outputs": [
    {
     "name": "stdout",
     "output_type": "stream",
     "text": [
      "2974\n",
      "462471.0 5.561573167752722e-08\n",
      "0.4203315055719003\n"
     ]
    }
   ],
   "source": [
    "print(len(temp[~temp.parents_had_phd & temp.top_20_perc]['avg_income'].dropna()) + \n",
    "      len(temp[~temp.parents_had_phd & ~temp.top_20_perc]['avg_income'].dropna()))\n",
    "U1, p = mannwhitneyu(\n",
    "    temp[~temp.parents_had_phd & temp.top_20_perc]['avg_income'].dropna(),\n",
    "    temp[~temp.parents_had_phd & ~temp.top_20_perc]['avg_income'].dropna()\n",
    ")\n",
    "print(U1, p)\n",
    "\n",
    "n1 = len(temp[~temp.parents_had_phd & temp.top_20_perc]['avg_income'].dropna())\n",
    "n2 = len(temp[~temp.parents_had_phd & ~temp.top_20_perc]['avg_income'].dropna())\n",
    "U2 = n1*n2 - U1\n",
    "print(min(U1, U2)/(n1*n2))"
   ]
  },
  {
   "cell_type": "code",
   "execution_count": 95,
   "metadata": {},
   "outputs": [
    {
     "data": {
      "text/plain": [
       "parents_had_phd  top_20_perc  ru_class\n",
       "False            False        urban       0.873433\n",
       "                              rural       0.126567\n",
       "                 True         urban       0.922897\n",
       "                              rural       0.077103\n",
       "True             False        urban       0.946667\n",
       "                              rural       0.053333\n",
       "                 True         urban       0.939086\n",
       "                              rural       0.060914\n",
       "Name: ru_class, dtype: float64"
      ]
     },
     "execution_count": 95,
     "metadata": {},
     "output_type": "execute_result"
    }
   ],
   "source": [
    "temp.groupby(['parents_had_phd', 'top_20_perc'])['ru_class'].value_counts(normalize=True)"
   ]
  },
  {
   "cell_type": "code",
   "execution_count": 96,
   "metadata": {},
   "outputs": [
    {
     "data": {
      "text/plain": [
       "(2.9198321710165445, 0.003502199368949154)"
      ]
     },
     "execution_count": 96,
     "metadata": {},
     "output_type": "execute_result"
    }
   ],
   "source": [
    "proportions_ztest(\n",
    "    [sum(temp[~temp.parents_had_phd & temp.top_20_perc]['ru_class']=='urban'),\n",
    "     sum(temp[~temp.parents_had_phd & ~temp.top_20_perc]['ru_class']=='urban')],\n",
    "    [len(temp[~temp.parents_had_phd & temp.top_20_perc]['ru_class'].dropna()),\n",
    "     len(temp[~temp.parents_had_phd & ~temp.top_20_perc]['ru_class'].dropna())]\n",
    ")"
   ]
  },
  {
   "cell_type": "code",
   "execution_count": 97,
   "metadata": {},
   "outputs": [
    {
     "data": {
      "text/plain": [
       "parents_had_phd\n",
       "False    19.416564\n",
       "True     13.606420\n",
       "Name: phd_rank_scaled, dtype: float64"
      ]
     },
     "execution_count": 97,
     "metadata": {},
     "output_type": "execute_result"
    }
   ],
   "source": [
    "temp.groupby(['parents_had_phd'])['phd_rank_scaled'].mean()"
   ]
  },
  {
   "cell_type": "code",
   "execution_count": 98,
   "metadata": {},
   "outputs": [
    {
     "name": "stdout",
     "output_type": "stream",
     "text": [
      "4906\n",
      "7.07070707070707 11.643835616438356\n",
      "1684329.5 1.8746915709585328e-22\n",
      "0.4041476779611523\n"
     ]
    }
   ],
   "source": [
    "print(len(temp[temp.parents_had_phd]['phd_rank_scaled'].dropna()) +\n",
    "      len(temp[~temp.parents_had_phd]['phd_rank_scaled'].dropna()))\n",
    "\n",
    "print(temp[temp.parents_had_phd]['phd_rank_scaled'].dropna().median(), \n",
    "      temp[~temp.parents_had_phd]['phd_rank_scaled'].dropna().median())\n",
    "\n",
    "U1, p = mannwhitneyu(\n",
    "    temp[temp.parents_had_phd]['phd_rank_scaled'].dropna(),\n",
    "    temp[~temp.parents_had_phd]['phd_rank_scaled'].dropna()\n",
    ")\n",
    "print(U1, p)\n",
    "\n",
    "n1 = len(temp[temp.parents_had_phd]['phd_rank_scaled'].dropna())\n",
    "n2 = len(temp[~temp.parents_had_phd]['phd_rank_scaled'].dropna())\n",
    "U2 = n1*n2 - U1\n",
    "print(min(U1, U2)/(n1*n2))"
   ]
  },
  {
   "cell_type": "code",
   "execution_count": 99,
   "metadata": {},
   "outputs": [
    {
     "data": {
      "text/plain": [
       "parents_had_phd  top_20_perc\n",
       "False            False          21.136079\n",
       "                 True            9.753249\n",
       "True             False          15.380993\n",
       "                 True            6.442706\n",
       "Name: phd_rank_scaled, dtype: float64"
      ]
     },
     "execution_count": 99,
     "metadata": {},
     "output_type": "execute_result"
    }
   ],
   "source": [
    "temp.groupby(['parents_had_phd', 'top_20_perc'])['phd_rank_scaled'].mean()"
   ]
  },
  {
   "cell_type": "code",
   "execution_count": 100,
   "metadata": {},
   "outputs": [
    {
     "name": "stdout",
     "output_type": "stream",
     "text": [
      "3813\n",
      "9.753248616253169 21.13607913121521\n",
      "5.531914893617021 14.042553191489363\n",
      "584657.0 1.4546374074296715e-46\n",
      "0.3135710577352144\n"
     ]
    }
   ],
   "source": [
    "print(len(temp[~temp.parents_had_phd & temp.top_20_perc]['phd_rank_scaled'].dropna()) +  \n",
    "      len(temp[~temp.parents_had_phd & ~temp.top_20_perc]['phd_rank_scaled'].dropna()))\n",
    "\n",
    "print(temp[~temp.parents_had_phd & temp.top_20_perc]['phd_rank_scaled'].dropna().mean(), \n",
    "      temp[~temp.parents_had_phd & ~temp.top_20_perc]['phd_rank_scaled'].dropna().mean())\n",
    "\n",
    "print(temp[~temp.parents_had_phd & temp.top_20_perc]['phd_rank_scaled'].dropna().median(), \n",
    "      temp[~temp.parents_had_phd & ~temp.top_20_perc]['phd_rank_scaled'].dropna().median())\n",
    "\n",
    "U1, p = mannwhitneyu(\n",
    "    temp[~temp.parents_had_phd & temp.top_20_perc]['phd_rank_scaled'].dropna(),\n",
    "    temp[~temp.parents_had_phd & ~temp.top_20_perc]['phd_rank_scaled'].dropna()\n",
    ")\n",
    "print(U1, p)\n",
    "\n",
    "n1 = len(temp[~temp.parents_had_phd & temp.top_20_perc]['phd_rank_scaled'].dropna())\n",
    "n2 = len(temp[~temp.parents_had_phd & ~temp.top_20_perc]['phd_rank_scaled'].dropna())\n",
    "U2 = n1*n2 - U1\n",
    "print(min(U1, U2)/(n1*n2))"
   ]
  },
  {
   "cell_type": "code",
   "execution_count": 101,
   "metadata": {},
   "outputs": [
    {
     "name": "stdout",
     "output_type": "stream",
     "text": [
      "2137830.81625 2556367.3725000015\n"
     ]
    }
   ],
   "source": [
    "alpha = 0.005\n",
    "full_temp = temp[~temp.parents_had_phd][['top_20_perc', 'phd_rank_scaled']].dropna().append(\n",
    "    temp[~temp.parents_had_phd][['top_20_perc', 'phd_rank_scaled']].dropna())\n",
    "\n",
    "test_stats = np.array([])\n",
    "for i in range(1000):\n",
    "    sampled = full_temp.sample(frac = 1, replace = True)    \n",
    "    t, p = mannwhitneyu(sampled[sampled.top_20_perc]['phd_rank_scaled'].dropna(),\n",
    "                        sampled[~sampled.top_20_perc]['phd_rank_scaled'].dropna())\n",
    "    test_stats = np.append(test_stats, t)\n",
    "    \n",
    "print(np.quantile(test_stats, alpha/2), np.quantile(test_stats, 1 - (alpha/2)))"
   ]
  },
  {
   "cell_type": "code",
   "execution_count": null,
   "metadata": {},
   "outputs": [],
   "source": []
  }
 ],
 "metadata": {
  "kernelspec": {
   "display_name": "Python 3",
   "language": "python",
   "name": "python3"
  },
  "language_info": {
   "codemirror_mode": {
    "name": "ipython",
    "version": 3
   },
   "file_extension": ".py",
   "mimetype": "text/x-python",
   "name": "python",
   "nbconvert_exporter": "python",
   "pygments_lexer": "ipython3",
   "version": "3.9.1"
  }
 },
 "nbformat": 4,
 "nbformat_minor": 2
}
